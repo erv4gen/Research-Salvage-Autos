{
 "cells": [
  {
   "cell_type": "code",
   "execution_count": 1,
   "metadata": {},
   "outputs": [],
   "source": [
    "import pandas as pd\n",
    "import numpy as np\n",
    "import glob, sys, os, time , itertools , warnings\n",
    "from bs4 import BeautifulSoup\n",
    "from tqdm import tqdm\n",
    "import multiprocessing as mp\n",
    "# from DataProcessing import \n",
    "\n",
    "warnings.filterwarnings('ignore')\n",
    "\n",
    "with open('nogit\\\\path','r') as f:\n",
    "    path_to_csv = f.read()"
   ]
  },
  {
   "cell_type": "code",
   "execution_count": 2,
   "metadata": {},
   "outputs": [],
   "source": [
    "state_codes = pd.read_excel(path_to_csv+'Us-zipcodes\\\\statecode.xlsx',index_col=0)"
   ]
  },
  {
   "cell_type": "code",
   "execution_count": 3,
   "metadata": {},
   "outputs": [
    {
     "output_type": "execute_result",
     "data": {
      "text/plain": "                  Unemp-Pct-2014  Unemp-Pct-2015  Unemp-Pct-2016  \\\nAbbeville, SC                7.7             6.9             5.5   \nAcadiaParish, LA             5.8             6.8             7.4   \nAccomack, VA                 6.7             5.4             4.9   \nAda, ID                      4.1             3.7             3.3   \nAdair, IA                    4.0             3.2             2.9   \n...                          ...             ...             ...   \nYuma, AZ                    22.9            21.7            18.9   \nYuma, CO                     3.3             2.6             2.1   \nZapata, TX                   5.2             7.6            10.8   \nZavala, TX                  12.1            11.2            13.9   \nZiebach, SD                  5.9             5.1             4.5   \n\n                  Unemp-Pct-2017  Unemp-Pct-2018  Unemp-Pct-2013  \\\nAbbeville, SC                4.6             4.0             9.5   \nAcadiaParish, LA             5.9             5.4             6.0   \nAccomack, VA                 4.5             3.8             7.2   \nAda, ID                      2.8             2.5             5.2   \nAdair, IA                    2.8             2.4             4.2   \n...                          ...             ...             ...   \nYuma, AZ                    17.0            17.0            25.5   \nYuma, CO                     1.5             2.0             4.8   \nZapata, TX                   7.4             5.6             6.2   \nZavala, TX                  11.2             9.5            14.5   \nZiebach, SD                  5.1             5.1             6.2   \n\n                  Unemp-Pct-2012  Unemp-Pct-2011  Unemp-Pct-2010  \nAbbeville, SC               10.6            12.5            13.6  \nAcadiaParish, LA             6.0             6.7             7.3  \nAccomack, VA                 7.9             8.4             7.9  \nAda, ID                      6.2             7.3             8.3  \nAdair, IA                    4.4             4.9             5.5  \n...                          ...             ...             ...  \nYuma, AZ                    23.9            24.2            25.1  \nYuma, CO                     5.1             5.3             5.6  \nZapata, TX                   6.3             8.1            10.4  \nZavala, TX                  13.5            14.1            13.9  \nZiebach, SD                  6.9             6.4             5.8  \n\n[3219 rows x 9 columns]",
      "text/html": "<div>\n<style scoped>\n    .dataframe tbody tr th:only-of-type {\n        vertical-align: middle;\n    }\n\n    .dataframe tbody tr th {\n        vertical-align: top;\n    }\n\n    .dataframe thead th {\n        text-align: right;\n    }\n</style>\n<table border=\"1\" class=\"dataframe\">\n  <thead>\n    <tr style=\"text-align: right;\">\n      <th></th>\n      <th>Unemp-Pct-2014</th>\n      <th>Unemp-Pct-2015</th>\n      <th>Unemp-Pct-2016</th>\n      <th>Unemp-Pct-2017</th>\n      <th>Unemp-Pct-2018</th>\n      <th>Unemp-Pct-2013</th>\n      <th>Unemp-Pct-2012</th>\n      <th>Unemp-Pct-2011</th>\n      <th>Unemp-Pct-2010</th>\n    </tr>\n  </thead>\n  <tbody>\n    <tr>\n      <th>Abbeville, SC</th>\n      <td>7.7</td>\n      <td>6.9</td>\n      <td>5.5</td>\n      <td>4.6</td>\n      <td>4.0</td>\n      <td>9.5</td>\n      <td>10.6</td>\n      <td>12.5</td>\n      <td>13.6</td>\n    </tr>\n    <tr>\n      <th>AcadiaParish, LA</th>\n      <td>5.8</td>\n      <td>6.8</td>\n      <td>7.4</td>\n      <td>5.9</td>\n      <td>5.4</td>\n      <td>6.0</td>\n      <td>6.0</td>\n      <td>6.7</td>\n      <td>7.3</td>\n    </tr>\n    <tr>\n      <th>Accomack, VA</th>\n      <td>6.7</td>\n      <td>5.4</td>\n      <td>4.9</td>\n      <td>4.5</td>\n      <td>3.8</td>\n      <td>7.2</td>\n      <td>7.9</td>\n      <td>8.4</td>\n      <td>7.9</td>\n    </tr>\n    <tr>\n      <th>Ada, ID</th>\n      <td>4.1</td>\n      <td>3.7</td>\n      <td>3.3</td>\n      <td>2.8</td>\n      <td>2.5</td>\n      <td>5.2</td>\n      <td>6.2</td>\n      <td>7.3</td>\n      <td>8.3</td>\n    </tr>\n    <tr>\n      <th>Adair, IA</th>\n      <td>4.0</td>\n      <td>3.2</td>\n      <td>2.9</td>\n      <td>2.8</td>\n      <td>2.4</td>\n      <td>4.2</td>\n      <td>4.4</td>\n      <td>4.9</td>\n      <td>5.5</td>\n    </tr>\n    <tr>\n      <th>...</th>\n      <td>...</td>\n      <td>...</td>\n      <td>...</td>\n      <td>...</td>\n      <td>...</td>\n      <td>...</td>\n      <td>...</td>\n      <td>...</td>\n      <td>...</td>\n    </tr>\n    <tr>\n      <th>Yuma, AZ</th>\n      <td>22.9</td>\n      <td>21.7</td>\n      <td>18.9</td>\n      <td>17.0</td>\n      <td>17.0</td>\n      <td>25.5</td>\n      <td>23.9</td>\n      <td>24.2</td>\n      <td>25.1</td>\n    </tr>\n    <tr>\n      <th>Yuma, CO</th>\n      <td>3.3</td>\n      <td>2.6</td>\n      <td>2.1</td>\n      <td>1.5</td>\n      <td>2.0</td>\n      <td>4.8</td>\n      <td>5.1</td>\n      <td>5.3</td>\n      <td>5.6</td>\n    </tr>\n    <tr>\n      <th>Zapata, TX</th>\n      <td>5.2</td>\n      <td>7.6</td>\n      <td>10.8</td>\n      <td>7.4</td>\n      <td>5.6</td>\n      <td>6.2</td>\n      <td>6.3</td>\n      <td>8.1</td>\n      <td>10.4</td>\n    </tr>\n    <tr>\n      <th>Zavala, TX</th>\n      <td>12.1</td>\n      <td>11.2</td>\n      <td>13.9</td>\n      <td>11.2</td>\n      <td>9.5</td>\n      <td>14.5</td>\n      <td>13.5</td>\n      <td>14.1</td>\n      <td>13.9</td>\n    </tr>\n    <tr>\n      <th>Ziebach, SD</th>\n      <td>5.9</td>\n      <td>5.1</td>\n      <td>4.5</td>\n      <td>5.1</td>\n      <td>5.1</td>\n      <td>6.2</td>\n      <td>6.9</td>\n      <td>6.4</td>\n      <td>5.8</td>\n    </tr>\n  </tbody>\n</table>\n<p>3219 rows × 9 columns</p>\n</div>"
     },
     "metadata": {},
     "execution_count": 3
    }
   ],
   "source": [
    "#Unemployment\n",
    "\n",
    "path_to_unemp = path_to_csv+'US-Unemployement\\\\us-county-unemployement20102018.xlsx'\n",
    "\n",
    "unempdf = pd.concat([pd.read_excel(path_to_unemp,sheet_name=i,index_col=0) for i in range(9)],axis=1)\n",
    "\n",
    "col_to_filt = [col for col in unempdf.columns if 'Pct' in col]\n",
    "\n",
    "unempdf= unempdf[col_to_filt]\n",
    "unempdf.columns = ['Unemp-'+col for col in unempdf.columns]\n",
    "\n",
    "unempdf.index = [', '.join(ind.replace('County','').replace(' ','').strip().split(',')) \n",
    "                 for ind in unempdf.index]\n",
    "unempdf.sort_index()"
   ]
  },
  {
   "cell_type": "code",
   "execution_count": 4,
   "metadata": {},
   "outputs": [
    {
     "output_type": "execute_result",
     "data": {
      "text/plain": "Year\n1990    130.700\n1991    136.200\n1992    140.300\n1993    144.500\n1994    148.200\n1995    152.400\n1996    156.900\n1997    160.500\n1998    163.000\n1999    166.600\n2000    172.200\n2001    177.100\n2002    179.900\n2003    184.000\n2004    188.900\n2005    195.300\n2006    201.600\n2007    207.342\n2008    215.303\n2009    214.537\n2010    218.056\n2011    224.939\n2012    229.594\n2013    232.957\n2014    236.736\n2015    237.017\n2016    240.007\n2017    245.120\nName: Annual, dtype: float64"
     },
     "metadata": {},
     "execution_count": 4
    }
   ],
   "source": [
    "#CPI Data\n",
    "path_to_cpi = path_to_csv+'US-CPI\\\\SeriesReport-20191118124049_549fff.xlsx'\n",
    "cpi_df = pd.read_excel(path_to_cpi,skiprows=11,index_col=0)['Annual'][:-2]; cpi_df"
   ]
  },
  {
   "cell_type": "code",
   "execution_count": 5,
   "metadata": {},
   "outputs": [
    {
     "output_type": "execute_result",
     "data": {
      "text/plain": "                   1990     1991     1992     1993     1994     1995     1996  \\\nGeoName                                                                         \nAutauga, AL     15482.0  16417.0  17063.0  17700.0  18683.0  19350.0  20155.0   \nBaldwin, AL     15831.0  16954.0  18107.0  19106.0  20129.0  21153.0  22342.0   \nBarbour, AL     13490.0  14180.0  14943.0  15349.0  15930.0  15912.0  16109.0   \nBibb, AL        12672.0  12896.0  13494.0  13936.0  14686.0  15352.0  15892.0   \nBlount, AL      13797.0  14269.0  14761.0  15205.0  15923.0  16537.0  17663.0   \n...                 ...      ...      ...      ...      ...      ...      ...   \nSweetwater, WY  18111.0  18439.0  19487.0  20244.0  21577.0  22176.0  23424.0   \nTeton, WY       35525.0  35656.0  38354.0  42881.0  43988.0  48664.0  51107.0   \nUinta, WY       15083.0  16215.0  16638.0  17522.0  17758.0  18800.0  19298.0   \nWashakie, WY    15944.0  17099.0  18175.0  19004.0  19613.0  20087.0  20994.0   \nWeston, WY      17867.0  18420.0  18574.0  19658.0  19804.0  20561.0  20945.0   \n\n                   1997     1998     1999  ...      2008      2009      2010  \\\nGeoName                                    ...                                 \nAutauga, AL     21076.0  22073.0  22948.0  ...   32876.0   32603.0   33415.0   \nBaldwin, AL     23434.0  24643.0  25373.0  ...   35751.0   34698.0   36282.0   \nBarbour, AL     16670.0  17651.0  19015.0  ...   25678.0   26088.0   27834.0   \nBibb, AL        16375.0  16154.0  16475.0  ...   24983.0   23789.0   25091.0   \nBlount, AL      18109.0  19265.0  19721.0  ...   27661.0   27381.0   27754.0   \n...                 ...      ...      ...  ...       ...       ...       ...   \nSweetwater, WY  24952.0  26366.0  27538.0  ...   47177.0   40995.0   43231.0   \nTeton, WY       54243.0  62147.0  68794.0  ...  152558.0  125633.0  145017.0   \nUinta, WY       20631.0  21484.0  22504.0  ...   40931.0   38479.0   38607.0   \nWashakie, WY    22403.0  23538.0  25247.0  ...   38757.0   36614.0   36464.0   \nWeston, WY      22772.0  22851.0  24962.0  ...   38942.0   37202.0   38045.0   \n\n                    2011      2012      2013      2014      2015      2016  \\\nGeoName                                                                      \nAutauga, AL      34325.0   35040.0   35464.0   36677.0   38591.0   39509.0   \nBaldwin, AL      37804.0   38166.0   38212.0   39561.0   41412.0   43004.0   \nBarbour, AL      28106.0   28145.0   30040.0   29941.0   31509.0   31750.0   \nBibb, AL         25973.0   27028.0   27420.0   28249.0   29048.0   28989.0   \nBlount, AL       28368.0   29600.0   30188.0   31359.0   31987.0   32261.0   \n...                  ...       ...       ...       ...       ...       ...   \nSweetwater, WY   46916.0   47511.0   47736.0   48978.0   49256.0   47555.0   \nTeton, WY       151738.0  194277.0  178164.0  200007.0  204913.0  224366.0   \nUinta, WY        39840.0   40041.0   39091.0   39191.0   38931.0   37866.0   \nWashakie, WY     41606.0   41120.0   41330.0   44218.0   44165.0   44204.0   \nWeston, WY       40359.0   42337.0   43760.0   46850.0   47600.0   42727.0   \n\n                    2017  \nGeoName                   \nAutauga, AL      40484.0  \nBaldwin, AL      44079.0  \nBarbour, AL      33453.0  \nBibb, AL         30022.0  \nBlount, AL       33707.0  \n...                  ...  \nSweetwater, WY   49870.0  \nTeton, WY       233860.0  \nUinta, WY        38797.0  \nWashakie, WY     45933.0  \nWeston, WY       43340.0  \n\n[3138 rows x 28 columns]",
      "text/html": "<div>\n<style scoped>\n    .dataframe tbody tr th:only-of-type {\n        vertical-align: middle;\n    }\n\n    .dataframe tbody tr th {\n        vertical-align: top;\n    }\n\n    .dataframe thead th {\n        text-align: right;\n    }\n</style>\n<table border=\"1\" class=\"dataframe\">\n  <thead>\n    <tr style=\"text-align: right;\">\n      <th></th>\n      <th>1990</th>\n      <th>1991</th>\n      <th>1992</th>\n      <th>1993</th>\n      <th>1994</th>\n      <th>1995</th>\n      <th>1996</th>\n      <th>1997</th>\n      <th>1998</th>\n      <th>1999</th>\n      <th>...</th>\n      <th>2008</th>\n      <th>2009</th>\n      <th>2010</th>\n      <th>2011</th>\n      <th>2012</th>\n      <th>2013</th>\n      <th>2014</th>\n      <th>2015</th>\n      <th>2016</th>\n      <th>2017</th>\n    </tr>\n    <tr>\n      <th>GeoName</th>\n      <th></th>\n      <th></th>\n      <th></th>\n      <th></th>\n      <th></th>\n      <th></th>\n      <th></th>\n      <th></th>\n      <th></th>\n      <th></th>\n      <th></th>\n      <th></th>\n      <th></th>\n      <th></th>\n      <th></th>\n      <th></th>\n      <th></th>\n      <th></th>\n      <th></th>\n      <th></th>\n      <th></th>\n    </tr>\n  </thead>\n  <tbody>\n    <tr>\n      <th>Autauga, AL</th>\n      <td>15482.0</td>\n      <td>16417.0</td>\n      <td>17063.0</td>\n      <td>17700.0</td>\n      <td>18683.0</td>\n      <td>19350.0</td>\n      <td>20155.0</td>\n      <td>21076.0</td>\n      <td>22073.0</td>\n      <td>22948.0</td>\n      <td>...</td>\n      <td>32876.0</td>\n      <td>32603.0</td>\n      <td>33415.0</td>\n      <td>34325.0</td>\n      <td>35040.0</td>\n      <td>35464.0</td>\n      <td>36677.0</td>\n      <td>38591.0</td>\n      <td>39509.0</td>\n      <td>40484.0</td>\n    </tr>\n    <tr>\n      <th>Baldwin, AL</th>\n      <td>15831.0</td>\n      <td>16954.0</td>\n      <td>18107.0</td>\n      <td>19106.0</td>\n      <td>20129.0</td>\n      <td>21153.0</td>\n      <td>22342.0</td>\n      <td>23434.0</td>\n      <td>24643.0</td>\n      <td>25373.0</td>\n      <td>...</td>\n      <td>35751.0</td>\n      <td>34698.0</td>\n      <td>36282.0</td>\n      <td>37804.0</td>\n      <td>38166.0</td>\n      <td>38212.0</td>\n      <td>39561.0</td>\n      <td>41412.0</td>\n      <td>43004.0</td>\n      <td>44079.0</td>\n    </tr>\n    <tr>\n      <th>Barbour, AL</th>\n      <td>13490.0</td>\n      <td>14180.0</td>\n      <td>14943.0</td>\n      <td>15349.0</td>\n      <td>15930.0</td>\n      <td>15912.0</td>\n      <td>16109.0</td>\n      <td>16670.0</td>\n      <td>17651.0</td>\n      <td>19015.0</td>\n      <td>...</td>\n      <td>25678.0</td>\n      <td>26088.0</td>\n      <td>27834.0</td>\n      <td>28106.0</td>\n      <td>28145.0</td>\n      <td>30040.0</td>\n      <td>29941.0</td>\n      <td>31509.0</td>\n      <td>31750.0</td>\n      <td>33453.0</td>\n    </tr>\n    <tr>\n      <th>Bibb, AL</th>\n      <td>12672.0</td>\n      <td>12896.0</td>\n      <td>13494.0</td>\n      <td>13936.0</td>\n      <td>14686.0</td>\n      <td>15352.0</td>\n      <td>15892.0</td>\n      <td>16375.0</td>\n      <td>16154.0</td>\n      <td>16475.0</td>\n      <td>...</td>\n      <td>24983.0</td>\n      <td>23789.0</td>\n      <td>25091.0</td>\n      <td>25973.0</td>\n      <td>27028.0</td>\n      <td>27420.0</td>\n      <td>28249.0</td>\n      <td>29048.0</td>\n      <td>28989.0</td>\n      <td>30022.0</td>\n    </tr>\n    <tr>\n      <th>Blount, AL</th>\n      <td>13797.0</td>\n      <td>14269.0</td>\n      <td>14761.0</td>\n      <td>15205.0</td>\n      <td>15923.0</td>\n      <td>16537.0</td>\n      <td>17663.0</td>\n      <td>18109.0</td>\n      <td>19265.0</td>\n      <td>19721.0</td>\n      <td>...</td>\n      <td>27661.0</td>\n      <td>27381.0</td>\n      <td>27754.0</td>\n      <td>28368.0</td>\n      <td>29600.0</td>\n      <td>30188.0</td>\n      <td>31359.0</td>\n      <td>31987.0</td>\n      <td>32261.0</td>\n      <td>33707.0</td>\n    </tr>\n    <tr>\n      <th>...</th>\n      <td>...</td>\n      <td>...</td>\n      <td>...</td>\n      <td>...</td>\n      <td>...</td>\n      <td>...</td>\n      <td>...</td>\n      <td>...</td>\n      <td>...</td>\n      <td>...</td>\n      <td>...</td>\n      <td>...</td>\n      <td>...</td>\n      <td>...</td>\n      <td>...</td>\n      <td>...</td>\n      <td>...</td>\n      <td>...</td>\n      <td>...</td>\n      <td>...</td>\n      <td>...</td>\n    </tr>\n    <tr>\n      <th>Sweetwater, WY</th>\n      <td>18111.0</td>\n      <td>18439.0</td>\n      <td>19487.0</td>\n      <td>20244.0</td>\n      <td>21577.0</td>\n      <td>22176.0</td>\n      <td>23424.0</td>\n      <td>24952.0</td>\n      <td>26366.0</td>\n      <td>27538.0</td>\n      <td>...</td>\n      <td>47177.0</td>\n      <td>40995.0</td>\n      <td>43231.0</td>\n      <td>46916.0</td>\n      <td>47511.0</td>\n      <td>47736.0</td>\n      <td>48978.0</td>\n      <td>49256.0</td>\n      <td>47555.0</td>\n      <td>49870.0</td>\n    </tr>\n    <tr>\n      <th>Teton, WY</th>\n      <td>35525.0</td>\n      <td>35656.0</td>\n      <td>38354.0</td>\n      <td>42881.0</td>\n      <td>43988.0</td>\n      <td>48664.0</td>\n      <td>51107.0</td>\n      <td>54243.0</td>\n      <td>62147.0</td>\n      <td>68794.0</td>\n      <td>...</td>\n      <td>152558.0</td>\n      <td>125633.0</td>\n      <td>145017.0</td>\n      <td>151738.0</td>\n      <td>194277.0</td>\n      <td>178164.0</td>\n      <td>200007.0</td>\n      <td>204913.0</td>\n      <td>224366.0</td>\n      <td>233860.0</td>\n    </tr>\n    <tr>\n      <th>Uinta, WY</th>\n      <td>15083.0</td>\n      <td>16215.0</td>\n      <td>16638.0</td>\n      <td>17522.0</td>\n      <td>17758.0</td>\n      <td>18800.0</td>\n      <td>19298.0</td>\n      <td>20631.0</td>\n      <td>21484.0</td>\n      <td>22504.0</td>\n      <td>...</td>\n      <td>40931.0</td>\n      <td>38479.0</td>\n      <td>38607.0</td>\n      <td>39840.0</td>\n      <td>40041.0</td>\n      <td>39091.0</td>\n      <td>39191.0</td>\n      <td>38931.0</td>\n      <td>37866.0</td>\n      <td>38797.0</td>\n    </tr>\n    <tr>\n      <th>Washakie, WY</th>\n      <td>15944.0</td>\n      <td>17099.0</td>\n      <td>18175.0</td>\n      <td>19004.0</td>\n      <td>19613.0</td>\n      <td>20087.0</td>\n      <td>20994.0</td>\n      <td>22403.0</td>\n      <td>23538.0</td>\n      <td>25247.0</td>\n      <td>...</td>\n      <td>38757.0</td>\n      <td>36614.0</td>\n      <td>36464.0</td>\n      <td>41606.0</td>\n      <td>41120.0</td>\n      <td>41330.0</td>\n      <td>44218.0</td>\n      <td>44165.0</td>\n      <td>44204.0</td>\n      <td>45933.0</td>\n    </tr>\n    <tr>\n      <th>Weston, WY</th>\n      <td>17867.0</td>\n      <td>18420.0</td>\n      <td>18574.0</td>\n      <td>19658.0</td>\n      <td>19804.0</td>\n      <td>20561.0</td>\n      <td>20945.0</td>\n      <td>22772.0</td>\n      <td>22851.0</td>\n      <td>24962.0</td>\n      <td>...</td>\n      <td>38942.0</td>\n      <td>37202.0</td>\n      <td>38045.0</td>\n      <td>40359.0</td>\n      <td>42337.0</td>\n      <td>43760.0</td>\n      <td>46850.0</td>\n      <td>47600.0</td>\n      <td>42727.0</td>\n      <td>43340.0</td>\n    </tr>\n  </tbody>\n</table>\n<p>3138 rows × 28 columns</p>\n</div>"
     },
     "metadata": {},
     "execution_count": 5
    }
   ],
   "source": [
    "#Income\n",
    "\n",
    "path_to_income = path_to_csv+'US-Personal-Income\\\\CAINC1__ALL_STATES_1969_2017.xlsx'\n",
    "\n",
    "raw_df = pd.read_excel(path_to_income\n",
    "#                         ,encoding = \"utf-8\"\n",
    "                       # ,error_bad_lines='ignore'\n",
    "                       )\n",
    "\n",
    "income_df = (raw_df.loc[(raw_df['Description']=='Per capita personal income (dollars) 2/') &\n",
    "           (raw_df['GeoName'].str.contains(','))\n",
    "          ].drop(columns=['GeoFIPS','Region','TableName','LineCode','IndustryClassification','Description','Unit'])\n",
    "            .set_index('GeoName')\n",
    "             .replace({'(NA)':np.nan})\n",
    "             .astype(float)\n",
    "             [cpi_df.index]\n",
    "             \n",
    "            )\n",
    "\n",
    "\n",
    "income_df"
   ]
  },
  {
   "cell_type": "code",
   "execution_count": 6,
   "metadata": {},
   "outputs": [
    {
     "output_type": "execute_result",
     "data": {
      "text/plain": "                Income_adj-1990  Income_adj-1991  Income_adj-1992  \\\nGeoName                                                             \nAutauga, AL        25829.709197     26283.592893     26519.526215   \nBaldwin, AL        26411.970436     27143.329104     28142.123963   \nBarbour, AL        22506.315532     22702.159178     23224.595923   \nBibb, AL           21141.588615     20646.477063     20972.542153   \nBlount, AL         23018.505218     22844.648047     22941.729266   \n...                         ...              ...              ...   \nSweetwater, WY     30215.854751     29520.811924     30286.937078   \nTeton, WY          59268.855394     57085.203642     59610.262466   \nUinta, WY          25164.029441     25960.191189     25858.985944   \nWashakie, WY       26600.496282     27375.473891     28247.810406   \nWeston, WY         29808.772395     29490.392952     28867.941155   \n\n                Income_adj-1993  Income_adj-1994  Income_adj-1995  \\\nGeoName                                                             \nAutauga, AL        26709.973702     27489.475358     27686.244094   \nBaldwin, AL        28831.681218     29617.066289     30266.001102   \nBarbour, AL        23162.225218     23438.812955     22767.106772   \nBibb, AL           21029.954436     21608.437355     21965.851129   \nBlount, AL         22944.923737     23428.513414     23661.365302   \n...                         ...              ...              ...   \nSweetwater, WY     30548.966533     31747.599946     31729.723465   \nTeton, WY          64709.061149     64722.316653     69629.115381   \nUinta, WY          26441.364927     26128.464561     26899.296588   \nWashakie, WY       28677.759336     28857.842969     28740.753753   \nWeston, WY         29664.670228     29138.873306     29418.959423   \n\n                Income_adj-1996  Income_adj-1997  Income_adj-1998  \\\nGeoName                                                             \nAutauga, AL        28010.953983     28633.945520     29528.528147   \nBaldwin, AL        31050.396125     31837.534604     32966.589006   \nBarbour, AL        22387.916533     22647.934704     23612.923043   \nBibb, AL           22086.334939     22247.146417     21610.286037   \nBlount, AL         24547.629879     24602.966380     25772.078773   \n...                         ...              ...              ...   \nSweetwater, WY     32554.134761     33899.896025     35271.561325   \nTeton, WY          71027.329458     73694.776374     83138.197742   \nUinta, WY          26819.915156     28029.366579     28740.583460   \nWashakie, WY       29176.976826     30436.813508     31488.356613   \nWeston, WY         29108.877757     30938.138517     30569.310773   \n\n                Income_adj-1999  ...  Income_adj-2008  Income_adj-2009  \\\nGeoName                          ...                                     \nAutauga, AL        30035.708812  ...     33296.373279     33137.779348   \nBaldwin, AL        33209.693205  ...     36208.134843     35267.143141   \nBarbour, AL        24887.964226  ...     26006.335109     26515.915334   \nBibb, AL           21563.460984  ...     25302.448401     24179.205377   \nBlount, AL         25812.019064  ...     28014.690998     27830.124109   \n...                         ...  ...              ...              ...   \nSweetwater, WY     36043.374118  ...     47780.234888     41667.431352   \nTeton, WY          90041.683457  ...    154508.702842    127693.728578   \nUinta, WY          29454.575174  ...     41454.369591     39110.161995   \nWashakie, WY       33044.776903  ...     39252.571455     37214.570839   \nWeston, WY         32671.751933  ...     39439.936982     37812.215664   \n\n                Income_adj-2010  Income_adj-2011  Income_adj-2012  \\\nGeoName                                                             \nAutauga, AL             33415.0     33274.675356     33279.102416   \nBaldwin, AL             36282.0     36647.220020     36248.008641   \nBarbour, AL             27834.0     27245.973068     26730.603239   \nBibb, AL                25091.0     25178.241603     25669.736875   \nBlount, AL              27754.0     27499.956024     28112.483776   \n...                         ...              ...              ...   \nSweetwater, WY          43231.0     45480.398224     45123.385698   \nTeton, WY              145017.0    147094.907188    184513.817922   \nUinta, WY               38607.0     38620.919627     38028.782529   \nWashakie, WY            36464.0     40332.881074     39053.558542   \nWeston, WY              38045.0     39124.038535     40209.399514   \n\n                Income_adj-2013  Income_adj-2014  Income_adj-2015  \\\nGeoName                                                             \nAutauga, AL        33195.559627     33782.947722     35503.778615   \nBaldwin, AL        35767.784922     36439.381488     38099.102900   \nBarbour, AL        28118.503586     27578.461645     28988.327858   \nBibb, AL           25666.090824     26019.971377     26724.204120   \nBlount, AL         28257.036827     28884.572283     29428.088584   \n...                         ...              ...              ...   \nSweetwater, WY     44682.586125     45113.319343     45315.594814   \nTeton, WY         166767.812017    184225.155414    188520.271238   \nUinta, WY          36590.560043     36098.576879     35816.579131   \nWashakie, WY       38686.343317     40728.914098     40631.867081   \nWeston, WY         40960.909352     43153.232293     43792.072299   \n\n                Income_adj-2016  Income_adj-2017  \nGeoName                                           \nAutauga, AL        35895.513481     36014.111880  \nBaldwin, AL        39070.861367     39212.183518  \nBarbour, AL        28846.150321     29759.413218  \nBibb, AL           26337.670918     26707.234138  \nBlount, AL         29310.414346     29985.368766  \n...                         ...              ...  \nSweetwater, WY     43205.627669     44363.792102  \nTeton, WY         203845.523239    208039.230418  \nUinta, WY          34402.781986     34513.375620  \nWashakie, WY       40161.109568     40861.481103  \nWeston, WY         38819.195740     38554.777415  \n\n[3138 rows x 28 columns]",
      "text/html": "<div>\n<style scoped>\n    .dataframe tbody tr th:only-of-type {\n        vertical-align: middle;\n    }\n\n    .dataframe tbody tr th {\n        vertical-align: top;\n    }\n\n    .dataframe thead th {\n        text-align: right;\n    }\n</style>\n<table border=\"1\" class=\"dataframe\">\n  <thead>\n    <tr style=\"text-align: right;\">\n      <th></th>\n      <th>Income_adj-1990</th>\n      <th>Income_adj-1991</th>\n      <th>Income_adj-1992</th>\n      <th>Income_adj-1993</th>\n      <th>Income_adj-1994</th>\n      <th>Income_adj-1995</th>\n      <th>Income_adj-1996</th>\n      <th>Income_adj-1997</th>\n      <th>Income_adj-1998</th>\n      <th>Income_adj-1999</th>\n      <th>...</th>\n      <th>Income_adj-2008</th>\n      <th>Income_adj-2009</th>\n      <th>Income_adj-2010</th>\n      <th>Income_adj-2011</th>\n      <th>Income_adj-2012</th>\n      <th>Income_adj-2013</th>\n      <th>Income_adj-2014</th>\n      <th>Income_adj-2015</th>\n      <th>Income_adj-2016</th>\n      <th>Income_adj-2017</th>\n    </tr>\n    <tr>\n      <th>GeoName</th>\n      <th></th>\n      <th></th>\n      <th></th>\n      <th></th>\n      <th></th>\n      <th></th>\n      <th></th>\n      <th></th>\n      <th></th>\n      <th></th>\n      <th></th>\n      <th></th>\n      <th></th>\n      <th></th>\n      <th></th>\n      <th></th>\n      <th></th>\n      <th></th>\n      <th></th>\n      <th></th>\n      <th></th>\n    </tr>\n  </thead>\n  <tbody>\n    <tr>\n      <th>Autauga, AL</th>\n      <td>25829.709197</td>\n      <td>26283.592893</td>\n      <td>26519.526215</td>\n      <td>26709.973702</td>\n      <td>27489.475358</td>\n      <td>27686.244094</td>\n      <td>28010.953983</td>\n      <td>28633.945520</td>\n      <td>29528.528147</td>\n      <td>30035.708812</td>\n      <td>...</td>\n      <td>33296.373279</td>\n      <td>33137.779348</td>\n      <td>33415.0</td>\n      <td>33274.675356</td>\n      <td>33279.102416</td>\n      <td>33195.559627</td>\n      <td>33782.947722</td>\n      <td>35503.778615</td>\n      <td>35895.513481</td>\n      <td>36014.111880</td>\n    </tr>\n    <tr>\n      <th>Baldwin, AL</th>\n      <td>26411.970436</td>\n      <td>27143.329104</td>\n      <td>28142.123963</td>\n      <td>28831.681218</td>\n      <td>29617.066289</td>\n      <td>30266.001102</td>\n      <td>31050.396125</td>\n      <td>31837.534604</td>\n      <td>32966.589006</td>\n      <td>33209.693205</td>\n      <td>...</td>\n      <td>36208.134843</td>\n      <td>35267.143141</td>\n      <td>36282.0</td>\n      <td>36647.220020</td>\n      <td>36248.008641</td>\n      <td>35767.784922</td>\n      <td>36439.381488</td>\n      <td>38099.102900</td>\n      <td>39070.861367</td>\n      <td>39212.183518</td>\n    </tr>\n    <tr>\n      <th>Barbour, AL</th>\n      <td>22506.315532</td>\n      <td>22702.159178</td>\n      <td>23224.595923</td>\n      <td>23162.225218</td>\n      <td>23438.812955</td>\n      <td>22767.106772</td>\n      <td>22387.916533</td>\n      <td>22647.934704</td>\n      <td>23612.923043</td>\n      <td>24887.964226</td>\n      <td>...</td>\n      <td>26006.335109</td>\n      <td>26515.915334</td>\n      <td>27834.0</td>\n      <td>27245.973068</td>\n      <td>26730.603239</td>\n      <td>28118.503586</td>\n      <td>27578.461645</td>\n      <td>28988.327858</td>\n      <td>28846.150321</td>\n      <td>29759.413218</td>\n    </tr>\n    <tr>\n      <th>Bibb, AL</th>\n      <td>21141.588615</td>\n      <td>20646.477063</td>\n      <td>20972.542153</td>\n      <td>21029.954436</td>\n      <td>21608.437355</td>\n      <td>21965.851129</td>\n      <td>22086.334939</td>\n      <td>22247.146417</td>\n      <td>21610.286037</td>\n      <td>21563.460984</td>\n      <td>...</td>\n      <td>25302.448401</td>\n      <td>24179.205377</td>\n      <td>25091.0</td>\n      <td>25178.241603</td>\n      <td>25669.736875</td>\n      <td>25666.090824</td>\n      <td>26019.971377</td>\n      <td>26724.204120</td>\n      <td>26337.670918</td>\n      <td>26707.234138</td>\n    </tr>\n    <tr>\n      <th>Blount, AL</th>\n      <td>23018.505218</td>\n      <td>22844.648047</td>\n      <td>22941.729266</td>\n      <td>22944.923737</td>\n      <td>23428.513414</td>\n      <td>23661.365302</td>\n      <td>24547.629879</td>\n      <td>24602.966380</td>\n      <td>25772.078773</td>\n      <td>25812.019064</td>\n      <td>...</td>\n      <td>28014.690998</td>\n      <td>27830.124109</td>\n      <td>27754.0</td>\n      <td>27499.956024</td>\n      <td>28112.483776</td>\n      <td>28257.036827</td>\n      <td>28884.572283</td>\n      <td>29428.088584</td>\n      <td>29310.414346</td>\n      <td>29985.368766</td>\n    </tr>\n    <tr>\n      <th>...</th>\n      <td>...</td>\n      <td>...</td>\n      <td>...</td>\n      <td>...</td>\n      <td>...</td>\n      <td>...</td>\n      <td>...</td>\n      <td>...</td>\n      <td>...</td>\n      <td>...</td>\n      <td>...</td>\n      <td>...</td>\n      <td>...</td>\n      <td>...</td>\n      <td>...</td>\n      <td>...</td>\n      <td>...</td>\n      <td>...</td>\n      <td>...</td>\n      <td>...</td>\n      <td>...</td>\n    </tr>\n    <tr>\n      <th>Sweetwater, WY</th>\n      <td>30215.854751</td>\n      <td>29520.811924</td>\n      <td>30286.937078</td>\n      <td>30548.966533</td>\n      <td>31747.599946</td>\n      <td>31729.723465</td>\n      <td>32554.134761</td>\n      <td>33899.896025</td>\n      <td>35271.561325</td>\n      <td>36043.374118</td>\n      <td>...</td>\n      <td>47780.234888</td>\n      <td>41667.431352</td>\n      <td>43231.0</td>\n      <td>45480.398224</td>\n      <td>45123.385698</td>\n      <td>44682.586125</td>\n      <td>45113.319343</td>\n      <td>45315.594814</td>\n      <td>43205.627669</td>\n      <td>44363.792102</td>\n    </tr>\n    <tr>\n      <th>Teton, WY</th>\n      <td>59268.855394</td>\n      <td>57085.203642</td>\n      <td>59610.262466</td>\n      <td>64709.061149</td>\n      <td>64722.316653</td>\n      <td>69629.115381</td>\n      <td>71027.329458</td>\n      <td>73694.776374</td>\n      <td>83138.197742</td>\n      <td>90041.683457</td>\n      <td>...</td>\n      <td>154508.702842</td>\n      <td>127693.728578</td>\n      <td>145017.0</td>\n      <td>147094.907188</td>\n      <td>184513.817922</td>\n      <td>166767.812017</td>\n      <td>184225.155414</td>\n      <td>188520.271238</td>\n      <td>203845.523239</td>\n      <td>208039.230418</td>\n    </tr>\n    <tr>\n      <th>Uinta, WY</th>\n      <td>25164.029441</td>\n      <td>25960.191189</td>\n      <td>25858.985944</td>\n      <td>26441.364927</td>\n      <td>26128.464561</td>\n      <td>26899.296588</td>\n      <td>26819.915156</td>\n      <td>28029.366579</td>\n      <td>28740.583460</td>\n      <td>29454.575174</td>\n      <td>...</td>\n      <td>41454.369591</td>\n      <td>39110.161995</td>\n      <td>38607.0</td>\n      <td>38620.919627</td>\n      <td>38028.782529</td>\n      <td>36590.560043</td>\n      <td>36098.576879</td>\n      <td>35816.579131</td>\n      <td>34402.781986</td>\n      <td>34513.375620</td>\n    </tr>\n    <tr>\n      <th>Washakie, WY</th>\n      <td>26600.496282</td>\n      <td>27375.473891</td>\n      <td>28247.810406</td>\n      <td>28677.759336</td>\n      <td>28857.842969</td>\n      <td>28740.753753</td>\n      <td>29176.976826</td>\n      <td>30436.813508</td>\n      <td>31488.356613</td>\n      <td>33044.776903</td>\n      <td>...</td>\n      <td>39252.571455</td>\n      <td>37214.570839</td>\n      <td>36464.0</td>\n      <td>40332.881074</td>\n      <td>39053.558542</td>\n      <td>38686.343317</td>\n      <td>40728.914098</td>\n      <td>40631.867081</td>\n      <td>40161.109568</td>\n      <td>40861.481103</td>\n    </tr>\n    <tr>\n      <th>Weston, WY</th>\n      <td>29808.772395</td>\n      <td>29490.392952</td>\n      <td>28867.941155</td>\n      <td>29664.670228</td>\n      <td>29138.873306</td>\n      <td>29418.959423</td>\n      <td>29108.877757</td>\n      <td>30938.138517</td>\n      <td>30569.310773</td>\n      <td>32671.751933</td>\n      <td>...</td>\n      <td>39439.936982</td>\n      <td>37812.215664</td>\n      <td>38045.0</td>\n      <td>39124.038535</td>\n      <td>40209.399514</td>\n      <td>40960.909352</td>\n      <td>43153.232293</td>\n      <td>43792.072299</td>\n      <td>38819.195740</td>\n      <td>38554.777415</td>\n    </tr>\n  </tbody>\n</table>\n<p>3138 rows × 28 columns</p>\n</div>"
     },
     "metadata": {},
     "execution_count": 6
    }
   ],
   "source": [
    "#CPI adjusted income \n",
    "base_year = 2010\n",
    "income_df_adj = income_df.copy()\n",
    "for year_ in income_df.columns:\n",
    "    \n",
    "    income_df_adj[year_] = (cpi_df[base_year] / cpi_df[year_]) * income_df[year_] \n",
    "    #income_df_adj[year_] = income_df[year_] / (1+((cpi_df[year_] - cpi_df[base_year]) / cpi_df[base_year]) )\n",
    "    \n",
    "income_df_adj.columns = ['Income_adj-'+str(col) for col in income_df_adj.columns]\n",
    "income_df_adj     "
   ]
  },
  {
   "cell_type": "code",
   "execution_count": 7,
   "metadata": {},
   "outputs": [
    {
     "output_type": "execute_result",
     "data": {
      "text/plain": "    make model  year  Original_MSRP_low  Original_MSRP_high  \\\n0  ACURA    CL  2001            28460.0             30810.0   \n1  ACURA    CL  2002            28530.0             32880.0   \n2  ACURA    CL  2003            28700.0             31050.0   \n3  ACURA   ILX  2013            25900.0             34400.0   \n4  ACURA   ILX  2014            26900.0             34600.0   \n\n   Original_MSRP_mean  Original_MSRP_mean_adj  \n0             29635.0                36488.37  \n1             30705.0                37217.40  \n2             29875.0                35404.47  \n3             30150.0                28221.47  \n4             30750.0                28323.63  ",
      "text/html": "<div>\n<style scoped>\n    .dataframe tbody tr th:only-of-type {\n        vertical-align: middle;\n    }\n\n    .dataframe tbody tr th {\n        vertical-align: top;\n    }\n\n    .dataframe thead th {\n        text-align: right;\n    }\n</style>\n<table border=\"1\" class=\"dataframe\">\n  <thead>\n    <tr style=\"text-align: right;\">\n      <th></th>\n      <th>make</th>\n      <th>model</th>\n      <th>year</th>\n      <th>Original_MSRP_low</th>\n      <th>Original_MSRP_high</th>\n      <th>Original_MSRP_mean</th>\n      <th>Original_MSRP_mean_adj</th>\n    </tr>\n  </thead>\n  <tbody>\n    <tr>\n      <th>0</th>\n      <td>ACURA</td>\n      <td>CL</td>\n      <td>2001</td>\n      <td>28460.0</td>\n      <td>30810.0</td>\n      <td>29635.0</td>\n      <td>36488.37</td>\n    </tr>\n    <tr>\n      <th>1</th>\n      <td>ACURA</td>\n      <td>CL</td>\n      <td>2002</td>\n      <td>28530.0</td>\n      <td>32880.0</td>\n      <td>30705.0</td>\n      <td>37217.40</td>\n    </tr>\n    <tr>\n      <th>2</th>\n      <td>ACURA</td>\n      <td>CL</td>\n      <td>2003</td>\n      <td>28700.0</td>\n      <td>31050.0</td>\n      <td>29875.0</td>\n      <td>35404.47</td>\n    </tr>\n    <tr>\n      <th>3</th>\n      <td>ACURA</td>\n      <td>ILX</td>\n      <td>2013</td>\n      <td>25900.0</td>\n      <td>34400.0</td>\n      <td>30150.0</td>\n      <td>28221.47</td>\n    </tr>\n    <tr>\n      <th>4</th>\n      <td>ACURA</td>\n      <td>ILX</td>\n      <td>2014</td>\n      <td>26900.0</td>\n      <td>34600.0</td>\n      <td>30750.0</td>\n      <td>28323.63</td>\n    </tr>\n  </tbody>\n</table>\n</div>"
     },
     "metadata": {},
     "execution_count": 7
    }
   ],
   "source": [
    "#read carfax data\n",
    "path_to_carfax =path_to_csv+'SC-carfax\\\\processed\\\\MSRP.csv'\n",
    "\n",
    "carfax = pd.read_csv(path_to_carfax,index_col=0) \n",
    "carfax['make'] = carfax['make'].str.upper()\n",
    "carfax['model'] = carfax['model'].str.upper()\n",
    "# carfax['year'] = carfax['year'].astype(str)\n",
    "\n",
    "# carfax['make_key'] = carfax[['make','model','year']].agg('_'.join,axis=1)\n",
    "\n",
    "\n",
    "carfax['Original_MSRP_mean'] =carfax[['Original_MSRP_low','Original_MSRP_high']].mean(axis=1)\n",
    "\n",
    "#CPI adjusted income \n",
    "def cpi_adj(x):\n",
    "    try:\n",
    "        \n",
    "        return round((cpi_df[base_year] / cpi_df[x['year']]) * x['Original_MSRP_mean'],2)\n",
    "    except:\n",
    "        return x['Original_MSRP_mean']\n",
    "\n",
    "\n",
    "carfax['Original_MSRP_mean_adj'] = carfax.apply(cpi_adj\n",
    "                                            ,axis=1)\n",
    "\n",
    "carfax.head()"
   ]
  },
  {
   "cell_type": "code",
   "execution_count": 8,
   "metadata": {},
   "outputs": [],
   "source": [
    "carfax.to_csv(path_to_carfax)"
   ]
  },
  {
   "cell_type": "code",
   "execution_count": 9,
   "metadata": {},
   "outputs": [],
   "source": [
    "# #Income\n",
    "\n",
    "# path_to_income = path_to_database+'/US-Personal-Income/lapi1118_0.xlsx'\n",
    "# income = (pd.read_excel(path_to_income\n",
    "#                        #,sheet_name=1\n",
    "#                        ,skiprows=3\n",
    "# #                        ,index_col=0\n",
    "#                        ,names = ['County',\t'income-2015',\t'income-2016'\n",
    "#                                 ,'income-2017'\n",
    "#                                 ,2017.1,2016.1,\t2017.2,\t2017.3]\n",
    "#                       )\n",
    "#          .iloc[:3216#,:4\n",
    "#               ]\n",
    "             \n",
    "#          )\n",
    "\n",
    "# df_list = [df.iloc[1:] for df in np.split(income,income[income.isnull().all(1)].index)][1:]\n",
    "\n",
    "# df_list_res = []\n",
    "# for i in range(len(df_list)):\n",
    "#     #print(i)\n",
    "#     df_list_res.append(df_list[i].assign(State = lambda x: x.iloc[0,0]).iloc[1:]\n",
    "#                       )\n",
    "# income_df = pd.concat(df_list_res,ignore_index=True)\n",
    "# income_df['State-Code'] =income_df['State'].map(lambda x: state_codes.loc[x,'Postal Code'])\n",
    "# # income_df['County'] = income_df['County'].map(str) +' County'\n",
    "\n",
    "# income_df['County-State'] = income_df['County'].map(str) +', '+ income_df['State-Code'].map(str)\n",
    "# income_df = income_df.set_index('County-State').iloc[:,:-2]\n",
    "# income_df.sort_index()"
   ]
  },
  {
   "cell_type": "code",
   "execution_count": 10,
   "metadata": {},
   "outputs": [
    {
     "output_type": "execute_result",
     "data": {
      "text/plain": "                  CENSUS2010  CENSUS2011  CENSUS2012  CENSUS2013  CENSUS2014  \\\nAbbeville, SC          25417       25060       25000       24880       24775   \nAberdeen, SD           40602       40962       41576       42155       42220   \nAberdeen, WA           72797       72357       71770       71046       70783   \nAbilene, TX           165252      166616      167447      167472      168355   \nAcadiaParish, LA       61773       61853       61991       62294       62664   \n...                      ...         ...         ...         ...         ...   \nYuma, AZ              195751      202883      202589      202589      204283   \nYuma, AZ              195751      202883      202589      202589      204283   \nZanesville, OH         86074       86236       85786       85640       85900   \nZapata, TX             14018       14229       14285       14403       14404   \nZapata, TX             14018       14229       14285       14403       14404   \n\n                  CENSUS2015  CENSUS2016  CENSUS2017  CENSUS2018  \nAbbeville, SC          24775       24633       24560       24541  \nAberdeen, SD           42404       42849       43235       43191  \nAberdeen, WA           71027       71572       72553       73901  \nAbilene, TX           169704      170018      170516      171451  \nAcadiaParish, LA       62681       62793       62514       62190  \n...                      ...         ...         ...         ...  \nYuma, AZ              205456      207520      209756      212128  \nYuma, AZ              205456      207520      209756      212128  \nZanesville, OH         86174       85973       86148       86183  \nZapata, TX             14511       14456       14283       14190  \nZapata, TX             14511       14456       14283       14190  \n\n[2789 rows x 9 columns]",
      "text/html": "<div>\n<style scoped>\n    .dataframe tbody tr th:only-of-type {\n        vertical-align: middle;\n    }\n\n    .dataframe tbody tr th {\n        vertical-align: top;\n    }\n\n    .dataframe thead th {\n        text-align: right;\n    }\n</style>\n<table border=\"1\" class=\"dataframe\">\n  <thead>\n    <tr style=\"text-align: right;\">\n      <th></th>\n      <th>CENSUS2010</th>\n      <th>CENSUS2011</th>\n      <th>CENSUS2012</th>\n      <th>CENSUS2013</th>\n      <th>CENSUS2014</th>\n      <th>CENSUS2015</th>\n      <th>CENSUS2016</th>\n      <th>CENSUS2017</th>\n      <th>CENSUS2018</th>\n    </tr>\n  </thead>\n  <tbody>\n    <tr>\n      <th>Abbeville, SC</th>\n      <td>25417</td>\n      <td>25060</td>\n      <td>25000</td>\n      <td>24880</td>\n      <td>24775</td>\n      <td>24775</td>\n      <td>24633</td>\n      <td>24560</td>\n      <td>24541</td>\n    </tr>\n    <tr>\n      <th>Aberdeen, SD</th>\n      <td>40602</td>\n      <td>40962</td>\n      <td>41576</td>\n      <td>42155</td>\n      <td>42220</td>\n      <td>42404</td>\n      <td>42849</td>\n      <td>43235</td>\n      <td>43191</td>\n    </tr>\n    <tr>\n      <th>Aberdeen, WA</th>\n      <td>72797</td>\n      <td>72357</td>\n      <td>71770</td>\n      <td>71046</td>\n      <td>70783</td>\n      <td>71027</td>\n      <td>71572</td>\n      <td>72553</td>\n      <td>73901</td>\n    </tr>\n    <tr>\n      <th>Abilene, TX</th>\n      <td>165252</td>\n      <td>166616</td>\n      <td>167447</td>\n      <td>167472</td>\n      <td>168355</td>\n      <td>169704</td>\n      <td>170018</td>\n      <td>170516</td>\n      <td>171451</td>\n    </tr>\n    <tr>\n      <th>AcadiaParish, LA</th>\n      <td>61773</td>\n      <td>61853</td>\n      <td>61991</td>\n      <td>62294</td>\n      <td>62664</td>\n      <td>62681</td>\n      <td>62793</td>\n      <td>62514</td>\n      <td>62190</td>\n    </tr>\n    <tr>\n      <th>...</th>\n      <td>...</td>\n      <td>...</td>\n      <td>...</td>\n      <td>...</td>\n      <td>...</td>\n      <td>...</td>\n      <td>...</td>\n      <td>...</td>\n      <td>...</td>\n    </tr>\n    <tr>\n      <th>Yuma, AZ</th>\n      <td>195751</td>\n      <td>202883</td>\n      <td>202589</td>\n      <td>202589</td>\n      <td>204283</td>\n      <td>205456</td>\n      <td>207520</td>\n      <td>209756</td>\n      <td>212128</td>\n    </tr>\n    <tr>\n      <th>Yuma, AZ</th>\n      <td>195751</td>\n      <td>202883</td>\n      <td>202589</td>\n      <td>202589</td>\n      <td>204283</td>\n      <td>205456</td>\n      <td>207520</td>\n      <td>209756</td>\n      <td>212128</td>\n    </tr>\n    <tr>\n      <th>Zanesville, OH</th>\n      <td>86074</td>\n      <td>86236</td>\n      <td>85786</td>\n      <td>85640</td>\n      <td>85900</td>\n      <td>86174</td>\n      <td>85973</td>\n      <td>86148</td>\n      <td>86183</td>\n    </tr>\n    <tr>\n      <th>Zapata, TX</th>\n      <td>14018</td>\n      <td>14229</td>\n      <td>14285</td>\n      <td>14403</td>\n      <td>14404</td>\n      <td>14511</td>\n      <td>14456</td>\n      <td>14283</td>\n      <td>14190</td>\n    </tr>\n    <tr>\n      <th>Zapata, TX</th>\n      <td>14018</td>\n      <td>14229</td>\n      <td>14285</td>\n      <td>14403</td>\n      <td>14404</td>\n      <td>14511</td>\n      <td>14456</td>\n      <td>14283</td>\n      <td>14190</td>\n    </tr>\n  </tbody>\n</table>\n<p>2789 rows × 9 columns</p>\n</div>"
     },
     "metadata": {},
     "execution_count": 10
    }
   ],
   "source": [
    "#population data\n",
    "path_to_pop = path_to_csv + 'US-Population\\\\cbsa-est2018-alldata.xlsx'\n",
    "pop = pd.read_excel(path_to_pop,sheet_name=1#,index_col=0\n",
    "                     )\n",
    "pop['NAME'] =pop['NAME'].str.strip()\n",
    "pop = (pop.set_index('NAME').rename({'CENSUS2010POP': 'CENSUS2010'},axis=1)\n",
    "        .drop(['ESTIMATESBASE2010','POPESTIMATE2010'],axis=1)\n",
    "        )\n",
    "pop.columns = [col.replace('POPESTIMATE','CENSUS') for col in pop.columns]\n",
    "pop.index = [', '.join(ind.replace('County','').replace(' ','').strip().split(',')) for ind in pop.index]\n",
    "pop.sort_index()"
   ]
  },
  {
   "cell_type": "code",
   "execution_count": 11,
   "metadata": {},
   "outputs": [],
   "source": [
    "#fibs codes\n",
    "path_to_c_codes = path_to_csv +'Us-zipcodes\\\\fips_codes_website.xls'\n",
    "county_codes = (pd.read_excel(path_to_c_codes)\n",
    "#                 .query('\"FIPS Entity Code\" ==0')\n",
    "               .assign( County= lambda x: x['GU Name'].str.strip()+ ', '+ x['State Abbreviation'].str.strip()\n",
    "                      )\n",
    "                #.drop(columns=['Name','State'])\n",
    "               )\n",
    "county_codes['FIPS'] = county_codes['State FIPS Code'].map(lambda x: '{0:02d}'.format(x)) + county_codes['County FIPS Code'].map(lambda x: '{0:03d}'.format(x))                \n",
    "county_codes = county_codes.loc[county_codes['Entity Description']=='County',['FIPS','County']]"
   ]
  },
  {
   "cell_type": "code",
   "execution_count": 12,
   "metadata": {},
   "outputs": [
    {
     "output_type": "execute_result",
     "data": {
      "text/plain": "        FIPS          County\n194    01001     Autauga, AL\n195    01003     Baldwin, AL\n196    01005     Barbour, AL\n197    01007        Bibb, AL\n198    01009      Blount, AL\n...      ...             ...\n41358  56037  Sweetwater, WY\n41359  56039       Teton, WY\n41360  56041       Uinta, WY\n41361  56043    Washakie, WY\n41362  56045      Weston, WY\n\n[2959 rows x 2 columns]",
      "text/html": "<div>\n<style scoped>\n    .dataframe tbody tr th:only-of-type {\n        vertical-align: middle;\n    }\n\n    .dataframe tbody tr th {\n        vertical-align: top;\n    }\n\n    .dataframe thead th {\n        text-align: right;\n    }\n</style>\n<table border=\"1\" class=\"dataframe\">\n  <thead>\n    <tr style=\"text-align: right;\">\n      <th></th>\n      <th>FIPS</th>\n      <th>County</th>\n    </tr>\n  </thead>\n  <tbody>\n    <tr>\n      <th>194</th>\n      <td>01001</td>\n      <td>Autauga, AL</td>\n    </tr>\n    <tr>\n      <th>195</th>\n      <td>01003</td>\n      <td>Baldwin, AL</td>\n    </tr>\n    <tr>\n      <th>196</th>\n      <td>01005</td>\n      <td>Barbour, AL</td>\n    </tr>\n    <tr>\n      <th>197</th>\n      <td>01007</td>\n      <td>Bibb, AL</td>\n    </tr>\n    <tr>\n      <th>198</th>\n      <td>01009</td>\n      <td>Blount, AL</td>\n    </tr>\n    <tr>\n      <th>...</th>\n      <td>...</td>\n      <td>...</td>\n    </tr>\n    <tr>\n      <th>41358</th>\n      <td>56037</td>\n      <td>Sweetwater, WY</td>\n    </tr>\n    <tr>\n      <th>41359</th>\n      <td>56039</td>\n      <td>Teton, WY</td>\n    </tr>\n    <tr>\n      <th>41360</th>\n      <td>56041</td>\n      <td>Uinta, WY</td>\n    </tr>\n    <tr>\n      <th>41361</th>\n      <td>56043</td>\n      <td>Washakie, WY</td>\n    </tr>\n    <tr>\n      <th>41362</th>\n      <td>56045</td>\n      <td>Weston, WY</td>\n    </tr>\n  </tbody>\n</table>\n<p>2959 rows × 2 columns</p>\n</div>"
     },
     "metadata": {},
     "execution_count": 12
    }
   ],
   "source": [
    "county_codes"
   ]
  },
  {
   "cell_type": "code",
   "execution_count": 13,
   "metadata": {},
   "outputs": [
    {
     "output_type": "execute_result",
     "data": {
      "text/plain": "       FIPS          County\n0     01001     Autauga, AL\n1     01003     Baldwin, AL\n2     01005     Barbour, AL\n3     01007        Bibb, AL\n4     01009      Blount, AL\n...     ...             ...\n3227  72151     Yabucoa, PR\n3228  72153       Yauco, PR\n3229  78010   St. Croix, VI\n3230  78020    St. John, VI\n3231  78030  St. Thomas, VI\n\n[3232 rows x 2 columns]",
      "text/html": "<div>\n<style scoped>\n    .dataframe tbody tr th:only-of-type {\n        vertical-align: middle;\n    }\n\n    .dataframe tbody tr th {\n        vertical-align: top;\n    }\n\n    .dataframe thead th {\n        text-align: right;\n    }\n</style>\n<table border=\"1\" class=\"dataframe\">\n  <thead>\n    <tr style=\"text-align: right;\">\n      <th></th>\n      <th>FIPS</th>\n      <th>County</th>\n    </tr>\n  </thead>\n  <tbody>\n    <tr>\n      <th>0</th>\n      <td>01001</td>\n      <td>Autauga, AL</td>\n    </tr>\n    <tr>\n      <th>1</th>\n      <td>01003</td>\n      <td>Baldwin, AL</td>\n    </tr>\n    <tr>\n      <th>2</th>\n      <td>01005</td>\n      <td>Barbour, AL</td>\n    </tr>\n    <tr>\n      <th>3</th>\n      <td>01007</td>\n      <td>Bibb, AL</td>\n    </tr>\n    <tr>\n      <th>4</th>\n      <td>01009</td>\n      <td>Blount, AL</td>\n    </tr>\n    <tr>\n      <th>...</th>\n      <td>...</td>\n      <td>...</td>\n    </tr>\n    <tr>\n      <th>3227</th>\n      <td>72151</td>\n      <td>Yabucoa, PR</td>\n    </tr>\n    <tr>\n      <th>3228</th>\n      <td>72153</td>\n      <td>Yauco, PR</td>\n    </tr>\n    <tr>\n      <th>3229</th>\n      <td>78010</td>\n      <td>St. Croix, VI</td>\n    </tr>\n    <tr>\n      <th>3230</th>\n      <td>78020</td>\n      <td>St. John, VI</td>\n    </tr>\n    <tr>\n      <th>3231</th>\n      <td>78030</td>\n      <td>St. Thomas, VI</td>\n    </tr>\n  </tbody>\n</table>\n<p>3232 rows × 2 columns</p>\n</div>"
     },
     "metadata": {},
     "execution_count": 13
    }
   ],
   "source": [
    "#county_codes \n",
    "path_to_c_codes = path_to_csv+'/Us-zipcodes/US-FIBS-County-Codes.csv'\n",
    "county_codes = (pd.read_csv(path_to_c_codes\n",
    "                           #,index_col=0\n",
    "                           )\n",
    "               .assign( County= lambda x: x['Name'].str.strip()+ ', '+ x['State'].str.strip()\n",
    "               ,FIPS = lambda x : x['FIPS'].map(lambda x: '{0:05d}'.format(x) )\n",
    "                      )\n",
    "                .drop(columns=['Name','State'])\n",
    "               )\n",
    "\n",
    "county_codes"
   ]
  },
  {
   "cell_type": "code",
   "execution_count": 15,
   "metadata": {},
   "outputs": [
    {
     "output_type": "stream",
     "name": "stdout",
     "text": "<class 'pandas.core.frame.DataFrame'>\nInt64Index: 22243 entries, 0 to 3178\nData columns (total 57 columns):\nSTUDYNO     22243 non-null int64\nEDITION     22243 non-null int64\nPART        22243 non-null int64\nIDNO        22243 non-null int64\nFIPS_ST     22243 non-null int64\nFIPS_CTY    22243 non-null int64\nCPOPARST    22243 non-null int64\nAG_ARRST    22243 non-null int64\nJURFLAG     22243 non-null int64\nCOVIND      22243 non-null float64\nGRNDTOT     22243 non-null int64\nP1TOT       22243 non-null int64\nP1VLNT      22243 non-null int64\nP1PRPTY     22243 non-null int64\nMURDER      22243 non-null int64\nRAPE        22243 non-null int64\nROBBERY     22243 non-null int64\nAGASSLT     22243 non-null int64\nBURGLRY     22243 non-null int64\nLARCENY     22243 non-null int64\nMVTHEFT     22243 non-null int64\nARSON       22243 non-null int64\nOTHASLT     22243 non-null int64\nFRGYCNT     22243 non-null int64\nFRAUD       22243 non-null int64\nEMBEZL      22243 non-null int64\nSTLNPRP     22243 non-null int64\nVANDLSM     22243 non-null int64\nWEAPONS     22243 non-null int64\nCOMVICE     22243 non-null int64\nSEXOFF      22243 non-null int64\nDRUGTOT     22243 non-null int64\nDRGSALE     22243 non-null int64\nCOCSALE     22243 non-null int64\nMJSALE      22243 non-null int64\nSYNSALE     22243 non-null int64\nOTHSALE     22243 non-null int64\nDRGPOSS     22243 non-null int64\nCOCPOSS     22243 non-null int64\nMJPOSS      22243 non-null int64\nSYNPOSS     22243 non-null int64\nOTHPOSS     22243 non-null int64\nGAMBLE      22243 non-null int64\nBOOKMKG     22243 non-null int64\nNUMBERS     22243 non-null int64\nOTGAMBL     22243 non-null int64\nOFAGFAM     22243 non-null int64\nDUI         22243 non-null int64\nLIQUOR      22243 non-null int64\nDRUNK       22243 non-null int64\nDISORDR     22243 non-null int64\nVAGRANT     22243 non-null int64\nALLOTHR     22243 non-null int64\nSUSPICN     22243 non-null int64\nCURFEW      22243 non-null int64\nRUNAWAY     22243 non-null int64\nyear        22243 non-null object\ndtypes: float64(1), int64(55), object(1)\nmemory usage: 9.8+ MB\nNone    STUDYNO  EDITION  PART  IDNO  FIPS_ST  FIPS_CTY  CPOPARST  AG_ARRST  \\\n0     9999        2     1     1        1         1     52947         3   \n1     9999        2     1     2        1         3    179363        13   \n2     9999        2     1     3        1         5     29470         6   \n3     9999        2     1     4        1         7     21793         5   \n4     9999        2     1     5        1         9     58440         6   \n\n   JURFLAG    COVIND  ...   DUI  LIQUOR  DRUNK  DISORDR  VAGRANT  ALLOTHR  \\\n0        1   92.4317  ...   157      48     45       35        0      338   \n1        0   51.2602  ...  1136     486    859      178       16     3799   \n2        0  100.0000  ...    76      45     24       25        0      307   \n3        1  100.0000  ...    82      37     28       24        0      467   \n4        0   91.4786  ...   109      48     57       15        0      515   \n\n   SUSPICN  CURFEW  RUNAWAY  year  \n0        0       0        7  2009  \n1        0       0        1  2009  \n2        0       0        0  2009  \n3        0       0        0  2009  \n4        0       0        1  2009  \n\n[5 rows x 57 columns] year\n2016    3179\n2012    3178\n2011    3178\n2014    3177\n2013    3177\n2010    3177\n2009    3177\nName: index, dtype: int64\n\n\n Filtered columns:\n        FIPS  GRNDTOT  CPOPARST  year\n0     01001     1588     52947  2009\n1     01003     9990    179363  2009\n2     01005      989     29470  2009\n3     01007     1118     21793  2009\n4     01009     1504     58440  2009\n...     ...      ...       ...   ...\n3174  56039     1026     23306  2016\n3175  56041      780     20587  2016\n3176  56043       93      8213  2016\n3177  56045      243      7182  2016\n3178  56777     1649         0  2016\n\n[22243 rows x 4 columns]\n\n\nUnstacked columns: \n        GRNDTOT_2009  GRNDTOT_2010  GRNDTOT_2011  GRNDTOT_2012  GRNDTOT_2013  \\\nFIPS                                                                          \n01001        1588.0        2710.0           0.0         825.0           0.0   \n01003        9990.0        8503.0           0.0        2195.0           0.0   \n01005         989.0         707.0           0.0         424.0           0.0   \n01007        1118.0         780.0           0.0         241.0           0.0   \n01009        1504.0        1979.0           0.0         254.0           0.0   \n...             ...           ...           ...           ...           ...   \n56039         836.0         755.0         820.0         914.0         992.0   \n56041        1304.0        1158.0         939.0         901.0         942.0   \n56043         382.0         306.0         286.0         272.0         248.0   \n56045         251.0         212.0         211.0         248.0         231.0   \n56777           0.0           0.0           0.0           0.0           0.0   \n\n       GRNDTOT_2014  GRNDTOT_2016  CPOPARST_2009  CPOPARST_2010  \\\nFIPS                                                              \n01001         974.0        2796.0        52947.0        56219.0   \n01003        4480.0       14765.0       179363.0       182265.0   \n01005         435.0         881.0        29470.0        27457.0   \n01007         246.0         751.0        21793.0        22866.0   \n01009         804.0        2172.0        58440.0        57322.0   \n...             ...           ...            ...            ...   \n56039        1031.0        1026.0        20880.0        21294.0   \n56041         729.0         780.0        20995.0        21118.0   \n56043         220.0          93.0         7876.0         8533.0   \n56045         240.0         243.0         7159.0         7208.0   \n56777           0.0        1649.0            0.0            0.0   \n\n       CPOPARST_2011  CPOPARST_2012  CPOPARST_2013  CPOPARST_2014  \\\nFIPS                                                                \n01001            0.0        57161.0        57513.0        57217.0   \n01003            0.0       187467.0       193322.0       198843.0   \n01005            0.0        27228.0        27139.0        27026.0   \n01007            0.0        22907.0        22557.0        22491.0   \n01009            0.0        57909.0        57968.0        58037.0   \n...              ...            ...            ...            ...   \n56039        21465.0        21861.0        21885.0        22395.0   \n56041        21288.0        21290.0        21077.0        20941.0   \n56043         8602.0         8610.0         8469.0         8397.0   \n56045         7266.0         7211.0         7078.0         7115.0   \n56777            0.0            0.0            0.0            0.0   \n\n       CPOPARST_2016  \nFIPS                  \n01001        57135.0  \n01003       207584.0  \n01005        26259.0  \n01007        22535.0  \n01009        57565.0  \n...              ...  \n56039        23306.0  \n56041        20587.0  \n56043         8213.0  \n56045         7182.0  \n56777            0.0  \n\n[3185 rows x 14 columns]\n"
    }
   ],
   "source": [
    "#crime data \n",
    "path_to_cirme = path_to_csv+'US-Crime\\\\'\n",
    "path_to_crime_files = glob.glob(path_to_cirme+'*')\n",
    "\n",
    "crime_df = pd.concat([(pd.read_csv(path_,sep='\\t')\n",
    "                       .assign(year = path_.split('-')[-1]\n",
    "                                           .split('.')[0]\n",
    "                              )\n",
    "                      )\n",
    "                      \n",
    "                      for path_ in path_to_crime_files])\n",
    "\n",
    "print(crime_df.info()\n",
    "      ,crime_df.head()\n",
    "     ,(crime_df.reset_index()\n",
    "       .groupby('year')['index'].count()\n",
    "       .sort_values(ascending=False)\n",
    "      )\n",
    "     )\n",
    "\n",
    "crime_df['FIPS'] = (crime_df['FIPS_ST'].map(lambda x: '{0:02d}'.format(x)) + crime_df['FIPS_CTY'].map(lambda x: '{0:03d}'.format(x)) )#.astype(int)                \n",
    "\n",
    "crime_df_f = crime_df[['FIPS'\n",
    "                          ,'GRNDTOT' #Total number of insedents\n",
    "                          ,'CPOPARST' #TOT CNTY POPULATION-AGENCIES RPRT ARRSTS\n",
    "                          ,'year'\n",
    "                         ]]\n",
    "\n",
    "\n",
    "print('\\n\\n','Filtered columns:\\n',crime_df_f)\n",
    "\n",
    "\n",
    "\n",
    "\n",
    "crime_df_f= crime_df_f.set_index(['FIPS','year']).sort_index().unstack()\n",
    "crime_df_f.columns = crime_df_f.columns.map('_'.join)\n",
    "\n",
    "\n",
    "print('\\n\\nUnstacked columns: \\n' , crime_df_f)"
   ]
  },
  {
   "cell_type": "code",
   "execution_count": 16,
   "metadata": {},
   "outputs": [
    {
     "output_type": "execute_result",
     "data": {
      "text/plain": "       FIPS  GRNDTOT_2009  GRNDTOT_2010  GRNDTOT_2011  GRNDTOT_2012  \\\n0     01001        1588.0        2710.0           0.0         825.0   \n1     01003        9990.0        8503.0           0.0        2195.0   \n2     01005         989.0         707.0           0.0         424.0   \n3     01007        1118.0         780.0           0.0         241.0   \n4     01009        1504.0        1979.0           0.0         254.0   \n...     ...           ...           ...           ...           ...   \n3180  56039         836.0         755.0         820.0         914.0   \n3181  56041        1304.0        1158.0         939.0         901.0   \n3182  56043         382.0         306.0         286.0         272.0   \n3183  56045         251.0         212.0         211.0         248.0   \n3184  56777           0.0           0.0           0.0           0.0   \n\n      GRNDTOT_2013  GRNDTOT_2014  GRNDTOT_2016  CPOPARST_2009  CPOPARST_2010  \\\n0              0.0         974.0        2796.0        52947.0        56219.0   \n1              0.0        4480.0       14765.0       179363.0       182265.0   \n2              0.0         435.0         881.0        29470.0        27457.0   \n3              0.0         246.0         751.0        21793.0        22866.0   \n4              0.0         804.0        2172.0        58440.0        57322.0   \n...            ...           ...           ...            ...            ...   \n3180         992.0        1031.0        1026.0        20880.0        21294.0   \n3181         942.0         729.0         780.0        20995.0        21118.0   \n3182         248.0         220.0          93.0         7876.0         8533.0   \n3183         231.0         240.0         243.0         7159.0         7208.0   \n3184           0.0           0.0        1649.0            0.0            0.0   \n\n      CPOPARST_2011  CPOPARST_2012  CPOPARST_2013  CPOPARST_2014  \\\n0               0.0        57161.0        57513.0        57217.0   \n1               0.0       187467.0       193322.0       198843.0   \n2               0.0        27228.0        27139.0        27026.0   \n3               0.0        22907.0        22557.0        22491.0   \n4               0.0        57909.0        57968.0        58037.0   \n...             ...            ...            ...            ...   \n3180        21465.0        21861.0        21885.0        22395.0   \n3181        21288.0        21290.0        21077.0        20941.0   \n3182         8602.0         8610.0         8469.0         8397.0   \n3183         7266.0         7211.0         7078.0         7115.0   \n3184            0.0            0.0            0.0            0.0   \n\n      CPOPARST_2016        County  \n0           57135.0   Autauga, AL  \n1          207584.0   Baldwin, AL  \n2           26259.0   Barbour, AL  \n3           22535.0      Bibb, AL  \n4           57565.0    Blount, AL  \n...             ...           ...  \n3180        23306.0     Teton, WY  \n3181        20587.0     Uinta, WY  \n3182         8213.0  Washakie, WY  \n3183         7182.0    Weston, WY  \n3184            0.0           NaN  \n\n[3185 rows x 16 columns]",
      "text/html": "<div>\n<style scoped>\n    .dataframe tbody tr th:only-of-type {\n        vertical-align: middle;\n    }\n\n    .dataframe tbody tr th {\n        vertical-align: top;\n    }\n\n    .dataframe thead th {\n        text-align: right;\n    }\n</style>\n<table border=\"1\" class=\"dataframe\">\n  <thead>\n    <tr style=\"text-align: right;\">\n      <th></th>\n      <th>FIPS</th>\n      <th>GRNDTOT_2009</th>\n      <th>GRNDTOT_2010</th>\n      <th>GRNDTOT_2011</th>\n      <th>GRNDTOT_2012</th>\n      <th>GRNDTOT_2013</th>\n      <th>GRNDTOT_2014</th>\n      <th>GRNDTOT_2016</th>\n      <th>CPOPARST_2009</th>\n      <th>CPOPARST_2010</th>\n      <th>CPOPARST_2011</th>\n      <th>CPOPARST_2012</th>\n      <th>CPOPARST_2013</th>\n      <th>CPOPARST_2014</th>\n      <th>CPOPARST_2016</th>\n      <th>County</th>\n    </tr>\n  </thead>\n  <tbody>\n    <tr>\n      <th>0</th>\n      <td>01001</td>\n      <td>1588.0</td>\n      <td>2710.0</td>\n      <td>0.0</td>\n      <td>825.0</td>\n      <td>0.0</td>\n      <td>974.0</td>\n      <td>2796.0</td>\n      <td>52947.0</td>\n      <td>56219.0</td>\n      <td>0.0</td>\n      <td>57161.0</td>\n      <td>57513.0</td>\n      <td>57217.0</td>\n      <td>57135.0</td>\n      <td>Autauga, AL</td>\n    </tr>\n    <tr>\n      <th>1</th>\n      <td>01003</td>\n      <td>9990.0</td>\n      <td>8503.0</td>\n      <td>0.0</td>\n      <td>2195.0</td>\n      <td>0.0</td>\n      <td>4480.0</td>\n      <td>14765.0</td>\n      <td>179363.0</td>\n      <td>182265.0</td>\n      <td>0.0</td>\n      <td>187467.0</td>\n      <td>193322.0</td>\n      <td>198843.0</td>\n      <td>207584.0</td>\n      <td>Baldwin, AL</td>\n    </tr>\n    <tr>\n      <th>2</th>\n      <td>01005</td>\n      <td>989.0</td>\n      <td>707.0</td>\n      <td>0.0</td>\n      <td>424.0</td>\n      <td>0.0</td>\n      <td>435.0</td>\n      <td>881.0</td>\n      <td>29470.0</td>\n      <td>27457.0</td>\n      <td>0.0</td>\n      <td>27228.0</td>\n      <td>27139.0</td>\n      <td>27026.0</td>\n      <td>26259.0</td>\n      <td>Barbour, AL</td>\n    </tr>\n    <tr>\n      <th>3</th>\n      <td>01007</td>\n      <td>1118.0</td>\n      <td>780.0</td>\n      <td>0.0</td>\n      <td>241.0</td>\n      <td>0.0</td>\n      <td>246.0</td>\n      <td>751.0</td>\n      <td>21793.0</td>\n      <td>22866.0</td>\n      <td>0.0</td>\n      <td>22907.0</td>\n      <td>22557.0</td>\n      <td>22491.0</td>\n      <td>22535.0</td>\n      <td>Bibb, AL</td>\n    </tr>\n    <tr>\n      <th>4</th>\n      <td>01009</td>\n      <td>1504.0</td>\n      <td>1979.0</td>\n      <td>0.0</td>\n      <td>254.0</td>\n      <td>0.0</td>\n      <td>804.0</td>\n      <td>2172.0</td>\n      <td>58440.0</td>\n      <td>57322.0</td>\n      <td>0.0</td>\n      <td>57909.0</td>\n      <td>57968.0</td>\n      <td>58037.0</td>\n      <td>57565.0</td>\n      <td>Blount, AL</td>\n    </tr>\n    <tr>\n      <th>...</th>\n      <td>...</td>\n      <td>...</td>\n      <td>...</td>\n      <td>...</td>\n      <td>...</td>\n      <td>...</td>\n      <td>...</td>\n      <td>...</td>\n      <td>...</td>\n      <td>...</td>\n      <td>...</td>\n      <td>...</td>\n      <td>...</td>\n      <td>...</td>\n      <td>...</td>\n      <td>...</td>\n    </tr>\n    <tr>\n      <th>3180</th>\n      <td>56039</td>\n      <td>836.0</td>\n      <td>755.0</td>\n      <td>820.0</td>\n      <td>914.0</td>\n      <td>992.0</td>\n      <td>1031.0</td>\n      <td>1026.0</td>\n      <td>20880.0</td>\n      <td>21294.0</td>\n      <td>21465.0</td>\n      <td>21861.0</td>\n      <td>21885.0</td>\n      <td>22395.0</td>\n      <td>23306.0</td>\n      <td>Teton, WY</td>\n    </tr>\n    <tr>\n      <th>3181</th>\n      <td>56041</td>\n      <td>1304.0</td>\n      <td>1158.0</td>\n      <td>939.0</td>\n      <td>901.0</td>\n      <td>942.0</td>\n      <td>729.0</td>\n      <td>780.0</td>\n      <td>20995.0</td>\n      <td>21118.0</td>\n      <td>21288.0</td>\n      <td>21290.0</td>\n      <td>21077.0</td>\n      <td>20941.0</td>\n      <td>20587.0</td>\n      <td>Uinta, WY</td>\n    </tr>\n    <tr>\n      <th>3182</th>\n      <td>56043</td>\n      <td>382.0</td>\n      <td>306.0</td>\n      <td>286.0</td>\n      <td>272.0</td>\n      <td>248.0</td>\n      <td>220.0</td>\n      <td>93.0</td>\n      <td>7876.0</td>\n      <td>8533.0</td>\n      <td>8602.0</td>\n      <td>8610.0</td>\n      <td>8469.0</td>\n      <td>8397.0</td>\n      <td>8213.0</td>\n      <td>Washakie, WY</td>\n    </tr>\n    <tr>\n      <th>3183</th>\n      <td>56045</td>\n      <td>251.0</td>\n      <td>212.0</td>\n      <td>211.0</td>\n      <td>248.0</td>\n      <td>231.0</td>\n      <td>240.0</td>\n      <td>243.0</td>\n      <td>7159.0</td>\n      <td>7208.0</td>\n      <td>7266.0</td>\n      <td>7211.0</td>\n      <td>7078.0</td>\n      <td>7115.0</td>\n      <td>7182.0</td>\n      <td>Weston, WY</td>\n    </tr>\n    <tr>\n      <th>3184</th>\n      <td>56777</td>\n      <td>0.0</td>\n      <td>0.0</td>\n      <td>0.0</td>\n      <td>0.0</td>\n      <td>0.0</td>\n      <td>0.0</td>\n      <td>1649.0</td>\n      <td>0.0</td>\n      <td>0.0</td>\n      <td>0.0</td>\n      <td>0.0</td>\n      <td>0.0</td>\n      <td>0.0</td>\n      <td>0.0</td>\n      <td>NaN</td>\n    </tr>\n  </tbody>\n</table>\n<p>3185 rows × 16 columns</p>\n</div>"
     },
     "metadata": {},
     "execution_count": 16
    }
   ],
   "source": [
    "#join fips and county columns\n",
    "\n",
    "crime_df_filt = pd.merge(crime_df_f\n",
    "                         ,county_codes\n",
    "                         ,on = 'FIPS'\n",
    "                         ,how='left'\n",
    "                        )\n",
    "\n",
    "\n",
    "crime_df_filt"
   ]
  },
  {
   "cell_type": "code",
   "execution_count": 17,
   "metadata": {},
   "outputs": [
    {
     "output_type": "stream",
     "name": "stdout",
     "text": "Thes FIPS codes don't match: ['01777', '02105', '02158', '02195', '02198', '02230', '02275', '02777', '02999', '04777', '06777', '08014', '08777', '09777', '09999', '12086', '12777', '15005', '16777', '20777', '22777', '23777', '25777', '26777', '27777', '28777', '30777', '31777', '32777', '34999', '35777', '36777', '37777', '38777', '40777', '41777', '44777', '46102', '46777', '48777', '49777', '50999', '53777', '55777', '56777']\n\nDuplicated values: ['12777', '15005', '44777']\n"
    },
    {
     "output_type": "execute_result",
     "data": {
      "text/plain": "       FIPS  GRNDTOT_2009  GRNDTOT_2010  GRNDTOT_2011  GRNDTOT_2012  \\\n398   12777           0.0           0.0           0.0           0.0   \n560   15005           0.0           0.0           0.0           0.0   \n2347  44777           0.0           0.0           0.0           0.0   \n\n      GRNDTOT_2013  GRNDTOT_2014  GRNDTOT_2016  CPOPARST_2009  CPOPARST_2010  \\\n398            0.0           0.0           0.0            0.0            0.0   \n560            0.0           0.0           0.0            0.0            0.0   \n2347           0.0           0.0           0.0            0.0            0.0   \n\n      CPOPARST_2011  CPOPARST_2012  CPOPARST_2013  CPOPARST_2014  \\\n398             0.0            0.0            0.0            0.0   \n560             0.0            0.0            0.0            0.0   \n2347            0.0            0.0            0.0            0.0   \n\n      CPOPARST_2016 County  \n398             0.0    NaN  \n560             0.0    NaN  \n2347            0.0    NaN  ",
      "text/html": "<div>\n<style scoped>\n    .dataframe tbody tr th:only-of-type {\n        vertical-align: middle;\n    }\n\n    .dataframe tbody tr th {\n        vertical-align: top;\n    }\n\n    .dataframe thead th {\n        text-align: right;\n    }\n</style>\n<table border=\"1\" class=\"dataframe\">\n  <thead>\n    <tr style=\"text-align: right;\">\n      <th></th>\n      <th>FIPS</th>\n      <th>GRNDTOT_2009</th>\n      <th>GRNDTOT_2010</th>\n      <th>GRNDTOT_2011</th>\n      <th>GRNDTOT_2012</th>\n      <th>GRNDTOT_2013</th>\n      <th>GRNDTOT_2014</th>\n      <th>GRNDTOT_2016</th>\n      <th>CPOPARST_2009</th>\n      <th>CPOPARST_2010</th>\n      <th>CPOPARST_2011</th>\n      <th>CPOPARST_2012</th>\n      <th>CPOPARST_2013</th>\n      <th>CPOPARST_2014</th>\n      <th>CPOPARST_2016</th>\n      <th>County</th>\n    </tr>\n  </thead>\n  <tbody>\n    <tr>\n      <th>398</th>\n      <td>12777</td>\n      <td>0.0</td>\n      <td>0.0</td>\n      <td>0.0</td>\n      <td>0.0</td>\n      <td>0.0</td>\n      <td>0.0</td>\n      <td>0.0</td>\n      <td>0.0</td>\n      <td>0.0</td>\n      <td>0.0</td>\n      <td>0.0</td>\n      <td>0.0</td>\n      <td>0.0</td>\n      <td>0.0</td>\n      <td>NaN</td>\n    </tr>\n    <tr>\n      <th>560</th>\n      <td>15005</td>\n      <td>0.0</td>\n      <td>0.0</td>\n      <td>0.0</td>\n      <td>0.0</td>\n      <td>0.0</td>\n      <td>0.0</td>\n      <td>0.0</td>\n      <td>0.0</td>\n      <td>0.0</td>\n      <td>0.0</td>\n      <td>0.0</td>\n      <td>0.0</td>\n      <td>0.0</td>\n      <td>0.0</td>\n      <td>NaN</td>\n    </tr>\n    <tr>\n      <th>2347</th>\n      <td>44777</td>\n      <td>0.0</td>\n      <td>0.0</td>\n      <td>0.0</td>\n      <td>0.0</td>\n      <td>0.0</td>\n      <td>0.0</td>\n      <td>0.0</td>\n      <td>0.0</td>\n      <td>0.0</td>\n      <td>0.0</td>\n      <td>0.0</td>\n      <td>0.0</td>\n      <td>0.0</td>\n      <td>0.0</td>\n      <td>NaN</td>\n    </tr>\n  </tbody>\n</table>\n</div>"
     },
     "metadata": {},
     "execution_count": 17
    }
   ],
   "source": [
    "print('Thes FIPS codes don\\'t match:' , crime_df_filt.loc[crime_df_filt['County'].isna(), 'FIPS'].unique().tolist())\n",
    "\n",
    "dupl_fips  =crime_df_filt.set_index('FIPS').duplicated().loc[lambda x: x== True].index.tolist()\n",
    "print('\\nDuplicated values:', dupl_fips)\n",
    "crime_df_filt.loc[lambda x: x['FIPS'].isin(dupl_fips)]"
   ]
  },
  {
   "cell_type": "code",
   "execution_count": 18,
   "metadata": {},
   "outputs": [],
   "source": [
    "crime_df_filt_dropnna = crime_df_filt.drop_duplicates(subset=['FIPS']).dropna(subset=['County']).drop(['FIPS'],axis=1).set_index('County')\n",
    ""
   ]
  },
  {
   "cell_type": "code",
   "execution_count": 19,
   "metadata": {},
   "outputs": [
    {
     "output_type": "execute_result",
     "data": {
      "text/plain": "               # of NAs\nFIPS                  0\nGRNDTOT_2009          8\nGRNDTOT_2010          8\nGRNDTOT_2011          7\nGRNDTOT_2012          7\nGRNDTOT_2013          8\nGRNDTOT_2014          8\nGRNDTOT_2016          6\nCPOPARST_2009         8\nCPOPARST_2010         8\nCPOPARST_2011         7\nCPOPARST_2012         7\nCPOPARST_2013         8\nCPOPARST_2014         8\nCPOPARST_2016         6\nCounty               45",
      "text/html": "<div>\n<style scoped>\n    .dataframe tbody tr th:only-of-type {\n        vertical-align: middle;\n    }\n\n    .dataframe tbody tr th {\n        vertical-align: top;\n    }\n\n    .dataframe thead th {\n        text-align: right;\n    }\n</style>\n<table border=\"1\" class=\"dataframe\">\n  <thead>\n    <tr style=\"text-align: right;\">\n      <th></th>\n      <th># of NAs</th>\n    </tr>\n  </thead>\n  <tbody>\n    <tr>\n      <th>FIPS</th>\n      <td>0</td>\n    </tr>\n    <tr>\n      <th>GRNDTOT_2009</th>\n      <td>8</td>\n    </tr>\n    <tr>\n      <th>GRNDTOT_2010</th>\n      <td>8</td>\n    </tr>\n    <tr>\n      <th>GRNDTOT_2011</th>\n      <td>7</td>\n    </tr>\n    <tr>\n      <th>GRNDTOT_2012</th>\n      <td>7</td>\n    </tr>\n    <tr>\n      <th>GRNDTOT_2013</th>\n      <td>8</td>\n    </tr>\n    <tr>\n      <th>GRNDTOT_2014</th>\n      <td>8</td>\n    </tr>\n    <tr>\n      <th>GRNDTOT_2016</th>\n      <td>6</td>\n    </tr>\n    <tr>\n      <th>CPOPARST_2009</th>\n      <td>8</td>\n    </tr>\n    <tr>\n      <th>CPOPARST_2010</th>\n      <td>8</td>\n    </tr>\n    <tr>\n      <th>CPOPARST_2011</th>\n      <td>7</td>\n    </tr>\n    <tr>\n      <th>CPOPARST_2012</th>\n      <td>7</td>\n    </tr>\n    <tr>\n      <th>CPOPARST_2013</th>\n      <td>8</td>\n    </tr>\n    <tr>\n      <th>CPOPARST_2014</th>\n      <td>8</td>\n    </tr>\n    <tr>\n      <th>CPOPARST_2016</th>\n      <td>6</td>\n    </tr>\n    <tr>\n      <th>County</th>\n      <td>45</td>\n    </tr>\n  </tbody>\n</table>\n</div>"
     },
     "metadata": {},
     "execution_count": 19
    }
   ],
   "source": [
    "crime_df_filt.isna().sum(0).rename('# of NAs').to_frame()"
   ]
  },
  {
   "cell_type": "code",
   "execution_count": 20,
   "metadata": {},
   "outputs": [
    {
     "output_type": "execute_result",
     "data": {
      "text/plain": "                GRNDTOT_2009  GRNDTOT_2010  GRNDTOT_2011  GRNDTOT_2012  \\\nCounty                                                                   \nAutauga, AL           1588.0        2710.0           0.0         825.0   \nBaldwin, AL           9990.0        8503.0           0.0        2195.0   \nBarbour, AL            989.0         707.0           0.0         424.0   \nBibb, AL              1118.0         780.0           0.0         241.0   \nBlount, AL            1504.0        1979.0           0.0         254.0   \n...                      ...           ...           ...           ...   \nSweetwater, WY        3459.0        2927.0        2650.0        1966.0   \nTeton, WY              836.0         755.0         820.0         914.0   \nUinta, WY             1304.0        1158.0         939.0         901.0   \nWashakie, WY           382.0         306.0         286.0         272.0   \nWeston, WY             251.0         212.0         211.0         248.0   \n\n                GRNDTOT_2013  GRNDTOT_2014  GRNDTOT_2016  CPOPARST_2009  \\\nCounty                                                                    \nAutauga, AL              0.0         974.0        2796.0        52947.0   \nBaldwin, AL              0.0        4480.0       14765.0       179363.0   \nBarbour, AL              0.0         435.0         881.0        29470.0   \nBibb, AL                 0.0         246.0         751.0        21793.0   \nBlount, AL               0.0         804.0        2172.0        58440.0   \n...                      ...           ...           ...            ...   \nSweetwater, WY        1757.0        1625.0        1966.0        40752.0   \nTeton, WY              992.0        1031.0        1026.0        20880.0   \nUinta, WY              942.0         729.0         780.0        20995.0   \nWashakie, WY           248.0         220.0          93.0         7876.0   \nWeston, WY             231.0         240.0         243.0         7159.0   \n\n                CPOPARST_2010  CPOPARST_2011  CPOPARST_2012  CPOPARST_2013  \\\nCounty                                                                       \nAutauga, AL           56219.0            0.0        57161.0        57513.0   \nBaldwin, AL          182265.0            0.0       187467.0       193322.0   \nBarbour, AL           27457.0            0.0        27228.0        27139.0   \nBibb, AL              22866.0            0.0        22907.0        22557.0   \nBlount, AL            57322.0            0.0        57909.0        57968.0   \n...                       ...            ...            ...            ...   \nSweetwater, WY        43806.0        44158.0        44817.0        46003.0   \nTeton, WY             21294.0        21465.0        21861.0        21885.0   \nUinta, WY             21118.0        21288.0        21290.0        21077.0   \nWashakie, WY           8533.0         8602.0         8610.0         8469.0   \nWeston, WY             7208.0         7266.0         7211.0         7078.0   \n\n                CPOPARST_2014  CPOPARST_2016  \nCounty                                        \nAutauga, AL           57217.0        57135.0  \nBaldwin, AL          198843.0       207584.0  \nBarbour, AL           27026.0        26259.0  \nBibb, AL              22491.0        22535.0  \nBlount, AL            58037.0        57565.0  \n...                       ...            ...  \nSweetwater, WY        45403.0        44449.0  \nTeton, WY             22395.0        23306.0  \nUinta, WY             20941.0        20587.0  \nWashakie, WY           8397.0         8213.0  \nWeston, WY             7115.0         7182.0  \n\n[3140 rows x 14 columns]",
      "text/html": "<div>\n<style scoped>\n    .dataframe tbody tr th:only-of-type {\n        vertical-align: middle;\n    }\n\n    .dataframe tbody tr th {\n        vertical-align: top;\n    }\n\n    .dataframe thead th {\n        text-align: right;\n    }\n</style>\n<table border=\"1\" class=\"dataframe\">\n  <thead>\n    <tr style=\"text-align: right;\">\n      <th></th>\n      <th>GRNDTOT_2009</th>\n      <th>GRNDTOT_2010</th>\n      <th>GRNDTOT_2011</th>\n      <th>GRNDTOT_2012</th>\n      <th>GRNDTOT_2013</th>\n      <th>GRNDTOT_2014</th>\n      <th>GRNDTOT_2016</th>\n      <th>CPOPARST_2009</th>\n      <th>CPOPARST_2010</th>\n      <th>CPOPARST_2011</th>\n      <th>CPOPARST_2012</th>\n      <th>CPOPARST_2013</th>\n      <th>CPOPARST_2014</th>\n      <th>CPOPARST_2016</th>\n    </tr>\n    <tr>\n      <th>County</th>\n      <th></th>\n      <th></th>\n      <th></th>\n      <th></th>\n      <th></th>\n      <th></th>\n      <th></th>\n      <th></th>\n      <th></th>\n      <th></th>\n      <th></th>\n      <th></th>\n      <th></th>\n      <th></th>\n    </tr>\n  </thead>\n  <tbody>\n    <tr>\n      <th>Autauga, AL</th>\n      <td>1588.0</td>\n      <td>2710.0</td>\n      <td>0.0</td>\n      <td>825.0</td>\n      <td>0.0</td>\n      <td>974.0</td>\n      <td>2796.0</td>\n      <td>52947.0</td>\n      <td>56219.0</td>\n      <td>0.0</td>\n      <td>57161.0</td>\n      <td>57513.0</td>\n      <td>57217.0</td>\n      <td>57135.0</td>\n    </tr>\n    <tr>\n      <th>Baldwin, AL</th>\n      <td>9990.0</td>\n      <td>8503.0</td>\n      <td>0.0</td>\n      <td>2195.0</td>\n      <td>0.0</td>\n      <td>4480.0</td>\n      <td>14765.0</td>\n      <td>179363.0</td>\n      <td>182265.0</td>\n      <td>0.0</td>\n      <td>187467.0</td>\n      <td>193322.0</td>\n      <td>198843.0</td>\n      <td>207584.0</td>\n    </tr>\n    <tr>\n      <th>Barbour, AL</th>\n      <td>989.0</td>\n      <td>707.0</td>\n      <td>0.0</td>\n      <td>424.0</td>\n      <td>0.0</td>\n      <td>435.0</td>\n      <td>881.0</td>\n      <td>29470.0</td>\n      <td>27457.0</td>\n      <td>0.0</td>\n      <td>27228.0</td>\n      <td>27139.0</td>\n      <td>27026.0</td>\n      <td>26259.0</td>\n    </tr>\n    <tr>\n      <th>Bibb, AL</th>\n      <td>1118.0</td>\n      <td>780.0</td>\n      <td>0.0</td>\n      <td>241.0</td>\n      <td>0.0</td>\n      <td>246.0</td>\n      <td>751.0</td>\n      <td>21793.0</td>\n      <td>22866.0</td>\n      <td>0.0</td>\n      <td>22907.0</td>\n      <td>22557.0</td>\n      <td>22491.0</td>\n      <td>22535.0</td>\n    </tr>\n    <tr>\n      <th>Blount, AL</th>\n      <td>1504.0</td>\n      <td>1979.0</td>\n      <td>0.0</td>\n      <td>254.0</td>\n      <td>0.0</td>\n      <td>804.0</td>\n      <td>2172.0</td>\n      <td>58440.0</td>\n      <td>57322.0</td>\n      <td>0.0</td>\n      <td>57909.0</td>\n      <td>57968.0</td>\n      <td>58037.0</td>\n      <td>57565.0</td>\n    </tr>\n    <tr>\n      <th>...</th>\n      <td>...</td>\n      <td>...</td>\n      <td>...</td>\n      <td>...</td>\n      <td>...</td>\n      <td>...</td>\n      <td>...</td>\n      <td>...</td>\n      <td>...</td>\n      <td>...</td>\n      <td>...</td>\n      <td>...</td>\n      <td>...</td>\n      <td>...</td>\n    </tr>\n    <tr>\n      <th>Sweetwater, WY</th>\n      <td>3459.0</td>\n      <td>2927.0</td>\n      <td>2650.0</td>\n      <td>1966.0</td>\n      <td>1757.0</td>\n      <td>1625.0</td>\n      <td>1966.0</td>\n      <td>40752.0</td>\n      <td>43806.0</td>\n      <td>44158.0</td>\n      <td>44817.0</td>\n      <td>46003.0</td>\n      <td>45403.0</td>\n      <td>44449.0</td>\n    </tr>\n    <tr>\n      <th>Teton, WY</th>\n      <td>836.0</td>\n      <td>755.0</td>\n      <td>820.0</td>\n      <td>914.0</td>\n      <td>992.0</td>\n      <td>1031.0</td>\n      <td>1026.0</td>\n      <td>20880.0</td>\n      <td>21294.0</td>\n      <td>21465.0</td>\n      <td>21861.0</td>\n      <td>21885.0</td>\n      <td>22395.0</td>\n      <td>23306.0</td>\n    </tr>\n    <tr>\n      <th>Uinta, WY</th>\n      <td>1304.0</td>\n      <td>1158.0</td>\n      <td>939.0</td>\n      <td>901.0</td>\n      <td>942.0</td>\n      <td>729.0</td>\n      <td>780.0</td>\n      <td>20995.0</td>\n      <td>21118.0</td>\n      <td>21288.0</td>\n      <td>21290.0</td>\n      <td>21077.0</td>\n      <td>20941.0</td>\n      <td>20587.0</td>\n    </tr>\n    <tr>\n      <th>Washakie, WY</th>\n      <td>382.0</td>\n      <td>306.0</td>\n      <td>286.0</td>\n      <td>272.0</td>\n      <td>248.0</td>\n      <td>220.0</td>\n      <td>93.0</td>\n      <td>7876.0</td>\n      <td>8533.0</td>\n      <td>8602.0</td>\n      <td>8610.0</td>\n      <td>8469.0</td>\n      <td>8397.0</td>\n      <td>8213.0</td>\n    </tr>\n    <tr>\n      <th>Weston, WY</th>\n      <td>251.0</td>\n      <td>212.0</td>\n      <td>211.0</td>\n      <td>248.0</td>\n      <td>231.0</td>\n      <td>240.0</td>\n      <td>243.0</td>\n      <td>7159.0</td>\n      <td>7208.0</td>\n      <td>7266.0</td>\n      <td>7211.0</td>\n      <td>7078.0</td>\n      <td>7115.0</td>\n      <td>7182.0</td>\n    </tr>\n  </tbody>\n</table>\n<p>3140 rows × 14 columns</p>\n</div>"
     },
     "metadata": {},
     "execution_count": 20
    }
   ],
   "source": [
    "crime_df_filt_dropnna"
   ]
  },
  {
   "cell_type": "code",
   "execution_count": 21,
   "metadata": {},
   "outputs": [
    {
     "output_type": "execute_result",
     "data": {
      "text/plain": "GRNDTOT_2009      145409.0\nGRNDTOT_2010      135060.0\nGRNDTOT_2011           0.0\nGRNDTOT_2012      116783.0\nGRNDTOT_2013           0.0\nGRNDTOT_2014           0.0\nGRNDTOT_2016           0.0\nCPOPARST_2009    5233386.0\nCPOPARST_2010    5160765.0\nCPOPARST_2011          0.0\nCPOPARST_2012    5185540.0\nCPOPARST_2013    5205440.0\nCPOPARST_2014    5211324.0\nCPOPARST_2016    5185183.0\nName: Cook, IL, dtype: float64"
     },
     "metadata": {},
     "execution_count": 21
    }
   ],
   "source": [
    "# crime_df_filt = crime_df_filt\n",
    "crime_df_filt_dropnna.loc['Cook, IL']"
   ]
  },
  {
   "cell_type": "code",
   "execution_count": 22,
   "metadata": {},
   "outputs": [],
   "source": [
    "# joint_full = unempdf.join(income_df).join(pop)\n",
    "\n",
    "joint_full = unempdf.join(income_df_adj).join(pop).join(crime_df_filt_dropnna)"
   ]
  },
  {
   "cell_type": "code",
   "execution_count": 23,
   "metadata": {},
   "outputs": [
    {
     "output_type": "execute_result",
     "data": {
      "text/plain": "Index(['Unemp-Pct-2014', 'Unemp-Pct-2015', 'Unemp-Pct-2016', 'Unemp-Pct-2017',\n       'Unemp-Pct-2018', 'Unemp-Pct-2013', 'Unemp-Pct-2012', 'Unemp-Pct-2011',\n       'Unemp-Pct-2010', 'Income_adj-1990', 'Income_adj-1991',\n       'Income_adj-1992', 'Income_adj-1993', 'Income_adj-1994',\n       'Income_adj-1995', 'Income_adj-1996', 'Income_adj-1997',\n       'Income_adj-1998', 'Income_adj-1999', 'Income_adj-2000',\n       'Income_adj-2001', 'Income_adj-2002', 'Income_adj-2003',\n       'Income_adj-2004', 'Income_adj-2005', 'Income_adj-2006',\n       'Income_adj-2007', 'Income_adj-2008', 'Income_adj-2009',\n       'Income_adj-2010', 'Income_adj-2011', 'Income_adj-2012',\n       'Income_adj-2013', 'Income_adj-2014', 'Income_adj-2015',\n       'Income_adj-2016', 'Income_adj-2017', 'CENSUS2010', 'CENSUS2010',\n       'CENSUS2011', 'CENSUS2012', 'CENSUS2013', 'CENSUS2014', 'CENSUS2015',\n       'CENSUS2016', 'CENSUS2017', 'CENSUS2018', 'GRNDTOT_2009',\n       'GRNDTOT_2010', 'GRNDTOT_2011', 'GRNDTOT_2012', 'GRNDTOT_2013',\n       'GRNDTOT_2014', 'GRNDTOT_2016', 'CPOPARST_2009', 'CPOPARST_2010',\n       'CPOPARST_2011', 'CPOPARST_2012', 'CPOPARST_2013', 'CPOPARST_2014',\n       'CPOPARST_2016'],\n      dtype='object')"
     },
     "metadata": {},
     "execution_count": 23
    }
   ],
   "source": [
    "joint_full.columns"
   ]
  },
  {
   "cell_type": "code",
   "execution_count": 24,
   "metadata": {},
   "outputs": [],
   "source": [
    "joint_full_nn = joint_full.loc[~joint_full.isnull().any(1)]#.drop(columns=['County'])"
   ]
  },
  {
   "cell_type": "code",
   "execution_count": 25,
   "metadata": {},
   "outputs": [
    {
     "output_type": "execute_result",
     "data": {
      "text/plain": "          Unemp-Pct-2014  Unemp-Pct-2015  Unemp-Pct-2016  Unemp-Pct-2017  \\\nCook, IL             7.5             6.2             6.0             5.1   \n\n          Unemp-Pct-2018  Unemp-Pct-2013  Unemp-Pct-2012  Unemp-Pct-2011  \\\nCook, IL             4.0             9.6             9.6            10.4   \n\n          Unemp-Pct-2010  Income_adj-1990  ...  GRNDTOT_2013  GRNDTOT_2014  \\\nCook, IL            10.9     37194.647774  ...           0.0           0.0   \n\n          GRNDTOT_2016  CPOPARST_2009  CPOPARST_2010  CPOPARST_2011  \\\nCook, IL           0.0      5233386.0      5160765.0            0.0   \n\n          CPOPARST_2012  CPOPARST_2013  CPOPARST_2014  CPOPARST_2016  \nCook, IL      5185540.0      5205440.0      5211324.0      5185183.0  \n\n[1 rows x 61 columns]",
      "text/html": "<div>\n<style scoped>\n    .dataframe tbody tr th:only-of-type {\n        vertical-align: middle;\n    }\n\n    .dataframe tbody tr th {\n        vertical-align: top;\n    }\n\n    .dataframe thead th {\n        text-align: right;\n    }\n</style>\n<table border=\"1\" class=\"dataframe\">\n  <thead>\n    <tr style=\"text-align: right;\">\n      <th></th>\n      <th>Unemp-Pct-2014</th>\n      <th>Unemp-Pct-2015</th>\n      <th>Unemp-Pct-2016</th>\n      <th>Unemp-Pct-2017</th>\n      <th>Unemp-Pct-2018</th>\n      <th>Unemp-Pct-2013</th>\n      <th>Unemp-Pct-2012</th>\n      <th>Unemp-Pct-2011</th>\n      <th>Unemp-Pct-2010</th>\n      <th>Income_adj-1990</th>\n      <th>...</th>\n      <th>GRNDTOT_2013</th>\n      <th>GRNDTOT_2014</th>\n      <th>GRNDTOT_2016</th>\n      <th>CPOPARST_2009</th>\n      <th>CPOPARST_2010</th>\n      <th>CPOPARST_2011</th>\n      <th>CPOPARST_2012</th>\n      <th>CPOPARST_2013</th>\n      <th>CPOPARST_2014</th>\n      <th>CPOPARST_2016</th>\n    </tr>\n  </thead>\n  <tbody>\n    <tr>\n      <th>Cook, IL</th>\n      <td>7.5</td>\n      <td>6.2</td>\n      <td>6.0</td>\n      <td>5.1</td>\n      <td>4.0</td>\n      <td>9.6</td>\n      <td>9.6</td>\n      <td>10.4</td>\n      <td>10.9</td>\n      <td>37194.647774</td>\n      <td>...</td>\n      <td>0.0</td>\n      <td>0.0</td>\n      <td>0.0</td>\n      <td>5233386.0</td>\n      <td>5160765.0</td>\n      <td>0.0</td>\n      <td>5185540.0</td>\n      <td>5205440.0</td>\n      <td>5211324.0</td>\n      <td>5185183.0</td>\n    </tr>\n  </tbody>\n</table>\n<p>1 rows × 61 columns</p>\n</div>"
     },
     "metadata": {},
     "execution_count": 25
    }
   ],
   "source": [
    "joint_full.loc['Cook, IL'].to_frame().T"
   ]
  },
  {
   "cell_type": "code",
   "execution_count": 26,
   "metadata": {},
   "outputs": [],
   "source": [
    "path_to_processed_csv =path_to_csv+'SC-working-folder\\\\'\n",
    "\n",
    "joint_full.reset_index().to_csv(path_to_processed_csv+'demography.csv',index=False)"
   ]
  },
  {
   "cell_type": "code",
   "execution_count": null,
   "metadata": {},
   "outputs": [],
   "source": []
  },
  {
   "cell_type": "code",
   "execution_count": null,
   "metadata": {},
   "outputs": [],
   "source": []
  },
  {
   "cell_type": "code",
   "execution_count": null,
   "metadata": {},
   "outputs": [],
   "source": []
  },
  {
   "cell_type": "code",
   "execution_count": null,
   "metadata": {},
   "outputs": [],
   "source": []
  },
  {
   "cell_type": "code",
   "execution_count": null,
   "metadata": {},
   "outputs": [],
   "source": []
  },
  {
   "cell_type": "code",
   "execution_count": null,
   "metadata": {},
   "outputs": [],
   "source": []
  },
  {
   "cell_type": "code",
   "execution_count": null,
   "metadata": {},
   "outputs": [],
   "source": []
  },
  {
   "cell_type": "code",
   "execution_count": null,
   "metadata": {},
   "outputs": [],
   "source": []
  },
  {
   "cell_type": "code",
   "execution_count": null,
   "metadata": {},
   "outputs": [],
   "source": []
  },
  {
   "cell_type": "code",
   "execution_count": null,
   "metadata": {},
   "outputs": [],
   "source": []
  }
 ],
 "metadata": {
  "kernelspec": {
   "display_name": "Python 3.7.6 64-bit ('sc-research': conda)",
   "language": "python",
   "name": "python37664bitscresearchconda2d2e4dda169440c0a50b32c55aebe5a5"
  },
  "language_info": {
   "codemirror_mode": {
    "name": "ipython",
    "version": 3
   },
   "file_extension": ".py",
   "mimetype": "text/x-python",
   "name": "python",
   "nbconvert_exporter": "python",
   "pygments_lexer": "ipython3",
   "version": "3.7.6-final"
  }
 },
 "nbformat": 4,
 "nbformat_minor": 4
}