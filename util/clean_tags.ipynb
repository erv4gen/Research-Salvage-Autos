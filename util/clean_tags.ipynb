{
 "nbformat": 4,
 "nbformat_minor": 2,
 "metadata": {
  "language_info": {
   "name": "python",
   "codemirror_mode": {
    "name": "ipython",
    "version": 3
   },
   "version": "3.7.6-final"
  },
  "orig_nbformat": 2,
  "file_extension": ".py",
  "mimetype": "text/x-python",
  "name": "python",
  "npconvert_exporter": "python",
  "pygments_lexer": "ipython3",
  "version": 3,
  "kernelspec": {
   "name": "python37664bitf8f1b9fe6c73403cb7dd5bfaa3029ddc",
   "display_name": "Python 3.7.6 64-bit"
  }
 },
 "cells": [
  {
   "cell_type": "code",
   "execution_count": 49,
   "metadata": {},
   "outputs": [
    {
     "name": "stdout",
     "output_type": "stream",
     "text": "selected Cadillac\n['ATS', 'Catera', 'CT6', 'CTS', 'DeVille', 'DTS', 'Eldorado', 'ELR', 'Escalade', 'Seville', 'SRX', 'STS', 'XLR', 'XT4', 'XT5', 'XT6', 'XTS']\n"
    }
   ],
   "source": [
    "import bs4\n",
    "make_path = f'../input/models/__all__.txt'\n",
    "with open(make_path , 'r') as f:\n",
    "    makes = f.read().splitlines()\n",
    "i = 0\n",
    "make = makes[i]\n",
    "print(f'selected {make}')\n",
    "\n",
    "string_path = 'c:/data/tmp/tags.txt'\n",
    "with open(string_path , 'r') as f:\n",
    "    html =f.read()\n",
    "\n",
    "soup = bs4.BeautifulSoup(html)\n",
    "out = [li.text for li in soup.findAll('li')]\n",
    "print(out)\n",
    "\n",
    "out_path = f'../input/models/{make}.txt'\n",
    "with open(out_path , 'w') as f:\n",
    "    f.write('\\n'.join(out))"
   ]
  },
  {
   "cell_type": "code",
   "execution_count": null,
   "metadata": {},
   "outputs": [],
   "source": []
  }
 ]
}