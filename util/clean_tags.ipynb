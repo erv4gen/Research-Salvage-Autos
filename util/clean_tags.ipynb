{
 "nbformat": 4,
 "nbformat_minor": 2,
 "metadata": {
  "language_info": {
   "name": "python",
   "codemirror_mode": {
    "name": "ipython",
    "version": 3
   },
   "version": "3.7.6-final"
  },
  "orig_nbformat": 2,
  "file_extension": ".py",
  "mimetype": "text/x-python",
  "name": "python",
  "npconvert_exporter": "python",
  "pygments_lexer": "ipython3",
  "version": 3,
  "kernelspec": {
   "name": "python37664bitf8f1b9fe6c73403cb7dd5bfaa3029ddc",
   "display_name": "Python 3.7.6 64-bit"
  }
 },
 "cells": [
  {
   "cell_type": "code",
   "execution_count": 106,
   "metadata": {},
   "outputs": [
    {
     "name": "stdout",
     "output_type": "stream",
     "text": "selected Volvo\n['C30', 'C70', 'S40', 'S60', 'S70', 'S80', 'S90', 'V40', 'V50', 'V60', 'V70', 'V90', 'XC40', 'XC60', 'XC70', 'XC90']\n"
    }
   ],
   "source": [
    "import bs4\n",
    "make_path = f'../input/models/__all__.txt'\n",
    "with open(make_path , 'r') as f:\n",
    "    makes = f.read().splitlines()\n",
    "i = 0\n",
    "make = makes[i]\n",
    "print(f'selected {make}')\n",
    "\n",
    "string_path = 'c:/data/tmp/tags.txt'\n",
    "with open(string_path , 'r') as f:\n",
    "    html =f.read()\n",
    "\n",
    "soup = bs4.BeautifulSoup(html)\n",
    "out = [li.text for li in soup.findAll('li')]\n",
    "print(out)\n",
    "\n",
    "out_path = f'../input/models/{make}.txt'\n",
    "with open(out_path , 'w') as f:\n",
    "    f.write('\\n'.join(out))"
   ]
  },
  {
   "cell_type": "code",
   "execution_count": 140,
   "metadata": {},
   "outputs": [],
   "source": [
    "# Definition for a binary tree node.\n",
    "class TreeNode:\n",
    "    def __init__(self, x):\n",
    "        self.val = x\n",
    "        self.left = None\n",
    "        self.right = None\n",
    "\n",
    "class Solution:\n",
    "    def levelOrder(self, root: TreeNode):\n",
    "        levels = []\n",
    "        \n",
    "        def traverse_level(level,root):\n",
    "            if not root:\n",
    "                print('root is not null')\n",
    "                if level == len(levels):\n",
    "                    levels.append([])\n",
    "                    print('creating level')\n",
    "                levels[level].append(root.val)\n",
    "                print('on level ', level,'appending value')\n",
    "                print('traversing level ',level+1,'left')\n",
    "                traverse_level(level+1,root.left)\n",
    "                \n",
    "                print('traversing level ',level+1,'right')\n",
    "                traverse_level(level+1,root.right)\n",
    "        traverse_level(0,root)\n",
    "        return levels\n",
    "\n"
   ]
  },
  {
   "cell_type": "code",
   "execution_count": 143,
   "metadata": {},
   "outputs": [
    {
     "data": {
      "text/plain": "[]"
     },
     "execution_count": 143,
     "metadata": {},
     "output_type": "execute_result"
    }
   ],
   "source": [
    "s = Solution()\n",
    "s.levelOrder(r)"
   ]
  },
  {
   "cell_type": "code",
   "execution_count": null,
   "metadata": {},
   "outputs": [],
   "source": []
  }
 ]
}