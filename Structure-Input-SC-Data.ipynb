{
 "cells": [
  {
   "cell_type": "code",
   "execution_count": 1,
   "metadata": {},
   "outputs": [
    {
     "output_type": "display_data",
     "data": {
      "text/html": "        <script type=\"text/javascript\">\n        window.PlotlyConfig = {MathJaxConfig: 'local'};\n        if (window.MathJax) {MathJax.Hub.Config({SVG: {font: \"STIX-Web\"}});}\n        if (typeof require !== 'undefined') {\n        require.undef(\"plotly\");\n        requirejs.config({\n            paths: {\n                'plotly': ['https://cdn.plot.ly/plotly-latest.min']\n            }\n        });\n        require(['plotly'], function(Plotly) {\n            window._Plotly = Plotly;\n        });\n        }\n        </script>\n        "
     },
     "metadata": {}
    }
   ],
   "source": [
    "import pandas as pd\n",
    "import numpy as np\n",
    "import glob, sys, os, time , itertools , warnings , re , json\n",
    "from bs4 import BeautifulSoup\n",
    "from tqdm import tqdm\n",
    "import matplotlib.pyplot as plt\n",
    "import multiprocessing as mp\n",
    "# from DataProcessing import \n",
    "import uszipcode , pickle \n",
    "from TempFolder.TempFolder import Temp\n",
    "\n",
    "\n",
    "\n",
    "# importing all necessary libraries \n",
    "import chart_studio.plotly as py \n",
    "import plotly.graph_objs as go \n",
    "import pandas as pd \n",
    "  \n",
    "# some more libraries to plot graph \n",
    "from plotly.offline import download_plotlyjs, init_notebook_mode, iplot, plot \n",
    "# To establish connection \n",
    "init_notebook_mode(connected = True) \n",
    "\n",
    "\n",
    "warnings.filterwarnings('ignore')"
   ]
  },
  {
   "cell_type": "code",
   "execution_count": 2,
   "metadata": {},
   "outputs": [],
   "source": [
    "with open('nogit\\\\path','r') as f:\n",
    "    path_to_csv = f.read()\n",
    "path_to_processed_csv =path_to_csv + 'SC-csv\\\\'\n",
    "Temp.set_path(path_to_csv +'SC-temp\\\\')\n",
    "path_to_temp_csv = path_to_csv+'SC-working-folder\\\\'\n",
    "colummn_names = ['Description'\n",
    "                 ,'Title State/Type'\n",
    "                 ,'Location'\n",
    "                 ,'null'\n",
    "                 ,'Auction Date'\n",
    "                 ,'Actual Cash Value'\n",
    "                 ,'Repair Cost'\n",
    "                 ,'Odometer'\n",
    "                 ,'Prim Damage'\n",
    "                 ,'Sec Damage'\n",
    "                 ,'Price Sold or Highest Bid']\n",
    "path_to_makes = glob.glob(path_to_csv+'Cars\\\\*')\n",
    "search = uszipcode.SearchEngine(simple_zipcode=True)\n",
    "path_to_all_years = list(itertools.chain.from_iterable([glob.glob(path+'\\\\*') for path in path_to_makes]))\n",
    "search = uszipcode.SearchEngine(simple_zipcode=True)\n",
    "\n",
    ""
   ]
  },
  {
   "cell_type": "code",
   "execution_count": 3,
   "metadata": {},
   "outputs": [],
   "source": [
    "# #%%time\n",
    "# '''\n",
    "# Parse the HTML files\n",
    "# '''\n",
    "\n",
    "# #\n",
    "# #Read and parse scraped .html files \n",
    "# def process_files(path_to_years__):\n",
    "#     res_df = pd.DataFrame()\n",
    "#     #for each make/year folder get a list of all .html files\n",
    "#     #for path_to__year in tqdm(path_to_years__):\n",
    "#     for path_to__year in path_to_years__:\n",
    "#         try:\n",
    "#             #list of all html\n",
    "#             path_to_make_years = glob.glob(path_to__year+'/*')\n",
    "\n",
    "#             #for each .html in the folder\n",
    "#             for file_path in path_to_make_years:\n",
    "#             #file_path = path_to_make_years[0]\n",
    "            \n",
    "#                 #read file and load to the BS object\n",
    "#                 with open(file_path, 'r') as f:\n",
    "#                     fle = f.read()\n",
    "#                 soup = BeautifulSoup(fle)\n",
    "\n",
    "#                 rows = []\n",
    "#                 line_ind = 0 \n",
    "                \n",
    "#                 #filter all div elements (div table)\n",
    "#                 for div in soup.find_all('div',['row']):\n",
    "#                     row = div.text.strip()\n",
    "#                     #print(row)\n",
    "#                     try:\n",
    "#                         line_dict = {}\n",
    "#                         i = 0\n",
    "                        \n",
    "#                         #clean each element and map to respected column\n",
    "#                         for line in row.replace('\\t','').replace('\\xa0','').split('\\n'):\n",
    "#                             line_dict[colummn_names[i]]= line.replace('Location:','').replace('Title State/Type:','').strip()\n",
    "#                             i+=1\n",
    "#                         rows.append(line_dict)\n",
    "#                     except Exception as e:\n",
    "#                         #print(line_ind,'-',e)\n",
    "#                         pass\n",
    "#                     finally:\n",
    "#                         line_ind+=1\n",
    "\n",
    "#                 page_df = pd.DataFrame(rows).iloc[3:,:-1]\n",
    "#                 page_df_ext = page_df.join(page_df['Description'].str.split(' ',expand=True).rename(columns={0:'Year',1:'Make',2:'Model',3:'Model 2',4:'Model 3'}))\n",
    "#                 page_df_ext = page_df_ext.join(page_df_ext['Location'].str.split('-',expand=True).rename(columns={0:'State',1:'City'}))\n",
    "#                 page_df_ext['City'] = page_df_ext['City'].str.strip().str.capitalize()\n",
    "#                 page_df_ext['State'] = page_df_ext['State'].str.strip()\n",
    "#                 res_df = res_df.append(page_df_ext,ignore_index=True,sort=False)\n",
    "#                 del rows , page_df_ext , page_df\n",
    "#         except:\n",
    "#             continue\n",
    "#     return res_df\n",
    "\n",
    "\n",
    "# if __name__ == '__main__':\n",
    "#     print('# files to concat' , len(path_to_all_years))\n",
    "#     NCPU = mp.cpu_count()\n",
    "#     print('Creating pool with ', NCPU,' CPUs')\n",
    "#     pool = mp.Pool(processes=4)\n",
    "#     # if not os.path.exists(path_to_processed_csv):\n",
    "#     #     print('Creating output folder')\n",
    "#     #     os.makedirs(path_to_processed_csv)\n",
    "    \n",
    "#     by_chunk_path_to_all_years = np.array_split(path_to_all_years,len(path_to_all_years) // NCPU )\n",
    "#     start_ = 0\n",
    "#     end_ = len(by_chunk_path_to_all_years)\n",
    "#     for i in range(start_,end_):\n",
    "#         print('Starting with chunk: ',i,' of ',end_)\n",
    "#         path_to_all_years_split = np.array_split(by_chunk_path_to_all_years[i],NCPU)\n",
    "#         ress = pool.map(process_files,path_to_all_years_split)\n",
    "#         ress_df = pd.concat(ress)\n",
    "#         print('Chunk ',i,' is done.')\n",
    "#         ress_df.to_csv(path_to_processed_csv+'sc_'+str(i)+'.csv',index=False)\n",
    "# #         i+=1\n",
    "# #         if i ==2:\n",
    "# #             break\n",
    "#     pool.close()\n",
    "#     pool.join()\n",
    "#     print('all work is done')\n",
    "    "
   ]
  },
  {
   "cell_type": "code",
   "execution_count": 4,
   "metadata": {},
   "outputs": [
    {
     "output_type": "stream",
     "name": "stderr",
     "text": "100%|██████████| 321/321 [00:03<00:00, 86.76it/s]\nErrors: ['c:\\\\data\\\\Datasets\\\\SC-csv\\\\sc_0.csv', 'c:\\\\data\\\\Datasets\\\\SC-csv\\\\sc_1.csv', 'c:\\\\data\\\\Datasets\\\\SC-csv\\\\sc_2.csv', 'c:\\\\data\\\\Datasets\\\\SC-csv\\\\sc_3.csv', 'c:\\\\data\\\\Datasets\\\\SC-csv\\\\sc_4.csv', 'c:\\\\data\\\\Datasets\\\\SC-csv\\\\sc_5.csv', 'c:\\\\data\\\\Datasets\\\\SC-csv\\\\sc_6.csv', 'c:\\\\data\\\\Datasets\\\\SC-csv\\\\sc_7.csv']\n"
    }
   ],
   "source": [
    "#Read parsed files\n",
    "outputs = glob.glob(path_to_processed_csv+'*')\n",
    "out_l = []\n",
    "errs = []\n",
    "for output in tqdm(outputs):\n",
    "    try:\n",
    "#     print(output)\n",
    "        out_l.append(pd.read_csv(output))\n",
    "    except:\n",
    "        errs.append(output)\n",
    "out_df = pd.concat(out_l,ignore_index=True,sort=False)\n",
    "\n",
    "if len(errs) >0:\n",
    "    print('Errors:', errs)"
   ]
  },
  {
   "cell_type": "code",
   "execution_count": 5,
   "metadata": {},
   "outputs": [
    {
     "output_type": "stream",
     "name": "stdout",
     "text": "Index(['Actual Cash Value', 'Auction Date', 'Description', 'Location',\n       'Odometer', 'Price Sold or Highest Bid', 'Prim Damage', 'Repair Cost',\n       'Sec Damage', 'Title State/Type', 'Year', 'Make', 'Model', 'Model 2',\n       'State', 'City', 'Model 3', '2', '5'],\n      dtype='object')\nRaw dataset size:  1048104\n"
    },
    {
     "output_type": "execute_result",
     "data": {
      "text/plain": "   Actual Cash Value Auction Date            Description  \\\n0        $ 5,649 USD   10/02/2019  1992 Acura INTEGRA GS   \n1                NaN   06/18/2019  1992 Acura INTEGRA LS   \n2                NaN   05/24/2019    1992 Acura VIGOR GS   \n3          $ 725 USD   11/26/2018  1992 Acura INTEGRA GS   \n4        $ 1,450 USD   09/12/2018  1992 Acura INTEGRA LS   \n5        $ 3,250 USD   12/20/2017    1992 Acura VIGOR GS   \n6                NaN   12/08/2016    1992 Acura LEGEND L   \n7        $ 1,960 USD   09/13/2016  1992 Acura INTEGRA LS   \n8                NaN   07/25/2016   1992 Acura LEGEND LS   \n9                NaN   07/19/2016    1992 Acura LEGEND L   \n10               NaN   07/13/2016    1992 Acura LEGEND L   \n11    $ 1,803.74 USD   05/18/2015    1992 Acura LEGEND L   \n12               NaN   02/20/2015    1992 Acura LEGEND L   \n13       $ 4,950 USD   11/10/2014  1992 Acura INTEGRA LS   \n14               NaN   08/08/2014    1992 Acura LEGEND L   \n15       $ 2,000 USD   07/01/2014   1992 Acura LEGEND LS   \n16       $ 3,000 USD   07/01/2014    1992 Acura LEGEND L   \n17               NaN   04/29/2014    1992 Acura VIGOR GS   \n18       $ 2,000 USD   01/07/2014    1992 Acura LEGEND L   \n19       $ 5,500 USD   12/12/2013  1992 Acura INTEGRA LS   \n20               NaN   11/15/2013    1992 Acura LEGEND L   \n21      $ 38,000 USD   11/12/2013         1992 Acura NSX   \n22       $ 2,995 USD   10/04/2013    1992 Acura LEGEND L   \n23       $ 1,900 USD   08/06/2013  1992 Acura INTEGRA GS   \n24       $ 4,200 USD   06/19/2013    1992 Acura LEGEND L   \n25       $ 3,500 USD   04/23/2013   1992 Acura LEGEND LS   \n26               NaN   03/26/2013   1992 Acura LEGEND LS   \n27               NaN   03/13/2013    1992 Acura LEGEND L   \n28       $ 4,000 USD   02/25/2013   1992 Acura LEGEND LS   \n29               NaN   12/04/2012  1992 Acura INTEGRA GS   \n30       $ 2,500 USD   11/02/2012      1992 Acura LEGEND   \n31       $ 2,500 USD   10/02/2012  1992 Acura INTEGRA LS   \n32       $ 3,500 USD   08/27/2012  1992 Acura INTEGRA GS   \n33       $ 4,000 USD   07/09/2012   1992 Acura LEGEND LS   \n34      $ 28,500 USD   06/26/2012         1992 Acura NSX   \n35       $ 3,375 USD   10/03/2019    1993 Acura LEGEND L   \n36      $ 47,403 USD   10/02/2019         1993 Acura NSX   \n37               NaN   09/30/2019   1993 Acura LEGEND LS   \n38               NaN   09/23/2019  1993 Acura INTEGRA GS   \n39       $ 1,583 USD   03/21/2019  1993 Acura INTEGRA RS   \n40       $ 2,043 USD   01/22/2019    1993 Acura VIGOR GS   \n41         $ 625 USD   07/25/2018  1993 Acura INTEGRA LS   \n42       $ 3,375 USD   07/10/2018    1993 Acura LEGEND L   \n43       $ 2,790 USD   05/30/2018     1993 Acura INTEGRA   \n44       $ 1,100 USD   01/19/2018   1993 Acura LEGEND LS   \n45       $ 3,183 USD   02/07/2017  1993 Acura INTEGRA LS   \n46       $ 1,500 USD   11/21/2016    1993 Acura LEGEND L   \n47               NaN   08/30/2016    1993 Acura LEGEND L   \n48       $ 2,792 USD   08/03/2016    1993 Acura LEGEND L   \n49         $ 750 USD   05/17/2016    1993 Acura LEGEND L   \n\n                  Location  Odometer Price Sold or Highest Bid  \\\n0      KY - LEXINGTON WEST  146073 A               $ 3,750 USD   \n1            CA - SAN JOSE  182250 E                 $ 300 USD   \n2          NJ - SOMERVILLE  188301 A                 $ 575 USD   \n3       WA - NORTH SEATTLE  300930 E                 $ 325 USD   \n4         NY - LONG ISLAND  260216 E                 $ 300 USD   \n5            CA - MARTINEZ  205852 E                 $ 175 USD   \n6         MN - MINNEAPOLIS  144195 E                 $ 125 USD   \n7           TN - KNOXVILLE  309149 E                 $ 975 USD   \n8           MD - BALTIMORE  104173 A                 $ 150 USD   \n9      NJ - GLASSBORO EAST  131385 A                 $ 200 USD   \n10           CA - MARTINEZ  168702 A                 $ 500 USD   \n11      FL - MIAMI CENTRAL  233596 A                 $ 425 USD   \n12          MO - ST. LOUIS  142905 E                 $ 575 USD   \n13            AZ - PHOENIX  178757 A               $ 1,200 USD   \n14            CA - VALLEJO  197111 A                 $ 550 USD   \n15      GA - ATLANTA SOUTH  139640 E                 $ 825 USD   \n16            VA - HAMPTON  196143 A                 $ 950 USD   \n17           CA - SAN JOSE  216614 A                 $ 500 USD   \n18         CA - SACRAMENTO  194944 A                 $ 900 USD   \n19          NV - LAS VEGAS  223433 E                 $ 500 USD   \n20            TX - EL PASO  260423 E               $ 7,000 USD   \n21   CA - RANCHO CUCAMONGA   93721 E              $ 27,000 USD   \n22     UT - SALT LAKE CITY  135986 E               $ 1,000 USD   \n23             CO - DENVER  197187 A               $ 1,200 USD   \n24        LA - NEW ORLEANS  120278 E                 $ 600 USD   \n25           CA - SAN JOSE  237853 E               $ 1,100 USD   \n26     NJ - GLASSBORO EAST  220560 A                 $ 600 USD   \n27           CA - MARTINEZ  193346 A                 $ 700 USD   \n28        CA - LOS ANGELES  130752 E               $ 1,000 USD   \n29   CA - RANCHO CUCAMONGA  187570 E               $ 1,900 USD   \n30           CA - VAN NUYS  161073 E                 $ 900 USD   \n31            NE - LINCOLN  162274 E                 $ 750 USD   \n32        CA - LOS ANGELES  145087 E               $ 1,000 USD   \n33      WA - NORTH SEATTLE  229662 E               $ 3,000 USD   \n34  MN - MINNEAPOLIS NORTH   73574 E              $ 16,000 USD   \n35               NV - RENO  148007 E                 $ 200 USD   \n36           NY - SYRACUSE  240690 E              $ 21,000 USD   \n37          MD - BALTIMORE  213826 A                 $ 400 USD   \n38      WA - NORTH SEATTLE  226674 E                 $ 275 USD   \n39     CA - SAN BERNARDINO  236608 A                 $ 200 USD   \n40             CA - FRESNO  181958 A                 $ 125 USD   \n41           CA - MARTINEZ  174906 E                 $ 275 USD   \n42      OK - OKLAHOMA CITY  266040 E                 $ 250 USD   \n43           CA - MARTINEZ  283082 E                 $ 500 USD   \n44            CA - VALLEJO  114922 E                 $ 200 USD   \n45             WA - GRAHAM  171474 E                 $ 150 USD   \n46      WA - NORTH SEATTLE  256979 E                 $ 125 USD   \n47         CA - SACRAMENTO  257644 E                 $ 500 USD   \n48     OR - PORTLAND NORTH  171811 A                 $ 125 USD   \n49             WA - GRAHAM  201177 E                 $ 300 USD   \n\n             Prim Damage     Repair Cost             Sec Damage  \\\n0              Front end             NaN                    NaN   \n1   Minor dent/scratches             NaN                    NaN   \n2              Front end             NaN             Mechanical   \n3              Front end             NaN             Mechanical   \n4              Front end             NaN                    NaN   \n5   Minor dent/scratches             NaN                   Side   \n6             MECHANICAL             NaN                   HAIL   \n7                   SIDE             NaN                    NaN   \n8   MINOR DENT/SCRATCHES             NaN            NORMAL WEAR   \n9            NORMAL WEAR             NaN                    NaN   \n10             FRONT END             NaN                    NaN   \n11             FRONT END  $ 1,803.74 USD                   SIDE   \n12  MINOR DENT/SCRATCHES             NaN                    NaN   \n13                  HAIL             NaN                    NaN   \n14             FRONT END             NaN                    NaN   \n15             FRONT END             NaN                    NaN   \n16           NORMAL WEAR             NaN                    NaN   \n17            MECHANICAL             NaN               ALL OVER   \n18  MINOR DENTS/SCRATCHE             NaN                    NaN   \n19  MINOR DENTS/SCRATCHE             NaN                    NaN   \n20                  SIDE             NaN                    NaN   \n21            MECHANICAL             NaN                    NaN   \n22                  SIDE             NaN                    NaN   \n23             FRONT END             NaN                    NaN   \n24            MECHANICAL             NaN                   SIDE   \n25  MINOR DENTS/SCRATCHE             NaN                    NaN   \n26            MECHANICAL             NaN                    NaN   \n27  MINOR DENTS/SCRATCHE             NaN                    NaN   \n28  MINOR DENTS/SCRATCHE             NaN                    NaN   \n29            MECHANICAL             NaN                    NaN   \n30             FRONT END             NaN                    NaN   \n31            MECHANICAL             NaN                    NaN   \n32              STRIPPED             NaN  MINOR DENTS/SCRATCHES   \n33                  SIDE             NaN                    NaN   \n34           NORMAL WEAR             NaN                    NaN   \n35                  Side             NaN                    NaN   \n36                  Side             NaN               Rear end   \n37            Mechanical             NaN   Minor dent/scratches   \n38            Mechanical             NaN                    NaN   \n39            Mechanical             NaN                    NaN   \n40             Front end     $ 4,802 USD                   Side   \n41             Front end             NaN                    NaN   \n42  Minor dent/scratches             NaN              Front end   \n43             Front end             NaN                    NaN   \n44  Minor dent/scratches             NaN             Mechanical   \n45             FRONT END  $ 2,959.96 USD                   SIDE   \n46             FRONT END             NaN                    NaN   \n47             FRONT END             NaN                    NaN   \n48             FRONT END  $ 3,255.38 USD   MINOR DENT/SCRATCHES   \n49                  SIDE             NaN          UNDERCARRIAGE   \n\n   Title State/Type  Year   Make    Model Model 2 State               City  \\\n0             FL RB  1992  Acura  INTEGRA      GS    KY     Lexington west   \n1             CA CQ  1992  Acura  INTEGRA      LS    CA           San jose   \n2             NJ CT  1992  Acura    VIGOR      GS    NJ         Somerville   \n3             WA CT  1992  Acura  INTEGRA      GS    WA      North seattle   \n4             NY CT  1992  Acura  INTEGRA      LS    NY        Long island   \n5             CA DQ  1992  Acura    VIGOR      GS    CA           Martinez   \n6             MN CT  1992  Acura   LEGEND       L    MN        Minneapolis   \n7             TN CT  1992  Acura  INTEGRA      LS    TN          Knoxville   \n8             MD CT  1992  Acura   LEGEND      LS    MD          Baltimore   \n9             NJ CT  1992  Acura   LEGEND       L    NJ     Glassboro east   \n10            CA ST  1992  Acura   LEGEND       L    CA           Martinez   \n11            FL CD  1992  Acura   LEGEND       L    FL      Miami central   \n12            MO CT  1992  Acura   LEGEND       L    MO          St. louis   \n13            AZ CT  1992  Acura  INTEGRA      LS    AZ            Phoenix   \n14            CA CQ  1992  Acura   LEGEND       L    CA            Vallejo   \n15            GA CT  1992  Acura   LEGEND      LS    GA      Atlanta south   \n16            VA CT  1992  Acura   LEGEND       L    VA            Hampton   \n17            CA SC  1992  Acura    VIGOR      GS    CA           San jose   \n18            CA CQ  1992  Acura   LEGEND       L    CA         Sacramento   \n19            NV CT  1992  Acura  INTEGRA      LS    NV          Las vegas   \n20            TX CT  1992  Acura   LEGEND       L    TX            El paso   \n21            CA CQ  1992  Acura      NSX     NaN    CA   Rancho cucamonga   \n22            UT CT  1992  Acura   LEGEND       L    UT     Salt lake city   \n23            CO CT  1992  Acura  INTEGRA      GS    CO             Denver   \n24            LA RC  1992  Acura   LEGEND       L    LA        New orleans   \n25            CA CQ  1992  Acura   LEGEND      LS    CA           San jose   \n26            NJ CT  1992  Acura   LEGEND      LS    NJ     Glassboro east   \n27            CA CQ  1992  Acura   LEGEND       L    CA           Martinez   \n28            CA ST  1992  Acura   LEGEND      LS    CA        Los angeles   \n29            CA ST  1992  Acura  INTEGRA      GS    CA   Rancho cucamonga   \n30            CA CQ  1992  Acura   LEGEND     NaN    CA           Van nuys   \n31            MN CT  1992  Acura  INTEGRA      LS    NE            Lincoln   \n32            CA CQ  1992  Acura  INTEGRA      GS    CA        Los angeles   \n33            WA AL  1992  Acura   LEGEND      LS    WA      North seattle   \n34            MN SH  1992  Acura      NSX     NaN    MN  Minneapolis north   \n35            NV CT  1993  Acura   LEGEND       L    NV               Reno   \n36            TX SV  1993  Acura      NSX     NaN    NY           Syracuse   \n37            MD CT  1993  Acura   LEGEND      LS    MD          Baltimore   \n38            WA AL  1993  Acura  INTEGRA      GS    WA      North seattle   \n39            CA SC  1993  Acura  INTEGRA      RS    CA     San bernardino   \n40            CA SC  1993  Acura    VIGOR      GS    CA             Fresno   \n41            CA SH  1993  Acura  INTEGRA      LS    CA           Martinez   \n42            OK CT  1993  Acura   LEGEND       L    OK      Oklahoma city   \n43            CA CQ  1993  Acura  INTEGRA     NaN    CA           Martinez   \n44            CA CQ  1993  Acura   LEGEND      LS    CA            Vallejo   \n45            WA BS  1993  Acura  INTEGRA      LS    WA             Graham   \n46            WA CT  1993  Acura   LEGEND       L    WA      North seattle   \n47            CA CQ  1993  Acura   LEGEND       L    CA         Sacramento   \n48            OR SC  1993  Acura   LEGEND       L    OR     Portland north   \n49            WA AL  1993  Acura   LEGEND       L    WA             Graham   \n\n   Model 3    2    5  \n0      NaN  NaN  NaN  \n1      NaN  NaN  NaN  \n2      NaN  NaN  NaN  \n3      NaN  NaN  NaN  \n4      NaN  NaN  NaN  \n5      NaN  NaN  NaN  \n6      NaN  NaN  NaN  \n7      NaN  NaN  NaN  \n8      NaN  NaN  NaN  \n9      NaN  NaN  NaN  \n10     NaN  NaN  NaN  \n11     NaN  NaN  NaN  \n12     NaN  NaN  NaN  \n13     NaN  NaN  NaN  \n14     NaN  NaN  NaN  \n15     NaN  NaN  NaN  \n16     NaN  NaN  NaN  \n17     NaN  NaN  NaN  \n18     NaN  NaN  NaN  \n19     NaN  NaN  NaN  \n20     NaN  NaN  NaN  \n21     NaN  NaN  NaN  \n22     NaN  NaN  NaN  \n23     NaN  NaN  NaN  \n24     NaN  NaN  NaN  \n25     NaN  NaN  NaN  \n26     NaN  NaN  NaN  \n27     NaN  NaN  NaN  \n28     NaN  NaN  NaN  \n29     NaN  NaN  NaN  \n30     NaN  NaN  NaN  \n31     NaN  NaN  NaN  \n32     NaN  NaN  NaN  \n33     NaN  NaN  NaN  \n34     NaN  NaN  NaN  \n35     NaN  NaN  NaN  \n36     NaN  NaN  NaN  \n37     NaN  NaN  NaN  \n38     NaN  NaN  NaN  \n39     NaN  NaN  NaN  \n40     NaN  NaN  NaN  \n41     NaN  NaN  NaN  \n42     NaN  NaN  NaN  \n43     NaN  NaN  NaN  \n44     NaN  NaN  NaN  \n45     NaN  NaN  NaN  \n46     NaN  NaN  NaN  \n47     NaN  NaN  NaN  \n48     NaN  NaN  NaN  \n49     NaN  NaN  NaN  ",
      "text/html": "<div>\n<style scoped>\n    .dataframe tbody tr th:only-of-type {\n        vertical-align: middle;\n    }\n\n    .dataframe tbody tr th {\n        vertical-align: top;\n    }\n\n    .dataframe thead th {\n        text-align: right;\n    }\n</style>\n<table border=\"1\" class=\"dataframe\">\n  <thead>\n    <tr style=\"text-align: right;\">\n      <th></th>\n      <th>Actual Cash Value</th>\n      <th>Auction Date</th>\n      <th>Description</th>\n      <th>Location</th>\n      <th>Odometer</th>\n      <th>Price Sold or Highest Bid</th>\n      <th>Prim Damage</th>\n      <th>Repair Cost</th>\n      <th>Sec Damage</th>\n      <th>Title State/Type</th>\n      <th>Year</th>\n      <th>Make</th>\n      <th>Model</th>\n      <th>Model 2</th>\n      <th>State</th>\n      <th>City</th>\n      <th>Model 3</th>\n      <th>2</th>\n      <th>5</th>\n    </tr>\n  </thead>\n  <tbody>\n    <tr>\n      <th>0</th>\n      <td>$ 5,649 USD</td>\n      <td>10/02/2019</td>\n      <td>1992 Acura INTEGRA GS</td>\n      <td>KY - LEXINGTON WEST</td>\n      <td>146073 A</td>\n      <td>$ 3,750 USD</td>\n      <td>Front end</td>\n      <td>NaN</td>\n      <td>NaN</td>\n      <td>FL RB</td>\n      <td>1992</td>\n      <td>Acura</td>\n      <td>INTEGRA</td>\n      <td>GS</td>\n      <td>KY</td>\n      <td>Lexington west</td>\n      <td>NaN</td>\n      <td>NaN</td>\n      <td>NaN</td>\n    </tr>\n    <tr>\n      <th>1</th>\n      <td>NaN</td>\n      <td>06/18/2019</td>\n      <td>1992 Acura INTEGRA LS</td>\n      <td>CA - SAN JOSE</td>\n      <td>182250 E</td>\n      <td>$ 300 USD</td>\n      <td>Minor dent/scratches</td>\n      <td>NaN</td>\n      <td>NaN</td>\n      <td>CA CQ</td>\n      <td>1992</td>\n      <td>Acura</td>\n      <td>INTEGRA</td>\n      <td>LS</td>\n      <td>CA</td>\n      <td>San jose</td>\n      <td>NaN</td>\n      <td>NaN</td>\n      <td>NaN</td>\n    </tr>\n    <tr>\n      <th>2</th>\n      <td>NaN</td>\n      <td>05/24/2019</td>\n      <td>1992 Acura VIGOR GS</td>\n      <td>NJ - SOMERVILLE</td>\n      <td>188301 A</td>\n      <td>$ 575 USD</td>\n      <td>Front end</td>\n      <td>NaN</td>\n      <td>Mechanical</td>\n      <td>NJ CT</td>\n      <td>1992</td>\n      <td>Acura</td>\n      <td>VIGOR</td>\n      <td>GS</td>\n      <td>NJ</td>\n      <td>Somerville</td>\n      <td>NaN</td>\n      <td>NaN</td>\n      <td>NaN</td>\n    </tr>\n    <tr>\n      <th>3</th>\n      <td>$ 725 USD</td>\n      <td>11/26/2018</td>\n      <td>1992 Acura INTEGRA GS</td>\n      <td>WA - NORTH SEATTLE</td>\n      <td>300930 E</td>\n      <td>$ 325 USD</td>\n      <td>Front end</td>\n      <td>NaN</td>\n      <td>Mechanical</td>\n      <td>WA CT</td>\n      <td>1992</td>\n      <td>Acura</td>\n      <td>INTEGRA</td>\n      <td>GS</td>\n      <td>WA</td>\n      <td>North seattle</td>\n      <td>NaN</td>\n      <td>NaN</td>\n      <td>NaN</td>\n    </tr>\n    <tr>\n      <th>4</th>\n      <td>$ 1,450 USD</td>\n      <td>09/12/2018</td>\n      <td>1992 Acura INTEGRA LS</td>\n      <td>NY - LONG ISLAND</td>\n      <td>260216 E</td>\n      <td>$ 300 USD</td>\n      <td>Front end</td>\n      <td>NaN</td>\n      <td>NaN</td>\n      <td>NY CT</td>\n      <td>1992</td>\n      <td>Acura</td>\n      <td>INTEGRA</td>\n      <td>LS</td>\n      <td>NY</td>\n      <td>Long island</td>\n      <td>NaN</td>\n      <td>NaN</td>\n      <td>NaN</td>\n    </tr>\n    <tr>\n      <th>5</th>\n      <td>$ 3,250 USD</td>\n      <td>12/20/2017</td>\n      <td>1992 Acura VIGOR GS</td>\n      <td>CA - MARTINEZ</td>\n      <td>205852 E</td>\n      <td>$ 175 USD</td>\n      <td>Minor dent/scratches</td>\n      <td>NaN</td>\n      <td>Side</td>\n      <td>CA DQ</td>\n      <td>1992</td>\n      <td>Acura</td>\n      <td>VIGOR</td>\n      <td>GS</td>\n      <td>CA</td>\n      <td>Martinez</td>\n      <td>NaN</td>\n      <td>NaN</td>\n      <td>NaN</td>\n    </tr>\n    <tr>\n      <th>6</th>\n      <td>NaN</td>\n      <td>12/08/2016</td>\n      <td>1992 Acura LEGEND L</td>\n      <td>MN - MINNEAPOLIS</td>\n      <td>144195 E</td>\n      <td>$ 125 USD</td>\n      <td>MECHANICAL</td>\n      <td>NaN</td>\n      <td>HAIL</td>\n      <td>MN CT</td>\n      <td>1992</td>\n      <td>Acura</td>\n      <td>LEGEND</td>\n      <td>L</td>\n      <td>MN</td>\n      <td>Minneapolis</td>\n      <td>NaN</td>\n      <td>NaN</td>\n      <td>NaN</td>\n    </tr>\n    <tr>\n      <th>7</th>\n      <td>$ 1,960 USD</td>\n      <td>09/13/2016</td>\n      <td>1992 Acura INTEGRA LS</td>\n      <td>TN - KNOXVILLE</td>\n      <td>309149 E</td>\n      <td>$ 975 USD</td>\n      <td>SIDE</td>\n      <td>NaN</td>\n      <td>NaN</td>\n      <td>TN CT</td>\n      <td>1992</td>\n      <td>Acura</td>\n      <td>INTEGRA</td>\n      <td>LS</td>\n      <td>TN</td>\n      <td>Knoxville</td>\n      <td>NaN</td>\n      <td>NaN</td>\n      <td>NaN</td>\n    </tr>\n    <tr>\n      <th>8</th>\n      <td>NaN</td>\n      <td>07/25/2016</td>\n      <td>1992 Acura LEGEND LS</td>\n      <td>MD - BALTIMORE</td>\n      <td>104173 A</td>\n      <td>$ 150 USD</td>\n      <td>MINOR DENT/SCRATCHES</td>\n      <td>NaN</td>\n      <td>NORMAL WEAR</td>\n      <td>MD CT</td>\n      <td>1992</td>\n      <td>Acura</td>\n      <td>LEGEND</td>\n      <td>LS</td>\n      <td>MD</td>\n      <td>Baltimore</td>\n      <td>NaN</td>\n      <td>NaN</td>\n      <td>NaN</td>\n    </tr>\n    <tr>\n      <th>9</th>\n      <td>NaN</td>\n      <td>07/19/2016</td>\n      <td>1992 Acura LEGEND L</td>\n      <td>NJ - GLASSBORO EAST</td>\n      <td>131385 A</td>\n      <td>$ 200 USD</td>\n      <td>NORMAL WEAR</td>\n      <td>NaN</td>\n      <td>NaN</td>\n      <td>NJ CT</td>\n      <td>1992</td>\n      <td>Acura</td>\n      <td>LEGEND</td>\n      <td>L</td>\n      <td>NJ</td>\n      <td>Glassboro east</td>\n      <td>NaN</td>\n      <td>NaN</td>\n      <td>NaN</td>\n    </tr>\n    <tr>\n      <th>10</th>\n      <td>NaN</td>\n      <td>07/13/2016</td>\n      <td>1992 Acura LEGEND L</td>\n      <td>CA - MARTINEZ</td>\n      <td>168702 A</td>\n      <td>$ 500 USD</td>\n      <td>FRONT END</td>\n      <td>NaN</td>\n      <td>NaN</td>\n      <td>CA ST</td>\n      <td>1992</td>\n      <td>Acura</td>\n      <td>LEGEND</td>\n      <td>L</td>\n      <td>CA</td>\n      <td>Martinez</td>\n      <td>NaN</td>\n      <td>NaN</td>\n      <td>NaN</td>\n    </tr>\n    <tr>\n      <th>11</th>\n      <td>$ 1,803.74 USD</td>\n      <td>05/18/2015</td>\n      <td>1992 Acura LEGEND L</td>\n      <td>FL - MIAMI CENTRAL</td>\n      <td>233596 A</td>\n      <td>$ 425 USD</td>\n      <td>FRONT END</td>\n      <td>$ 1,803.74 USD</td>\n      <td>SIDE</td>\n      <td>FL CD</td>\n      <td>1992</td>\n      <td>Acura</td>\n      <td>LEGEND</td>\n      <td>L</td>\n      <td>FL</td>\n      <td>Miami central</td>\n      <td>NaN</td>\n      <td>NaN</td>\n      <td>NaN</td>\n    </tr>\n    <tr>\n      <th>12</th>\n      <td>NaN</td>\n      <td>02/20/2015</td>\n      <td>1992 Acura LEGEND L</td>\n      <td>MO - ST. LOUIS</td>\n      <td>142905 E</td>\n      <td>$ 575 USD</td>\n      <td>MINOR DENT/SCRATCHES</td>\n      <td>NaN</td>\n      <td>NaN</td>\n      <td>MO CT</td>\n      <td>1992</td>\n      <td>Acura</td>\n      <td>LEGEND</td>\n      <td>L</td>\n      <td>MO</td>\n      <td>St. louis</td>\n      <td>NaN</td>\n      <td>NaN</td>\n      <td>NaN</td>\n    </tr>\n    <tr>\n      <th>13</th>\n      <td>$ 4,950 USD</td>\n      <td>11/10/2014</td>\n      <td>1992 Acura INTEGRA LS</td>\n      <td>AZ - PHOENIX</td>\n      <td>178757 A</td>\n      <td>$ 1,200 USD</td>\n      <td>HAIL</td>\n      <td>NaN</td>\n      <td>NaN</td>\n      <td>AZ CT</td>\n      <td>1992</td>\n      <td>Acura</td>\n      <td>INTEGRA</td>\n      <td>LS</td>\n      <td>AZ</td>\n      <td>Phoenix</td>\n      <td>NaN</td>\n      <td>NaN</td>\n      <td>NaN</td>\n    </tr>\n    <tr>\n      <th>14</th>\n      <td>NaN</td>\n      <td>08/08/2014</td>\n      <td>1992 Acura LEGEND L</td>\n      <td>CA - VALLEJO</td>\n      <td>197111 A</td>\n      <td>$ 550 USD</td>\n      <td>FRONT END</td>\n      <td>NaN</td>\n      <td>NaN</td>\n      <td>CA CQ</td>\n      <td>1992</td>\n      <td>Acura</td>\n      <td>LEGEND</td>\n      <td>L</td>\n      <td>CA</td>\n      <td>Vallejo</td>\n      <td>NaN</td>\n      <td>NaN</td>\n      <td>NaN</td>\n    </tr>\n    <tr>\n      <th>15</th>\n      <td>$ 2,000 USD</td>\n      <td>07/01/2014</td>\n      <td>1992 Acura LEGEND LS</td>\n      <td>GA - ATLANTA SOUTH</td>\n      <td>139640 E</td>\n      <td>$ 825 USD</td>\n      <td>FRONT END</td>\n      <td>NaN</td>\n      <td>NaN</td>\n      <td>GA CT</td>\n      <td>1992</td>\n      <td>Acura</td>\n      <td>LEGEND</td>\n      <td>LS</td>\n      <td>GA</td>\n      <td>Atlanta south</td>\n      <td>NaN</td>\n      <td>NaN</td>\n      <td>NaN</td>\n    </tr>\n    <tr>\n      <th>16</th>\n      <td>$ 3,000 USD</td>\n      <td>07/01/2014</td>\n      <td>1992 Acura LEGEND L</td>\n      <td>VA - HAMPTON</td>\n      <td>196143 A</td>\n      <td>$ 950 USD</td>\n      <td>NORMAL WEAR</td>\n      <td>NaN</td>\n      <td>NaN</td>\n      <td>VA CT</td>\n      <td>1992</td>\n      <td>Acura</td>\n      <td>LEGEND</td>\n      <td>L</td>\n      <td>VA</td>\n      <td>Hampton</td>\n      <td>NaN</td>\n      <td>NaN</td>\n      <td>NaN</td>\n    </tr>\n    <tr>\n      <th>17</th>\n      <td>NaN</td>\n      <td>04/29/2014</td>\n      <td>1992 Acura VIGOR GS</td>\n      <td>CA - SAN JOSE</td>\n      <td>216614 A</td>\n      <td>$ 500 USD</td>\n      <td>MECHANICAL</td>\n      <td>NaN</td>\n      <td>ALL OVER</td>\n      <td>CA SC</td>\n      <td>1992</td>\n      <td>Acura</td>\n      <td>VIGOR</td>\n      <td>GS</td>\n      <td>CA</td>\n      <td>San jose</td>\n      <td>NaN</td>\n      <td>NaN</td>\n      <td>NaN</td>\n    </tr>\n    <tr>\n      <th>18</th>\n      <td>$ 2,000 USD</td>\n      <td>01/07/2014</td>\n      <td>1992 Acura LEGEND L</td>\n      <td>CA - SACRAMENTO</td>\n      <td>194944 A</td>\n      <td>$ 900 USD</td>\n      <td>MINOR DENTS/SCRATCHE</td>\n      <td>NaN</td>\n      <td>NaN</td>\n      <td>CA CQ</td>\n      <td>1992</td>\n      <td>Acura</td>\n      <td>LEGEND</td>\n      <td>L</td>\n      <td>CA</td>\n      <td>Sacramento</td>\n      <td>NaN</td>\n      <td>NaN</td>\n      <td>NaN</td>\n    </tr>\n    <tr>\n      <th>19</th>\n      <td>$ 5,500 USD</td>\n      <td>12/12/2013</td>\n      <td>1992 Acura INTEGRA LS</td>\n      <td>NV - LAS VEGAS</td>\n      <td>223433 E</td>\n      <td>$ 500 USD</td>\n      <td>MINOR DENTS/SCRATCHE</td>\n      <td>NaN</td>\n      <td>NaN</td>\n      <td>NV CT</td>\n      <td>1992</td>\n      <td>Acura</td>\n      <td>INTEGRA</td>\n      <td>LS</td>\n      <td>NV</td>\n      <td>Las vegas</td>\n      <td>NaN</td>\n      <td>NaN</td>\n      <td>NaN</td>\n    </tr>\n    <tr>\n      <th>20</th>\n      <td>NaN</td>\n      <td>11/15/2013</td>\n      <td>1992 Acura LEGEND L</td>\n      <td>TX - EL PASO</td>\n      <td>260423 E</td>\n      <td>$ 7,000 USD</td>\n      <td>SIDE</td>\n      <td>NaN</td>\n      <td>NaN</td>\n      <td>TX CT</td>\n      <td>1992</td>\n      <td>Acura</td>\n      <td>LEGEND</td>\n      <td>L</td>\n      <td>TX</td>\n      <td>El paso</td>\n      <td>NaN</td>\n      <td>NaN</td>\n      <td>NaN</td>\n    </tr>\n    <tr>\n      <th>21</th>\n      <td>$ 38,000 USD</td>\n      <td>11/12/2013</td>\n      <td>1992 Acura NSX</td>\n      <td>CA - RANCHO CUCAMONGA</td>\n      <td>93721 E</td>\n      <td>$ 27,000 USD</td>\n      <td>MECHANICAL</td>\n      <td>NaN</td>\n      <td>NaN</td>\n      <td>CA CQ</td>\n      <td>1992</td>\n      <td>Acura</td>\n      <td>NSX</td>\n      <td>NaN</td>\n      <td>CA</td>\n      <td>Rancho cucamonga</td>\n      <td>NaN</td>\n      <td>NaN</td>\n      <td>NaN</td>\n    </tr>\n    <tr>\n      <th>22</th>\n      <td>$ 2,995 USD</td>\n      <td>10/04/2013</td>\n      <td>1992 Acura LEGEND L</td>\n      <td>UT - SALT LAKE CITY</td>\n      <td>135986 E</td>\n      <td>$ 1,000 USD</td>\n      <td>SIDE</td>\n      <td>NaN</td>\n      <td>NaN</td>\n      <td>UT CT</td>\n      <td>1992</td>\n      <td>Acura</td>\n      <td>LEGEND</td>\n      <td>L</td>\n      <td>UT</td>\n      <td>Salt lake city</td>\n      <td>NaN</td>\n      <td>NaN</td>\n      <td>NaN</td>\n    </tr>\n    <tr>\n      <th>23</th>\n      <td>$ 1,900 USD</td>\n      <td>08/06/2013</td>\n      <td>1992 Acura INTEGRA GS</td>\n      <td>CO - DENVER</td>\n      <td>197187 A</td>\n      <td>$ 1,200 USD</td>\n      <td>FRONT END</td>\n      <td>NaN</td>\n      <td>NaN</td>\n      <td>CO CT</td>\n      <td>1992</td>\n      <td>Acura</td>\n      <td>INTEGRA</td>\n      <td>GS</td>\n      <td>CO</td>\n      <td>Denver</td>\n      <td>NaN</td>\n      <td>NaN</td>\n      <td>NaN</td>\n    </tr>\n    <tr>\n      <th>24</th>\n      <td>$ 4,200 USD</td>\n      <td>06/19/2013</td>\n      <td>1992 Acura LEGEND L</td>\n      <td>LA - NEW ORLEANS</td>\n      <td>120278 E</td>\n      <td>$ 600 USD</td>\n      <td>MECHANICAL</td>\n      <td>NaN</td>\n      <td>SIDE</td>\n      <td>LA RC</td>\n      <td>1992</td>\n      <td>Acura</td>\n      <td>LEGEND</td>\n      <td>L</td>\n      <td>LA</td>\n      <td>New orleans</td>\n      <td>NaN</td>\n      <td>NaN</td>\n      <td>NaN</td>\n    </tr>\n    <tr>\n      <th>25</th>\n      <td>$ 3,500 USD</td>\n      <td>04/23/2013</td>\n      <td>1992 Acura LEGEND LS</td>\n      <td>CA - SAN JOSE</td>\n      <td>237853 E</td>\n      <td>$ 1,100 USD</td>\n      <td>MINOR DENTS/SCRATCHE</td>\n      <td>NaN</td>\n      <td>NaN</td>\n      <td>CA CQ</td>\n      <td>1992</td>\n      <td>Acura</td>\n      <td>LEGEND</td>\n      <td>LS</td>\n      <td>CA</td>\n      <td>San jose</td>\n      <td>NaN</td>\n      <td>NaN</td>\n      <td>NaN</td>\n    </tr>\n    <tr>\n      <th>26</th>\n      <td>NaN</td>\n      <td>03/26/2013</td>\n      <td>1992 Acura LEGEND LS</td>\n      <td>NJ - GLASSBORO EAST</td>\n      <td>220560 A</td>\n      <td>$ 600 USD</td>\n      <td>MECHANICAL</td>\n      <td>NaN</td>\n      <td>NaN</td>\n      <td>NJ CT</td>\n      <td>1992</td>\n      <td>Acura</td>\n      <td>LEGEND</td>\n      <td>LS</td>\n      <td>NJ</td>\n      <td>Glassboro east</td>\n      <td>NaN</td>\n      <td>NaN</td>\n      <td>NaN</td>\n    </tr>\n    <tr>\n      <th>27</th>\n      <td>NaN</td>\n      <td>03/13/2013</td>\n      <td>1992 Acura LEGEND L</td>\n      <td>CA - MARTINEZ</td>\n      <td>193346 A</td>\n      <td>$ 700 USD</td>\n      <td>MINOR DENTS/SCRATCHE</td>\n      <td>NaN</td>\n      <td>NaN</td>\n      <td>CA CQ</td>\n      <td>1992</td>\n      <td>Acura</td>\n      <td>LEGEND</td>\n      <td>L</td>\n      <td>CA</td>\n      <td>Martinez</td>\n      <td>NaN</td>\n      <td>NaN</td>\n      <td>NaN</td>\n    </tr>\n    <tr>\n      <th>28</th>\n      <td>$ 4,000 USD</td>\n      <td>02/25/2013</td>\n      <td>1992 Acura LEGEND LS</td>\n      <td>CA - LOS ANGELES</td>\n      <td>130752 E</td>\n      <td>$ 1,000 USD</td>\n      <td>MINOR DENTS/SCRATCHE</td>\n      <td>NaN</td>\n      <td>NaN</td>\n      <td>CA ST</td>\n      <td>1992</td>\n      <td>Acura</td>\n      <td>LEGEND</td>\n      <td>LS</td>\n      <td>CA</td>\n      <td>Los angeles</td>\n      <td>NaN</td>\n      <td>NaN</td>\n      <td>NaN</td>\n    </tr>\n    <tr>\n      <th>29</th>\n      <td>NaN</td>\n      <td>12/04/2012</td>\n      <td>1992 Acura INTEGRA GS</td>\n      <td>CA - RANCHO CUCAMONGA</td>\n      <td>187570 E</td>\n      <td>$ 1,900 USD</td>\n      <td>MECHANICAL</td>\n      <td>NaN</td>\n      <td>NaN</td>\n      <td>CA ST</td>\n      <td>1992</td>\n      <td>Acura</td>\n      <td>INTEGRA</td>\n      <td>GS</td>\n      <td>CA</td>\n      <td>Rancho cucamonga</td>\n      <td>NaN</td>\n      <td>NaN</td>\n      <td>NaN</td>\n    </tr>\n    <tr>\n      <th>30</th>\n      <td>$ 2,500 USD</td>\n      <td>11/02/2012</td>\n      <td>1992 Acura LEGEND</td>\n      <td>CA - VAN NUYS</td>\n      <td>161073 E</td>\n      <td>$ 900 USD</td>\n      <td>FRONT END</td>\n      <td>NaN</td>\n      <td>NaN</td>\n      <td>CA CQ</td>\n      <td>1992</td>\n      <td>Acura</td>\n      <td>LEGEND</td>\n      <td>NaN</td>\n      <td>CA</td>\n      <td>Van nuys</td>\n      <td>NaN</td>\n      <td>NaN</td>\n      <td>NaN</td>\n    </tr>\n    <tr>\n      <th>31</th>\n      <td>$ 2,500 USD</td>\n      <td>10/02/2012</td>\n      <td>1992 Acura INTEGRA LS</td>\n      <td>NE - LINCOLN</td>\n      <td>162274 E</td>\n      <td>$ 750 USD</td>\n      <td>MECHANICAL</td>\n      <td>NaN</td>\n      <td>NaN</td>\n      <td>MN CT</td>\n      <td>1992</td>\n      <td>Acura</td>\n      <td>INTEGRA</td>\n      <td>LS</td>\n      <td>NE</td>\n      <td>Lincoln</td>\n      <td>NaN</td>\n      <td>NaN</td>\n      <td>NaN</td>\n    </tr>\n    <tr>\n      <th>32</th>\n      <td>$ 3,500 USD</td>\n      <td>08/27/2012</td>\n      <td>1992 Acura INTEGRA GS</td>\n      <td>CA - LOS ANGELES</td>\n      <td>145087 E</td>\n      <td>$ 1,000 USD</td>\n      <td>STRIPPED</td>\n      <td>NaN</td>\n      <td>MINOR DENTS/SCRATCHES</td>\n      <td>CA CQ</td>\n      <td>1992</td>\n      <td>Acura</td>\n      <td>INTEGRA</td>\n      <td>GS</td>\n      <td>CA</td>\n      <td>Los angeles</td>\n      <td>NaN</td>\n      <td>NaN</td>\n      <td>NaN</td>\n    </tr>\n    <tr>\n      <th>33</th>\n      <td>$ 4,000 USD</td>\n      <td>07/09/2012</td>\n      <td>1992 Acura LEGEND LS</td>\n      <td>WA - NORTH SEATTLE</td>\n      <td>229662 E</td>\n      <td>$ 3,000 USD</td>\n      <td>SIDE</td>\n      <td>NaN</td>\n      <td>NaN</td>\n      <td>WA AL</td>\n      <td>1992</td>\n      <td>Acura</td>\n      <td>LEGEND</td>\n      <td>LS</td>\n      <td>WA</td>\n      <td>North seattle</td>\n      <td>NaN</td>\n      <td>NaN</td>\n      <td>NaN</td>\n    </tr>\n    <tr>\n      <th>34</th>\n      <td>$ 28,500 USD</td>\n      <td>06/26/2012</td>\n      <td>1992 Acura NSX</td>\n      <td>MN - MINNEAPOLIS NORTH</td>\n      <td>73574 E</td>\n      <td>$ 16,000 USD</td>\n      <td>NORMAL WEAR</td>\n      <td>NaN</td>\n      <td>NaN</td>\n      <td>MN SH</td>\n      <td>1992</td>\n      <td>Acura</td>\n      <td>NSX</td>\n      <td>NaN</td>\n      <td>MN</td>\n      <td>Minneapolis north</td>\n      <td>NaN</td>\n      <td>NaN</td>\n      <td>NaN</td>\n    </tr>\n    <tr>\n      <th>35</th>\n      <td>$ 3,375 USD</td>\n      <td>10/03/2019</td>\n      <td>1993 Acura LEGEND L</td>\n      <td>NV - RENO</td>\n      <td>148007 E</td>\n      <td>$ 200 USD</td>\n      <td>Side</td>\n      <td>NaN</td>\n      <td>NaN</td>\n      <td>NV CT</td>\n      <td>1993</td>\n      <td>Acura</td>\n      <td>LEGEND</td>\n      <td>L</td>\n      <td>NV</td>\n      <td>Reno</td>\n      <td>NaN</td>\n      <td>NaN</td>\n      <td>NaN</td>\n    </tr>\n    <tr>\n      <th>36</th>\n      <td>$ 47,403 USD</td>\n      <td>10/02/2019</td>\n      <td>1993 Acura NSX</td>\n      <td>NY - SYRACUSE</td>\n      <td>240690 E</td>\n      <td>$ 21,000 USD</td>\n      <td>Side</td>\n      <td>NaN</td>\n      <td>Rear end</td>\n      <td>TX SV</td>\n      <td>1993</td>\n      <td>Acura</td>\n      <td>NSX</td>\n      <td>NaN</td>\n      <td>NY</td>\n      <td>Syracuse</td>\n      <td>NaN</td>\n      <td>NaN</td>\n      <td>NaN</td>\n    </tr>\n    <tr>\n      <th>37</th>\n      <td>NaN</td>\n      <td>09/30/2019</td>\n      <td>1993 Acura LEGEND LS</td>\n      <td>MD - BALTIMORE</td>\n      <td>213826 A</td>\n      <td>$ 400 USD</td>\n      <td>Mechanical</td>\n      <td>NaN</td>\n      <td>Minor dent/scratches</td>\n      <td>MD CT</td>\n      <td>1993</td>\n      <td>Acura</td>\n      <td>LEGEND</td>\n      <td>LS</td>\n      <td>MD</td>\n      <td>Baltimore</td>\n      <td>NaN</td>\n      <td>NaN</td>\n      <td>NaN</td>\n    </tr>\n    <tr>\n      <th>38</th>\n      <td>NaN</td>\n      <td>09/23/2019</td>\n      <td>1993 Acura INTEGRA GS</td>\n      <td>WA - NORTH SEATTLE</td>\n      <td>226674 E</td>\n      <td>$ 275 USD</td>\n      <td>Mechanical</td>\n      <td>NaN</td>\n      <td>NaN</td>\n      <td>WA AL</td>\n      <td>1993</td>\n      <td>Acura</td>\n      <td>INTEGRA</td>\n      <td>GS</td>\n      <td>WA</td>\n      <td>North seattle</td>\n      <td>NaN</td>\n      <td>NaN</td>\n      <td>NaN</td>\n    </tr>\n    <tr>\n      <th>39</th>\n      <td>$ 1,583 USD</td>\n      <td>03/21/2019</td>\n      <td>1993 Acura INTEGRA RS</td>\n      <td>CA - SAN BERNARDINO</td>\n      <td>236608 A</td>\n      <td>$ 200 USD</td>\n      <td>Mechanical</td>\n      <td>NaN</td>\n      <td>NaN</td>\n      <td>CA SC</td>\n      <td>1993</td>\n      <td>Acura</td>\n      <td>INTEGRA</td>\n      <td>RS</td>\n      <td>CA</td>\n      <td>San bernardino</td>\n      <td>NaN</td>\n      <td>NaN</td>\n      <td>NaN</td>\n    </tr>\n    <tr>\n      <th>40</th>\n      <td>$ 2,043 USD</td>\n      <td>01/22/2019</td>\n      <td>1993 Acura VIGOR GS</td>\n      <td>CA - FRESNO</td>\n      <td>181958 A</td>\n      <td>$ 125 USD</td>\n      <td>Front end</td>\n      <td>$ 4,802 USD</td>\n      <td>Side</td>\n      <td>CA SC</td>\n      <td>1993</td>\n      <td>Acura</td>\n      <td>VIGOR</td>\n      <td>GS</td>\n      <td>CA</td>\n      <td>Fresno</td>\n      <td>NaN</td>\n      <td>NaN</td>\n      <td>NaN</td>\n    </tr>\n    <tr>\n      <th>41</th>\n      <td>$ 625 USD</td>\n      <td>07/25/2018</td>\n      <td>1993 Acura INTEGRA LS</td>\n      <td>CA - MARTINEZ</td>\n      <td>174906 E</td>\n      <td>$ 275 USD</td>\n      <td>Front end</td>\n      <td>NaN</td>\n      <td>NaN</td>\n      <td>CA SH</td>\n      <td>1993</td>\n      <td>Acura</td>\n      <td>INTEGRA</td>\n      <td>LS</td>\n      <td>CA</td>\n      <td>Martinez</td>\n      <td>NaN</td>\n      <td>NaN</td>\n      <td>NaN</td>\n    </tr>\n    <tr>\n      <th>42</th>\n      <td>$ 3,375 USD</td>\n      <td>07/10/2018</td>\n      <td>1993 Acura LEGEND L</td>\n      <td>OK - OKLAHOMA CITY</td>\n      <td>266040 E</td>\n      <td>$ 250 USD</td>\n      <td>Minor dent/scratches</td>\n      <td>NaN</td>\n      <td>Front end</td>\n      <td>OK CT</td>\n      <td>1993</td>\n      <td>Acura</td>\n      <td>LEGEND</td>\n      <td>L</td>\n      <td>OK</td>\n      <td>Oklahoma city</td>\n      <td>NaN</td>\n      <td>NaN</td>\n      <td>NaN</td>\n    </tr>\n    <tr>\n      <th>43</th>\n      <td>$ 2,790 USD</td>\n      <td>05/30/2018</td>\n      <td>1993 Acura INTEGRA</td>\n      <td>CA - MARTINEZ</td>\n      <td>283082 E</td>\n      <td>$ 500 USD</td>\n      <td>Front end</td>\n      <td>NaN</td>\n      <td>NaN</td>\n      <td>CA CQ</td>\n      <td>1993</td>\n      <td>Acura</td>\n      <td>INTEGRA</td>\n      <td>NaN</td>\n      <td>CA</td>\n      <td>Martinez</td>\n      <td>NaN</td>\n      <td>NaN</td>\n      <td>NaN</td>\n    </tr>\n    <tr>\n      <th>44</th>\n      <td>$ 1,100 USD</td>\n      <td>01/19/2018</td>\n      <td>1993 Acura LEGEND LS</td>\n      <td>CA - VALLEJO</td>\n      <td>114922 E</td>\n      <td>$ 200 USD</td>\n      <td>Minor dent/scratches</td>\n      <td>NaN</td>\n      <td>Mechanical</td>\n      <td>CA CQ</td>\n      <td>1993</td>\n      <td>Acura</td>\n      <td>LEGEND</td>\n      <td>LS</td>\n      <td>CA</td>\n      <td>Vallejo</td>\n      <td>NaN</td>\n      <td>NaN</td>\n      <td>NaN</td>\n    </tr>\n    <tr>\n      <th>45</th>\n      <td>$ 3,183 USD</td>\n      <td>02/07/2017</td>\n      <td>1993 Acura INTEGRA LS</td>\n      <td>WA - GRAHAM</td>\n      <td>171474 E</td>\n      <td>$ 150 USD</td>\n      <td>FRONT END</td>\n      <td>$ 2,959.96 USD</td>\n      <td>SIDE</td>\n      <td>WA BS</td>\n      <td>1993</td>\n      <td>Acura</td>\n      <td>INTEGRA</td>\n      <td>LS</td>\n      <td>WA</td>\n      <td>Graham</td>\n      <td>NaN</td>\n      <td>NaN</td>\n      <td>NaN</td>\n    </tr>\n    <tr>\n      <th>46</th>\n      <td>$ 1,500 USD</td>\n      <td>11/21/2016</td>\n      <td>1993 Acura LEGEND L</td>\n      <td>WA - NORTH SEATTLE</td>\n      <td>256979 E</td>\n      <td>$ 125 USD</td>\n      <td>FRONT END</td>\n      <td>NaN</td>\n      <td>NaN</td>\n      <td>WA CT</td>\n      <td>1993</td>\n      <td>Acura</td>\n      <td>LEGEND</td>\n      <td>L</td>\n      <td>WA</td>\n      <td>North seattle</td>\n      <td>NaN</td>\n      <td>NaN</td>\n      <td>NaN</td>\n    </tr>\n    <tr>\n      <th>47</th>\n      <td>NaN</td>\n      <td>08/30/2016</td>\n      <td>1993 Acura LEGEND L</td>\n      <td>CA - SACRAMENTO</td>\n      <td>257644 E</td>\n      <td>$ 500 USD</td>\n      <td>FRONT END</td>\n      <td>NaN</td>\n      <td>NaN</td>\n      <td>CA CQ</td>\n      <td>1993</td>\n      <td>Acura</td>\n      <td>LEGEND</td>\n      <td>L</td>\n      <td>CA</td>\n      <td>Sacramento</td>\n      <td>NaN</td>\n      <td>NaN</td>\n      <td>NaN</td>\n    </tr>\n    <tr>\n      <th>48</th>\n      <td>$ 2,792 USD</td>\n      <td>08/03/2016</td>\n      <td>1993 Acura LEGEND L</td>\n      <td>OR - PORTLAND NORTH</td>\n      <td>171811 A</td>\n      <td>$ 125 USD</td>\n      <td>FRONT END</td>\n      <td>$ 3,255.38 USD</td>\n      <td>MINOR DENT/SCRATCHES</td>\n      <td>OR SC</td>\n      <td>1993</td>\n      <td>Acura</td>\n      <td>LEGEND</td>\n      <td>L</td>\n      <td>OR</td>\n      <td>Portland north</td>\n      <td>NaN</td>\n      <td>NaN</td>\n      <td>NaN</td>\n    </tr>\n    <tr>\n      <th>49</th>\n      <td>$ 750 USD</td>\n      <td>05/17/2016</td>\n      <td>1993 Acura LEGEND L</td>\n      <td>WA - GRAHAM</td>\n      <td>201177 E</td>\n      <td>$ 300 USD</td>\n      <td>SIDE</td>\n      <td>NaN</td>\n      <td>UNDERCARRIAGE</td>\n      <td>WA AL</td>\n      <td>1993</td>\n      <td>Acura</td>\n      <td>LEGEND</td>\n      <td>L</td>\n      <td>WA</td>\n      <td>Graham</td>\n      <td>NaN</td>\n      <td>NaN</td>\n      <td>NaN</td>\n    </tr>\n  </tbody>\n</table>\n</div>"
     },
     "metadata": {},
     "execution_count": 5
    }
   ],
   "source": [
    "print(out_df.columns)\n",
    "\n",
    "row_size = out_df.shape[0]\n",
    "\n",
    "print('Raw dataset size: ',row_size)\n",
    "\n",
    "\n",
    "out_df.head(50)\n",
    ""
   ]
  },
  {
   "cell_type": "code",
   "execution_count": 6,
   "metadata": {},
   "outputs": [],
   "source": [
    "#clean up wrong values \n",
    "out_df = out_df.loc[~out_df['Actual Cash Value'].str.contains('Odometer').fillna(False)]\n",
    "out_df = out_df.loc[~out_df['Year'].str.contains('Make').fillna(False)]\n",
    "out_df = out_df.loc[~out_df['Year'].str.contains('Model:').fillna(False)]\n",
    "out_df = out_df.loc[~out_df['Auction Date'].str.contains('Repair Cost').fillna(False)]\n",
    "\n",
    "\n",
    "#filter out canadian cars\n",
    "out_df = out_df.loc[~out_df['Price Sold or Highest Bid'].str.contains('CA').fillna(False)\n",
    "                               ]\n",
    "\n",
    "out_df['Auction Date'] = pd.to_datetime(out_df['Auction Date'])\n",
    "\n",
    "out_df['Auction_Year'] = out_df['Auction Date'].dt.year"
   ]
  },
  {
   "cell_type": "code",
   "execution_count": 7,
   "metadata": {},
   "outputs": [
    {
     "output_type": "stream",
     "name": "stdout",
     "text": "Cleaned dataset size: 1046013 \nRows removed:  2091\n"
    }
   ],
   "source": [
    "cleaned_size = out_df.shape[0]\n",
    "print('Cleaned dataset size:',cleaned_size\n",
    "      ,'\\nRows removed: ', row_size - cleaned_size)\n",
    ""
   ]
  },
  {
   "cell_type": "code",
   "execution_count": 8,
   "metadata": {},
   "outputs": [],
   "source": [
    "# # out_df.to_csv(path_to_processed_csv+'SC-countymap.csv',index=False)\n",
    "\n",
    "# # out_df = pd.read_csv(path_to_processed_csv+'SC-countymap.csv')\n",
    "\n",
    "# from DataProcessing.DataStats import get_df_stats\n",
    "\n",
    "# get_df_stats(out_df)"
   ]
  },
  {
   "cell_type": "code",
   "execution_count": 9,
   "metadata": {},
   "outputs": [
    {
     "output_type": "stream",
     "name": "stdout",
     "text": "Cat count: 33 \n ['front end' 'minor dent/scratches' 'mechanical' 'side' 'normal wear'\n 'hail' 'minor dents/scratche' 'stripped' 'all over' 'damage history'\n 'partial/incomplete r' 'rear end' 'vandalism' 'water/flood' 'burn'\n 'previous repair' 'partial repair' 'top/roof' 'rollover'\n 'burn - interior' 'undercarriage' 'biohazard/chemical' 'burn - engine'\n 'frame damage' 'missing/altered vin' 'unknown' 'frame damage reporte'\n 'replaced vin' 'rejected repair' 'biohazardous/chemica' nan\n 'cash for clunkers' 'rr']\n"
    }
   ],
   "source": [
    "# Combining Prim Damages \n",
    "raw_prim_cat = out_df['Prim Damage'].str.lower().unique()\n",
    "print('Cat count:',raw_prim_cat.shape[0],'\\n',raw_prim_cat)"
   ]
  },
  {
   "cell_type": "code",
   "execution_count": 10,
   "metadata": {},
   "outputs": [],
   "source": [
    "prim_damage_map = {\n",
    " 'burn - engine': 'burn'\n",
    ", 'partial/incomplete r' : 'partial repair'\n",
    ", 'frame damage reporte' : 'frame damage'\n",
    "\n",
    ",'unknown' : 'no data'\n",
    "\n",
    "\n",
    ", np.nan : 'no data'\n",
    ",'price sold or highest bid' :'no data'\n",
    ",'rr' : 'no data'\n",
    "\n",
    "}\n",
    "out_df['Prim Damage'] = out_df['Prim Damage'].str.lower().replace(prim_damage_map)"
   ]
  },
  {
   "cell_type": "code",
   "execution_count": 11,
   "metadata": {},
   "outputs": [
    {
     "output_type": "stream",
     "name": "stdout",
     "text": "Cat count: 28 \n ['front end' 'minor dent/scratches' 'mechanical' 'side' 'normal wear'\n 'hail' 'minor dents/scratche' 'stripped' 'all over' 'damage history'\n 'partial repair' 'rear end' 'vandalism' 'water/flood' 'burn'\n 'previous repair' 'top/roof' 'rollover' 'burn - interior' 'undercarriage'\n 'biohazard/chemical' 'frame damage' 'missing/altered vin' 'no data'\n 'replaced vin' 'rejected repair' 'biohazardous/chemica'\n 'cash for clunkers']\n"
    }
   ],
   "source": [
    "new_prim_cat = out_df['Prim Damage'].str.lower().unique()\n",
    "print('Cat count:',new_prim_cat.shape[0],'\\n',new_prim_cat)"
   ]
  },
  {
   "cell_type": "code",
   "execution_count": 12,
   "metadata": {},
   "outputs": [],
   "source": [
    "# out_df = out_df.join(out_df['Location'].str.split('-',expand=True).rename(columns={0:'State',1:'City'}))"
   ]
  },
  {
   "cell_type": "code",
   "execution_count": 13,
   "metadata": {},
   "outputs": [
    {
     "output_type": "stream",
     "name": "stdout",
     "text": "New columns names: Index(['Actual_Cash_Value', 'Auction_Date', 'Description', 'Location',\n       'Odometer', 'Price_Sold_or_Highest_Bid', 'Prim_Damage', 'Repair_Cost',\n       'Sec_Damage', 'Title_State_Type', 'Model_Year', 'Make', 'Model',\n       'State', 'City', 'Auction_Year', 'Model_short'],\n      dtype='object')\n"
    }
   ],
   "source": [
    "#fix numerical values\n",
    "def alter_sting(x):    \n",
    "    try:\n",
    "        return float(re.sub('[\\$,USD,\\, ,E,A,N]','',x))\n",
    "    except:\n",
    "#         print(x)\n",
    "        return np.nan\n",
    "\n",
    "\n",
    "out_df['Actual Cash Value'] = (out_df['Actual Cash Value']\n",
    "                               #.fillna(-1)\n",
    "                               .map(alter_sting))\n",
    "out_df['Repair Cost'] = (out_df['Repair Cost']\n",
    "#                          .fillna(-1)\n",
    "                         .map(alter_sting))\n",
    "\n",
    "out_df['Price Sold or Highest Bid'] = (out_df['Price Sold or Highest Bid']\n",
    "                                       #.fillna(-1)\n",
    "                                       .map(alter_sting))\n",
    "out_df['Year'] = (out_df['Year']\n",
    "#                   .fillna(-1)\n",
    "                  .map(float))\n",
    "\n",
    "out_df = out_df.rename(columns={'Year':'Model_Year'\n",
    "                               })\n",
    "                               #.assign(Model_Year = lambda x: int(x))#pd.to_datetime(x['Model_Year']#.astype(int).astype(str))\n",
    "                      \n",
    "\n",
    "out_df['City'] = out_df['City'].str.strip().str.capitalize()\n",
    "out_df['State'] = out_df['State'].str.strip().str.upper()\n",
    "out_df['Model_short'] = out_df['Model'].astype('str')\n",
    "out_df['Model'] = out_df['Model'].astype('str') + ' '+out_df['Model 2'].astype('str').fillna('') + ' ' + out_df['Model 3'].fillna('').astype('str')\n",
    "out_df['Make'] = out_df['Make'].str.strip().str.upper()\n",
    "out_df['Model'] = out_df['Model'].str.strip().str.upper()\n",
    "out_df['Model_short'] = out_df['Model_short'].str.strip().str.upper()\n",
    "\n",
    "#rename variables - add _ where needed\n",
    "\n",
    "out_df = out_df.rename({'Price Sold or Highest Bid':'Price_Sold_or_Highest_Bid'\n",
    "                            ,'Repair Cost':'Repair_Cost'\n",
    "                            ,'Actual Cash Value':'Actual_Cash_Value'\n",
    "                            ,'Prim Damage':'Prim_Damage'\n",
    "                            ,'Sec Damage':'Sec_Damage'\n",
    "                            ,'Title State/Type':'Title_State_Type'\n",
    "                            ,'Auction Date':'Auction_Date'\n",
    "                            },axis=1)\n",
    "\n",
    "\n",
    "\n",
    "# out_df['Auction_Date'] = out_df['Auction_Date'].dt.year\n",
    "out_df['Model_Year'] = out_df['Model_Year'].astype(int)\n",
    "\n",
    "#remove columns \n",
    "\n",
    "out_df = out_df.drop(columns=['Model 2','Model 3', '2', '5'])\n",
    "\n",
    "\n",
    "print('New columns names:',out_df.columns)"
   ]
  },
  {
   "cell_type": "code",
   "execution_count": 14,
   "metadata": {},
   "outputs": [
    {
     "output_type": "execute_result",
     "data": {
      "text/plain": "   Actual_Cash_Value Auction_Date            Description             Location  \\\n0             5649.0   2019-10-02  1992 Acura INTEGRA GS  KY - LEXINGTON WEST   \n1                NaN   2019-06-18  1992 Acura INTEGRA LS        CA - SAN JOSE   \n2                NaN   2019-05-24    1992 Acura VIGOR GS      NJ - SOMERVILLE   \n3              725.0   2018-11-26  1992 Acura INTEGRA GS   WA - NORTH SEATTLE   \n4             1450.0   2018-09-12  1992 Acura INTEGRA LS     NY - LONG ISLAND   \n\n   Odometer  Price_Sold_or_Highest_Bid           Prim_Damage  Repair_Cost  \\\n0  146073 A                     3750.0             front end          NaN   \n1  182250 E                      300.0  minor dent/scratches          NaN   \n2  188301 A                      575.0             front end          NaN   \n3  300930 E                      325.0             front end          NaN   \n4  260216 E                      300.0             front end          NaN   \n\n   Sec_Damage Title_State_Type  Model_Year   Make       Model State  \\\n0         NaN            FL RB        1992  ACURA  INTEGRA GS    KY   \n1         NaN            CA CQ        1992  ACURA  INTEGRA LS    CA   \n2  Mechanical            NJ CT        1992  ACURA    VIGOR GS    NJ   \n3  Mechanical            WA CT        1992  ACURA  INTEGRA GS    WA   \n4         NaN            NY CT        1992  ACURA  INTEGRA LS    NY   \n\n             City  Auction_Year Model_short  \n0  Lexington west          2019     INTEGRA  \n1        San jose          2019     INTEGRA  \n2      Somerville          2019       VIGOR  \n3   North seattle          2018     INTEGRA  \n4     Long island          2018     INTEGRA  ",
      "text/html": "<div>\n<style scoped>\n    .dataframe tbody tr th:only-of-type {\n        vertical-align: middle;\n    }\n\n    .dataframe tbody tr th {\n        vertical-align: top;\n    }\n\n    .dataframe thead th {\n        text-align: right;\n    }\n</style>\n<table border=\"1\" class=\"dataframe\">\n  <thead>\n    <tr style=\"text-align: right;\">\n      <th></th>\n      <th>Actual_Cash_Value</th>\n      <th>Auction_Date</th>\n      <th>Description</th>\n      <th>Location</th>\n      <th>Odometer</th>\n      <th>Price_Sold_or_Highest_Bid</th>\n      <th>Prim_Damage</th>\n      <th>Repair_Cost</th>\n      <th>Sec_Damage</th>\n      <th>Title_State_Type</th>\n      <th>Model_Year</th>\n      <th>Make</th>\n      <th>Model</th>\n      <th>State</th>\n      <th>City</th>\n      <th>Auction_Year</th>\n      <th>Model_short</th>\n    </tr>\n  </thead>\n  <tbody>\n    <tr>\n      <th>0</th>\n      <td>5649.0</td>\n      <td>2019-10-02</td>\n      <td>1992 Acura INTEGRA GS</td>\n      <td>KY - LEXINGTON WEST</td>\n      <td>146073 A</td>\n      <td>3750.0</td>\n      <td>front end</td>\n      <td>NaN</td>\n      <td>NaN</td>\n      <td>FL RB</td>\n      <td>1992</td>\n      <td>ACURA</td>\n      <td>INTEGRA GS</td>\n      <td>KY</td>\n      <td>Lexington west</td>\n      <td>2019</td>\n      <td>INTEGRA</td>\n    </tr>\n    <tr>\n      <th>1</th>\n      <td>NaN</td>\n      <td>2019-06-18</td>\n      <td>1992 Acura INTEGRA LS</td>\n      <td>CA - SAN JOSE</td>\n      <td>182250 E</td>\n      <td>300.0</td>\n      <td>minor dent/scratches</td>\n      <td>NaN</td>\n      <td>NaN</td>\n      <td>CA CQ</td>\n      <td>1992</td>\n      <td>ACURA</td>\n      <td>INTEGRA LS</td>\n      <td>CA</td>\n      <td>San jose</td>\n      <td>2019</td>\n      <td>INTEGRA</td>\n    </tr>\n    <tr>\n      <th>2</th>\n      <td>NaN</td>\n      <td>2019-05-24</td>\n      <td>1992 Acura VIGOR GS</td>\n      <td>NJ - SOMERVILLE</td>\n      <td>188301 A</td>\n      <td>575.0</td>\n      <td>front end</td>\n      <td>NaN</td>\n      <td>Mechanical</td>\n      <td>NJ CT</td>\n      <td>1992</td>\n      <td>ACURA</td>\n      <td>VIGOR GS</td>\n      <td>NJ</td>\n      <td>Somerville</td>\n      <td>2019</td>\n      <td>VIGOR</td>\n    </tr>\n    <tr>\n      <th>3</th>\n      <td>725.0</td>\n      <td>2018-11-26</td>\n      <td>1992 Acura INTEGRA GS</td>\n      <td>WA - NORTH SEATTLE</td>\n      <td>300930 E</td>\n      <td>325.0</td>\n      <td>front end</td>\n      <td>NaN</td>\n      <td>Mechanical</td>\n      <td>WA CT</td>\n      <td>1992</td>\n      <td>ACURA</td>\n      <td>INTEGRA GS</td>\n      <td>WA</td>\n      <td>North seattle</td>\n      <td>2018</td>\n      <td>INTEGRA</td>\n    </tr>\n    <tr>\n      <th>4</th>\n      <td>1450.0</td>\n      <td>2018-09-12</td>\n      <td>1992 Acura INTEGRA LS</td>\n      <td>NY - LONG ISLAND</td>\n      <td>260216 E</td>\n      <td>300.0</td>\n      <td>front end</td>\n      <td>NaN</td>\n      <td>NaN</td>\n      <td>NY CT</td>\n      <td>1992</td>\n      <td>ACURA</td>\n      <td>INTEGRA LS</td>\n      <td>NY</td>\n      <td>Long island</td>\n      <td>2018</td>\n      <td>INTEGRA</td>\n    </tr>\n  </tbody>\n</table>\n</div>"
     },
     "metadata": {},
     "execution_count": 14
    }
   ],
   "source": [
    "out_df.head()"
   ]
  },
  {
   "cell_type": "code",
   "execution_count": 15,
   "metadata": {},
   "outputs": [],
   "source": [
    "#format odometer data\n",
    "\n",
    "#for null model - replace all E  & N values into \"No Data\" (np.nan)\n",
    "\n",
    "def odometer_null(x):\n",
    "    if 'E' in x or 'N' in x:\n",
    "        return np.nan\n",
    "    else:\n",
    "        return alter_sting(x)\n",
    "\n",
    "\n",
    "    \n",
    "#create a dictionary for max E value for each model \n",
    "\n",
    "odometr_dict = (out_df.loc[out_df['Odometer'].str.contains('A')]\n",
    "                 .assign(odometer_num = lambda x: x['Odometer'].map(alter_sting)\n",
    "                        )\n",
    "                 .groupby('Description')['odometer_num']\n",
    "                 .max()\n",
    "                #  [['Odometer','odometer_num']]\n",
    "                )\n",
    "\n",
    "#replace E and N values into max of A category\n",
    "def odometer_replace(x):\n",
    "    if 'E' in x['Odometer'] or 'N' in x['Odometer']:\n",
    "        try:\n",
    "            return odometr_dict[x['Description']]\n",
    "        except:\n",
    "            return np.nan\n",
    "    else:\n",
    "        return alter_sting(x['Odometer'])\n",
    "\n",
    "\n",
    "#create null model\n",
    "out_df = out_df.assign(Odometer_Null = lambda x: x['Odometer'].map(odometer_null))\n",
    "\n",
    "#create replace model:\n",
    "\n",
    "out_df = out_df.assign(Odometer_Replace = lambda x: x.apply(odometer_replace,axis=1))\n",
    "\n",
    "\n",
    "# create Model_Age\n",
    "# current_year = 2019\n",
    "out_df['Model_Age'] = (out_df['Auction_Year'] - out_df['Model_Year'] ) + 1 #.dt.days // 365 \n",
    "# out_df['Model_Year'] = out_df['Model_Year'].dt.year"
   ]
  },
  {
   "cell_type": "code",
   "execution_count": 16,
   "metadata": {},
   "outputs": [
    {
     "output_type": "execute_result",
     "data": {
      "text/plain": "         Actual_Cash_Value Auction_Date             Description  \\\n1048099            21521.0   2016-08-15  2016 Nissan ROGUE S/SL   \n1048100                NaN   2016-08-12  2016 Nissan ALTIMA 2.5   \n1048101            21208.0   2016-08-12  2016 Nissan ROGUE S/SL   \n1048102            18340.0   2016-08-12  2016 Nissan SENTRA S/S   \n1048103            18000.0   2016-08-11  2016 Nissan SENTRA S/S   \n\n                       Location Odometer  Price_Sold_or_Highest_Bid  \\\n1048099  FL - JACKSONVILLE EAST      0 N                     4900.0   \n1048100             AZ - TUCSON   1939 A                     6900.0   \n1048101            TX - HOUSTON  11051 A                     2500.0   \n1048102      IL - CHICAGO SOUTH   2607 N                     2500.0   \n1048103   PA - PITTSBURGH NORTH   1742 A                     4900.0   \n\n        Prim_Damage  Repair_Cost          Sec_Damage Title_State_Type  \\\n1048099   front end     20642.00  BIOHAZARD/CHEMICAL            FL CD   \n1048100   front end          NaN                 NaN            AZ SC   \n1048101    all over     26661.32       UNDERCARRIAGE            TX SV   \n1048102   front end     22830.00       UNDERCARRIAGE            IL SC   \n1048103   front end          NaN                 NaN            PA SC   \n\n         Model_Year    Make       Model State City  Auction_Year Model_short  \\\n1048099        2016  NISSAN  ROGUE S/SL   NaN  NaN          2016       ROGUE   \n1048100        2016  NISSAN  ALTIMA 2.5   NaN  NaN          2016      ALTIMA   \n1048101        2016  NISSAN  ROGUE S/SL   NaN  NaN          2016       ROGUE   \n1048102        2016  NISSAN  SENTRA S/S   NaN  NaN          2016      SENTRA   \n1048103        2016  NISSAN  SENTRA S/S   NaN  NaN          2016      SENTRA   \n\n         Odometer_Null  Odometer_Replace  Model_Age  \n1048099            NaN           49819.0          1  \n1048100         1939.0            1939.0          1  \n1048101        11051.0           11051.0          1  \n1048102            NaN           79448.0          1  \n1048103         1742.0            1742.0          1  ",
      "text/html": "<div>\n<style scoped>\n    .dataframe tbody tr th:only-of-type {\n        vertical-align: middle;\n    }\n\n    .dataframe tbody tr th {\n        vertical-align: top;\n    }\n\n    .dataframe thead th {\n        text-align: right;\n    }\n</style>\n<table border=\"1\" class=\"dataframe\">\n  <thead>\n    <tr style=\"text-align: right;\">\n      <th></th>\n      <th>Actual_Cash_Value</th>\n      <th>Auction_Date</th>\n      <th>Description</th>\n      <th>Location</th>\n      <th>Odometer</th>\n      <th>Price_Sold_or_Highest_Bid</th>\n      <th>Prim_Damage</th>\n      <th>Repair_Cost</th>\n      <th>Sec_Damage</th>\n      <th>Title_State_Type</th>\n      <th>Model_Year</th>\n      <th>Make</th>\n      <th>Model</th>\n      <th>State</th>\n      <th>City</th>\n      <th>Auction_Year</th>\n      <th>Model_short</th>\n      <th>Odometer_Null</th>\n      <th>Odometer_Replace</th>\n      <th>Model_Age</th>\n    </tr>\n  </thead>\n  <tbody>\n    <tr>\n      <th>1048099</th>\n      <td>21521.0</td>\n      <td>2016-08-15</td>\n      <td>2016 Nissan ROGUE S/SL</td>\n      <td>FL - JACKSONVILLE EAST</td>\n      <td>0 N</td>\n      <td>4900.0</td>\n      <td>front end</td>\n      <td>20642.00</td>\n      <td>BIOHAZARD/CHEMICAL</td>\n      <td>FL CD</td>\n      <td>2016</td>\n      <td>NISSAN</td>\n      <td>ROGUE S/SL</td>\n      <td>NaN</td>\n      <td>NaN</td>\n      <td>2016</td>\n      <td>ROGUE</td>\n      <td>NaN</td>\n      <td>49819.0</td>\n      <td>1</td>\n    </tr>\n    <tr>\n      <th>1048100</th>\n      <td>NaN</td>\n      <td>2016-08-12</td>\n      <td>2016 Nissan ALTIMA 2.5</td>\n      <td>AZ - TUCSON</td>\n      <td>1939 A</td>\n      <td>6900.0</td>\n      <td>front end</td>\n      <td>NaN</td>\n      <td>NaN</td>\n      <td>AZ SC</td>\n      <td>2016</td>\n      <td>NISSAN</td>\n      <td>ALTIMA 2.5</td>\n      <td>NaN</td>\n      <td>NaN</td>\n      <td>2016</td>\n      <td>ALTIMA</td>\n      <td>1939.0</td>\n      <td>1939.0</td>\n      <td>1</td>\n    </tr>\n    <tr>\n      <th>1048101</th>\n      <td>21208.0</td>\n      <td>2016-08-12</td>\n      <td>2016 Nissan ROGUE S/SL</td>\n      <td>TX - HOUSTON</td>\n      <td>11051 A</td>\n      <td>2500.0</td>\n      <td>all over</td>\n      <td>26661.32</td>\n      <td>UNDERCARRIAGE</td>\n      <td>TX SV</td>\n      <td>2016</td>\n      <td>NISSAN</td>\n      <td>ROGUE S/SL</td>\n      <td>NaN</td>\n      <td>NaN</td>\n      <td>2016</td>\n      <td>ROGUE</td>\n      <td>11051.0</td>\n      <td>11051.0</td>\n      <td>1</td>\n    </tr>\n    <tr>\n      <th>1048102</th>\n      <td>18340.0</td>\n      <td>2016-08-12</td>\n      <td>2016 Nissan SENTRA S/S</td>\n      <td>IL - CHICAGO SOUTH</td>\n      <td>2607 N</td>\n      <td>2500.0</td>\n      <td>front end</td>\n      <td>22830.00</td>\n      <td>UNDERCARRIAGE</td>\n      <td>IL SC</td>\n      <td>2016</td>\n      <td>NISSAN</td>\n      <td>SENTRA S/S</td>\n      <td>NaN</td>\n      <td>NaN</td>\n      <td>2016</td>\n      <td>SENTRA</td>\n      <td>NaN</td>\n      <td>79448.0</td>\n      <td>1</td>\n    </tr>\n    <tr>\n      <th>1048103</th>\n      <td>18000.0</td>\n      <td>2016-08-11</td>\n      <td>2016 Nissan SENTRA S/S</td>\n      <td>PA - PITTSBURGH NORTH</td>\n      <td>1742 A</td>\n      <td>4900.0</td>\n      <td>front end</td>\n      <td>NaN</td>\n      <td>NaN</td>\n      <td>PA SC</td>\n      <td>2016</td>\n      <td>NISSAN</td>\n      <td>SENTRA S/S</td>\n      <td>NaN</td>\n      <td>NaN</td>\n      <td>2016</td>\n      <td>SENTRA</td>\n      <td>1742.0</td>\n      <td>1742.0</td>\n      <td>1</td>\n    </tr>\n  </tbody>\n</table>\n</div>"
     },
     "metadata": {},
     "execution_count": 16
    }
   ],
   "source": [
    "out_df.tail()"
   ]
  },
  {
   "cell_type": "code",
   "execution_count": 17,
   "metadata": {},
   "outputs": [
    {
     "output_type": "stream",
     "name": "stdout",
     "text": "Wall time: 2min 12s\n"
    },
    {
     "output_type": "execute_result",
     "data": {
      "text/plain": "   Actual_Cash_Value Auction_Date            Description             Location  \\\n0             5649.0   2019-10-02  1992 Acura INTEGRA GS  KY - LEXINGTON WEST   \n1                NaN   2019-06-18  1992 Acura INTEGRA LS        CA - SAN JOSE   \n2                NaN   2019-05-24    1992 Acura VIGOR GS      NJ - SOMERVILLE   \n3              725.0   2018-11-26  1992 Acura INTEGRA GS   WA - NORTH SEATTLE   \n4             1450.0   2018-09-12  1992 Acura INTEGRA LS     NY - LONG ISLAND   \n5             3250.0   2017-12-20    1992 Acura VIGOR GS        CA - MARTINEZ   \n6                NaN   2016-12-08    1992 Acura LEGEND L     MN - MINNEAPOLIS   \n7             1960.0   2016-09-13  1992 Acura INTEGRA LS       TN - KNOXVILLE   \n8                NaN   2016-07-25   1992 Acura LEGEND LS       MD - BALTIMORE   \n9                NaN   2016-07-19    1992 Acura LEGEND L  NJ - GLASSBORO EAST   \n\n   Odometer  Price_Sold_or_Highest_Bid           Prim_Damage  Repair_Cost  \\\n0  146073 A                     3750.0             front end          NaN   \n1  182250 E                      300.0  minor dent/scratches          NaN   \n2  188301 A                      575.0             front end          NaN   \n3  300930 E                      325.0             front end          NaN   \n4  260216 E                      300.0             front end          NaN   \n5  205852 E                      175.0  minor dent/scratches          NaN   \n6  144195 E                      125.0            mechanical          NaN   \n7  309149 E                      975.0                  side          NaN   \n8  104173 A                      150.0  minor dent/scratches          NaN   \n9  131385 A                      200.0           normal wear          NaN   \n\n    Sec_Damage Title_State_Type  ...       Model State            City  \\\n0          NaN            FL RB  ...  INTEGRA GS    KY  Lexington west   \n1          NaN            CA CQ  ...  INTEGRA LS    CA        San jose   \n2   Mechanical            NJ CT  ...    VIGOR GS    NJ      Somerville   \n3   Mechanical            WA CT  ...  INTEGRA GS    WA   North seattle   \n4          NaN            NY CT  ...  INTEGRA LS    NY     Long island   \n5         Side            CA DQ  ...    VIGOR GS    CA        Martinez   \n6         HAIL            MN CT  ...    LEGEND L    MN     Minneapolis   \n7          NaN            TN CT  ...  INTEGRA LS    TN       Knoxville   \n8  NORMAL WEAR            MD CT  ...   LEGEND LS    MD       Baltimore   \n9          NaN            NJ CT  ...    LEGEND L    NJ  Glassboro east   \n\n  Auction_Year Model_short  Odometer_Null Odometer_Replace  Model_Age  \\\n0         2019     INTEGRA       146073.0         146073.0         28   \n1         2019     INTEGRA            NaN         178757.0         28   \n2         2019       VIGOR       188301.0         188301.0         28   \n3         2018     INTEGRA            NaN         197187.0         27   \n4         2018     INTEGRA            NaN         178757.0         27   \n5         2017       VIGOR            NaN         216614.0         26   \n6         2016      LEGEND            NaN         233596.0         25   \n7         2016     INTEGRA            NaN         178757.0         25   \n8         2016      LEGEND       104173.0         104173.0         25   \n9         2016      LEGEND       131385.0         131385.0         25   \n\n               County            make_key  \n0         Fayette, KY  ACURA_INTEGRA_1992  \n1     Santa Clara, CA  ACURA_INTEGRA_1992  \n2        Somerset, NJ    ACURA_VIGOR_1992  \n3            King, WA  ACURA_INTEGRA_1992  \n4          Queens, NY  ACURA_INTEGRA_1992  \n5    Contra Costa, CA    ACURA_VIGOR_1992  \n6        Hennepin, MN   ACURA_LEGEND_1992  \n7            Knox, TN  ACURA_INTEGRA_1992  \n8  Baltimore city, MD   ACURA_LEGEND_1992  \n9      Gloucester, NJ   ACURA_LEGEND_1992  \n\n[10 rows x 22 columns]",
      "text/html": "<div>\n<style scoped>\n    .dataframe tbody tr th:only-of-type {\n        vertical-align: middle;\n    }\n\n    .dataframe tbody tr th {\n        vertical-align: top;\n    }\n\n    .dataframe thead th {\n        text-align: right;\n    }\n</style>\n<table border=\"1\" class=\"dataframe\">\n  <thead>\n    <tr style=\"text-align: right;\">\n      <th></th>\n      <th>Actual_Cash_Value</th>\n      <th>Auction_Date</th>\n      <th>Description</th>\n      <th>Location</th>\n      <th>Odometer</th>\n      <th>Price_Sold_or_Highest_Bid</th>\n      <th>Prim_Damage</th>\n      <th>Repair_Cost</th>\n      <th>Sec_Damage</th>\n      <th>Title_State_Type</th>\n      <th>...</th>\n      <th>Model</th>\n      <th>State</th>\n      <th>City</th>\n      <th>Auction_Year</th>\n      <th>Model_short</th>\n      <th>Odometer_Null</th>\n      <th>Odometer_Replace</th>\n      <th>Model_Age</th>\n      <th>County</th>\n      <th>make_key</th>\n    </tr>\n  </thead>\n  <tbody>\n    <tr>\n      <th>0</th>\n      <td>5649.0</td>\n      <td>2019-10-02</td>\n      <td>1992 Acura INTEGRA GS</td>\n      <td>KY - LEXINGTON WEST</td>\n      <td>146073 A</td>\n      <td>3750.0</td>\n      <td>front end</td>\n      <td>NaN</td>\n      <td>NaN</td>\n      <td>FL RB</td>\n      <td>...</td>\n      <td>INTEGRA GS</td>\n      <td>KY</td>\n      <td>Lexington west</td>\n      <td>2019</td>\n      <td>INTEGRA</td>\n      <td>146073.0</td>\n      <td>146073.0</td>\n      <td>28</td>\n      <td>Fayette, KY</td>\n      <td>ACURA_INTEGRA_1992</td>\n    </tr>\n    <tr>\n      <th>1</th>\n      <td>NaN</td>\n      <td>2019-06-18</td>\n      <td>1992 Acura INTEGRA LS</td>\n      <td>CA - SAN JOSE</td>\n      <td>182250 E</td>\n      <td>300.0</td>\n      <td>minor dent/scratches</td>\n      <td>NaN</td>\n      <td>NaN</td>\n      <td>CA CQ</td>\n      <td>...</td>\n      <td>INTEGRA LS</td>\n      <td>CA</td>\n      <td>San jose</td>\n      <td>2019</td>\n      <td>INTEGRA</td>\n      <td>NaN</td>\n      <td>178757.0</td>\n      <td>28</td>\n      <td>Santa Clara, CA</td>\n      <td>ACURA_INTEGRA_1992</td>\n    </tr>\n    <tr>\n      <th>2</th>\n      <td>NaN</td>\n      <td>2019-05-24</td>\n      <td>1992 Acura VIGOR GS</td>\n      <td>NJ - SOMERVILLE</td>\n      <td>188301 A</td>\n      <td>575.0</td>\n      <td>front end</td>\n      <td>NaN</td>\n      <td>Mechanical</td>\n      <td>NJ CT</td>\n      <td>...</td>\n      <td>VIGOR GS</td>\n      <td>NJ</td>\n      <td>Somerville</td>\n      <td>2019</td>\n      <td>VIGOR</td>\n      <td>188301.0</td>\n      <td>188301.0</td>\n      <td>28</td>\n      <td>Somerset, NJ</td>\n      <td>ACURA_VIGOR_1992</td>\n    </tr>\n    <tr>\n      <th>3</th>\n      <td>725.0</td>\n      <td>2018-11-26</td>\n      <td>1992 Acura INTEGRA GS</td>\n      <td>WA - NORTH SEATTLE</td>\n      <td>300930 E</td>\n      <td>325.0</td>\n      <td>front end</td>\n      <td>NaN</td>\n      <td>Mechanical</td>\n      <td>WA CT</td>\n      <td>...</td>\n      <td>INTEGRA GS</td>\n      <td>WA</td>\n      <td>North seattle</td>\n      <td>2018</td>\n      <td>INTEGRA</td>\n      <td>NaN</td>\n      <td>197187.0</td>\n      <td>27</td>\n      <td>King, WA</td>\n      <td>ACURA_INTEGRA_1992</td>\n    </tr>\n    <tr>\n      <th>4</th>\n      <td>1450.0</td>\n      <td>2018-09-12</td>\n      <td>1992 Acura INTEGRA LS</td>\n      <td>NY - LONG ISLAND</td>\n      <td>260216 E</td>\n      <td>300.0</td>\n      <td>front end</td>\n      <td>NaN</td>\n      <td>NaN</td>\n      <td>NY CT</td>\n      <td>...</td>\n      <td>INTEGRA LS</td>\n      <td>NY</td>\n      <td>Long island</td>\n      <td>2018</td>\n      <td>INTEGRA</td>\n      <td>NaN</td>\n      <td>178757.0</td>\n      <td>27</td>\n      <td>Queens, NY</td>\n      <td>ACURA_INTEGRA_1992</td>\n    </tr>\n    <tr>\n      <th>5</th>\n      <td>3250.0</td>\n      <td>2017-12-20</td>\n      <td>1992 Acura VIGOR GS</td>\n      <td>CA - MARTINEZ</td>\n      <td>205852 E</td>\n      <td>175.0</td>\n      <td>minor dent/scratches</td>\n      <td>NaN</td>\n      <td>Side</td>\n      <td>CA DQ</td>\n      <td>...</td>\n      <td>VIGOR GS</td>\n      <td>CA</td>\n      <td>Martinez</td>\n      <td>2017</td>\n      <td>VIGOR</td>\n      <td>NaN</td>\n      <td>216614.0</td>\n      <td>26</td>\n      <td>Contra Costa, CA</td>\n      <td>ACURA_VIGOR_1992</td>\n    </tr>\n    <tr>\n      <th>6</th>\n      <td>NaN</td>\n      <td>2016-12-08</td>\n      <td>1992 Acura LEGEND L</td>\n      <td>MN - MINNEAPOLIS</td>\n      <td>144195 E</td>\n      <td>125.0</td>\n      <td>mechanical</td>\n      <td>NaN</td>\n      <td>HAIL</td>\n      <td>MN CT</td>\n      <td>...</td>\n      <td>LEGEND L</td>\n      <td>MN</td>\n      <td>Minneapolis</td>\n      <td>2016</td>\n      <td>LEGEND</td>\n      <td>NaN</td>\n      <td>233596.0</td>\n      <td>25</td>\n      <td>Hennepin, MN</td>\n      <td>ACURA_LEGEND_1992</td>\n    </tr>\n    <tr>\n      <th>7</th>\n      <td>1960.0</td>\n      <td>2016-09-13</td>\n      <td>1992 Acura INTEGRA LS</td>\n      <td>TN - KNOXVILLE</td>\n      <td>309149 E</td>\n      <td>975.0</td>\n      <td>side</td>\n      <td>NaN</td>\n      <td>NaN</td>\n      <td>TN CT</td>\n      <td>...</td>\n      <td>INTEGRA LS</td>\n      <td>TN</td>\n      <td>Knoxville</td>\n      <td>2016</td>\n      <td>INTEGRA</td>\n      <td>NaN</td>\n      <td>178757.0</td>\n      <td>25</td>\n      <td>Knox, TN</td>\n      <td>ACURA_INTEGRA_1992</td>\n    </tr>\n    <tr>\n      <th>8</th>\n      <td>NaN</td>\n      <td>2016-07-25</td>\n      <td>1992 Acura LEGEND LS</td>\n      <td>MD - BALTIMORE</td>\n      <td>104173 A</td>\n      <td>150.0</td>\n      <td>minor dent/scratches</td>\n      <td>NaN</td>\n      <td>NORMAL WEAR</td>\n      <td>MD CT</td>\n      <td>...</td>\n      <td>LEGEND LS</td>\n      <td>MD</td>\n      <td>Baltimore</td>\n      <td>2016</td>\n      <td>LEGEND</td>\n      <td>104173.0</td>\n      <td>104173.0</td>\n      <td>25</td>\n      <td>Baltimore city, MD</td>\n      <td>ACURA_LEGEND_1992</td>\n    </tr>\n    <tr>\n      <th>9</th>\n      <td>NaN</td>\n      <td>2016-07-19</td>\n      <td>1992 Acura LEGEND L</td>\n      <td>NJ - GLASSBORO EAST</td>\n      <td>131385 A</td>\n      <td>200.0</td>\n      <td>normal wear</td>\n      <td>NaN</td>\n      <td>NaN</td>\n      <td>NJ CT</td>\n      <td>...</td>\n      <td>LEGEND L</td>\n      <td>NJ</td>\n      <td>Glassboro east</td>\n      <td>2016</td>\n      <td>LEGEND</td>\n      <td>131385.0</td>\n      <td>131385.0</td>\n      <td>25</td>\n      <td>Gloucester, NJ</td>\n      <td>ACURA_LEGEND_1992</td>\n    </tr>\n  </tbody>\n</table>\n<p>10 rows × 22 columns</p>\n</div>"
     },
     "metadata": {},
     "execution_count": 17
    }
   ],
   "source": [
    "%%time\n",
    "# i = 6\n",
    "# city = out_df.loc[i,'City']\n",
    "# state =out_df.loc[i,'State']\n",
    "# city, state\n",
    "\n",
    "# geo_found = search.by_city_and_state(city,state)[0]\n",
    "\n",
    "# geo_found.county , geo_found.state\n",
    "\n",
    "\n",
    "def find_county(x):\n",
    "    try:\n",
    "        return search.by_city_and_state(x[1] , x[0])[0].county\n",
    "    except:\n",
    "        return 'None'\n",
    "\n",
    "\n",
    "locs = out_df['Location'].unique()\n",
    "locs = locs[~pd.isnull(locs)]\n",
    "\n",
    "state_city = [l[:2] for l in  list(map(lambda x: x.split(' - '),   locs ) ) #if len(l)>1\n",
    "             ]\n",
    "\n",
    "\n",
    "\n",
    "\n",
    "\n",
    "county = list(map(find_county,   state_city ) )\n",
    "\n",
    "county = [', '.join([l.strip() for l in (county[i].replace('County','')+', '+state_city[i][0]).split(',') ])\n",
    " for i in range(len(county))]\n",
    "\n",
    "loc_lookup = pd.DataFrame({'Location':locs,'County':county}).set_index('Location')['County']\n",
    "\n",
    "loc_lookup\n",
    "\n",
    "\n",
    "def map_countries(x):\n",
    "    try:\n",
    "        return loc_lookup.loc[x]\n",
    "    except:\n",
    "        return 'None'\n",
    "        \n",
    "out_df['County'] = out_df['Location'].map(map_countries)\n",
    "out_df['make_key'] = out_df.assign(Model_Year = lambda x: x['Model_Year'].astype(str))[['Make','Model_short','Model_Year']].agg('_'.join,axis=1)\n",
    "\n",
    "\n",
    "\n",
    "out_df.head(10)"
   ]
  },
  {
   "cell_type": "code",
   "execution_count": 18,
   "metadata": {},
   "outputs": [],
   "source": [
    "# cpi adj original data\n",
    "base_year = 2010\n",
    "def cpi_adj_Actual_Cash_Value(x):\n",
    "    try:\n",
    "        \n",
    "        return round((cpi_df[base_year] / cpi_df[x['Auction_Year']]) * x['Actual_Cash_Value'],2)\n",
    "    except:\n",
    "        return x['Actual_Cash_Value']\n",
    "\n",
    "\n",
    "out_df['Actual_Cash_Value_adj'] = out_df.apply(cpi_adj_Actual_Cash_Value\n",
    "                                            ,axis=1)\n",
    "\n",
    "\n",
    "\n",
    "def cpi_adj_Price_Sold_or_Highest_Bid(x):\n",
    "    try:\n",
    "        \n",
    "        return round((cpi_df[base_year] / cpi_df[x['Auction_Year']]) * x['Price_Sold_or_Highest_Bid'],2)\n",
    "    except:\n",
    "        return x['Price_Sold_or_Highest_Bid']\n",
    "\n",
    "\n",
    "out_df['Price_Sold_or_Highest_Bid_adj'] = out_df.apply(cpi_adj_Price_Sold_or_Highest_Bid\n",
    "                                            ,axis=1)\n",
    "\n",
    "def cpi_adj_Repair_Cost(x):\n",
    "    try:\n",
    "        \n",
    "        return round((cpi_df[base_year] / cpi_df[x['Auction_Year']]) * x['Repair_Cost'],2)\n",
    "    except:\n",
    "        return x['Repair_Cost']\n",
    "\n",
    "out_df['Repair_Cost_adj'] = out_df.apply(cpi_adj_Repair_Cost\n",
    "                                            ,axis=1)\n",
    "\n",
    "out_df['make_key'] = out_df.assign(Model_Year = lambda x: x['Model_Year'].astype(str))[['Make','Model_short','Model_Year']].agg('_'.join,axis=1)\n",
    "\n",
    "#out_df['Make'].value_counts().to_dict()#.to_string()\n",
    ""
   ]
  },
  {
   "cell_type": "code",
   "execution_count": null,
   "metadata": {},
   "outputs": [],
   "source": [
    "out_df.columns"
   ]
  },
  {
   "cell_type": "code",
   "execution_count": 19,
   "metadata": {},
   "outputs": [
    {
     "output_type": "stream",
     "name": "stdout",
     "text": "Object <1960662239944> saved to: c:\\data\\Datasets\\SC-temp\\\n"
    }
   ],
   "source": [
    "Temp.save_obj(out_df, 'out_df_working')\n",
    "out_df.to_csv(path_to_temp_csv+'full_working_df.csv')\n",
    "# out_df = Temp.load_obj('out_df_working')"
   ]
  },
  {
   "cell_type": "code",
   "execution_count": 4,
   "metadata": {},
   "outputs": [
    {
     "output_type": "execute_result",
     "data": {
      "text/plain": "'\\nEND OF MAIN DATASET PREPROCESSING\\n'"
     },
     "metadata": {},
     "execution_count": 4
    }
   ],
   "source": [
    "'''\n",
    "END OF MAIN DATASET PREPROCESSING\n",
    "'''"
   ]
  },
  {
   "cell_type": "code",
   "execution_count": 5,
   "metadata": {},
   "outputs": [
    {
     "output_type": "stream",
     "name": "stdout",
     "text": "Demographic features:\n ['index', 'Unemp-Pct-2014', 'Unemp-Pct-2015', 'Unemp-Pct-2016', 'Unemp-Pct-2017', 'Unemp-Pct-2018', 'Unemp-Pct-2013', 'Unemp-Pct-2012', 'Unemp-Pct-2011', 'Unemp-Pct-2010', 'Income_adj-1990', 'Income_adj-1991', 'Income_adj-1992', 'Income_adj-1993', 'Income_adj-1994', 'Income_adj-1995', 'Income_adj-1996', 'Income_adj-1997', 'Income_adj-1998', 'Income_adj-1999', 'Income_adj-2000', 'Income_adj-2001', 'Income_adj-2002', 'Income_adj-2003', 'Income_adj-2004', 'Income_adj-2005', 'Income_adj-2006', 'Income_adj-2007', 'Income_adj-2008', 'Income_adj-2009', 'Income_adj-2010', 'Income_adj-2011', 'Income_adj-2012', 'Income_adj-2013', 'Income_adj-2014', 'Income_adj-2015', 'Income_adj-2016', 'Income_adj-2017', 'CENSUS2010', 'CENSUS2011', 'CENSUS2012', 'CENSUS2013', 'CENSUS2014', 'CENSUS2015', 'CENSUS2016', 'CENSUS2017', 'CENSUS2018', 'GRNDTOT_2009', 'GRNDTOT_2010', 'GRNDTOT_2011', 'GRNDTOT_2012', 'GRNDTOT_2013', 'GRNDTOT_2014', 'GRNDTOT_2016', 'CPOPARST_2009', 'CPOPARST_2010', 'CPOPARST_2011', 'CPOPARST_2012', 'CPOPARST_2013', 'CPOPARST_2014', 'CPOPARST_2016']\n"
    }
   ],
   "source": [
    "'''\n",
    "JOINING WITH DEMOGRAPHIC DATA \n",
    "'''\n",
    "\n",
    "\n",
    "#read the demography data `\n",
    "\n",
    "path_to_demograpyh =path_to_csv+'SC-working-folder\\\\demography.csv'\n",
    "\n",
    "demog = pd.read_csv(path_to_demograpyh)\n",
    "\n",
    "print('Demographic features:\\n' , demog.columns.tolist())\n",
    "\n",
    ""
   ]
  },
  {
   "cell_type": "code",
   "execution_count": 6,
   "metadata": {},
   "outputs": [
    {
     "output_type": "execute_result",
     "data": {
      "text/plain": "    make model  year  Original_MSRP_low  Original_MSRP_high  \\\n0  ACURA    CL  2001            28460.0             30810.0   \n1  ACURA    CL  2002            28530.0             32880.0   \n2  ACURA    CL  2003            28700.0             31050.0   \n3  ACURA   ILX  2013            25900.0             34400.0   \n4  ACURA   ILX  2014            26900.0             34600.0   \n\n   Original_MSRP_mean  Original_MSRP_mean_adj        make_key  \n0             29635.0                 29635.0   ACURA_CL_2001  \n1             30705.0                 30705.0   ACURA_CL_2002  \n2             29875.0                 29875.0   ACURA_CL_2003  \n3             30150.0                 30150.0  ACURA_ILX_2013  \n4             30750.0                 30750.0  ACURA_ILX_2014  ",
      "text/html": "<div>\n<style scoped>\n    .dataframe tbody tr th:only-of-type {\n        vertical-align: middle;\n    }\n\n    .dataframe tbody tr th {\n        vertical-align: top;\n    }\n\n    .dataframe thead th {\n        text-align: right;\n    }\n</style>\n<table border=\"1\" class=\"dataframe\">\n  <thead>\n    <tr style=\"text-align: right;\">\n      <th></th>\n      <th>make</th>\n      <th>model</th>\n      <th>year</th>\n      <th>Original_MSRP_low</th>\n      <th>Original_MSRP_high</th>\n      <th>Original_MSRP_mean</th>\n      <th>Original_MSRP_mean_adj</th>\n      <th>make_key</th>\n    </tr>\n  </thead>\n  <tbody>\n    <tr>\n      <th>0</th>\n      <td>ACURA</td>\n      <td>CL</td>\n      <td>2001</td>\n      <td>28460.0</td>\n      <td>30810.0</td>\n      <td>29635.0</td>\n      <td>29635.0</td>\n      <td>ACURA_CL_2001</td>\n    </tr>\n    <tr>\n      <th>1</th>\n      <td>ACURA</td>\n      <td>CL</td>\n      <td>2002</td>\n      <td>28530.0</td>\n      <td>32880.0</td>\n      <td>30705.0</td>\n      <td>30705.0</td>\n      <td>ACURA_CL_2002</td>\n    </tr>\n    <tr>\n      <th>2</th>\n      <td>ACURA</td>\n      <td>CL</td>\n      <td>2003</td>\n      <td>28700.0</td>\n      <td>31050.0</td>\n      <td>29875.0</td>\n      <td>29875.0</td>\n      <td>ACURA_CL_2003</td>\n    </tr>\n    <tr>\n      <th>3</th>\n      <td>ACURA</td>\n      <td>ILX</td>\n      <td>2013</td>\n      <td>25900.0</td>\n      <td>34400.0</td>\n      <td>30150.0</td>\n      <td>30150.0</td>\n      <td>ACURA_ILX_2013</td>\n    </tr>\n    <tr>\n      <th>4</th>\n      <td>ACURA</td>\n      <td>ILX</td>\n      <td>2014</td>\n      <td>26900.0</td>\n      <td>34600.0</td>\n      <td>30750.0</td>\n      <td>30750.0</td>\n      <td>ACURA_ILX_2014</td>\n    </tr>\n  </tbody>\n</table>\n</div>"
     },
     "metadata": {},
     "execution_count": 6
    }
   ],
   "source": [
    "\n",
    "#read carfax data\n",
    "path_to_carfax =path_to_csv+'SC-carfax\\\\processed\\\\MSRP.csv'\n",
    "\n",
    "carfax = pd.read_csv(path_to_carfax,index_col=0) \n",
    "\n",
    "#CPI Data\n",
    "path_to_cpi = path_to_csv+'US-CPI\\\\SeriesReport-20191118124049_549fff.xlsx'\n",
    "cpi_df = pd.read_excel(path_to_cpi,skiprows=11,index_col=0)['Annual'][:-2]; cpi_df\n",
    "\n",
    "\n",
    "#read carfax data\n",
    "path_to_carfax =path_to_csv+'SC-carfax\\\\processed\\\\MSRP.csv'\n",
    "\n",
    "carfax = pd.read_csv(path_to_carfax,index_col=0) \n",
    "carfax['make'] = carfax['make'].str.upper()\n",
    "carfax['model'] = carfax['model'].str.upper()\n",
    "carfax['year'] = carfax['year'].astype(str)\n",
    "\n",
    "carfax['make_key'] = carfax[['make','model','year']].agg('_'.join,axis=1)\n",
    "\n",
    "\n",
    "carfax['Original_MSRP_mean'] =carfax[['Original_MSRP_low','Original_MSRP_high']].mean(axis=1)\n",
    "\n",
    "#CPI adjusted income \n",
    "def cpi_adj_Original_MSRP_mean(x):\n",
    "    try:\n",
    "        \n",
    "        return round((cpi_df[base_year] / cpi_df[x['year']]) * x['Original_MSRP_mean'],2)\n",
    "    except:\n",
    "        return x['Original_MSRP_mean']\n",
    "\n",
    "\n",
    "carfax['Original_MSRP_mean_adj'] = carfax.apply(cpi_adj_Original_MSRP_mean\n",
    "                                            ,axis=1)\n",
    "\n",
    "\n",
    "#carfax['make'].value_counts().to_dict()#.to_string()\n",
    "carfax.head()\n",
    ""
   ]
  },
  {
   "cell_type": "code",
   "execution_count": 7,
   "metadata": {},
   "outputs": [
    {
     "output_type": "execute_result",
     "data": {
      "text/plain": "   Actual_Cash_Value Auction_Date               Description  \\\n0                NaN   2019-10-21  2004 Oldsmobile ALERO GL   \n1             1304.0   2019-10-14  2004 Oldsmobile ALERO GL   \n2             2550.0   2019-09-30  2004 Oldsmobile ALERO GL   \n3             2325.0   2019-09-19  2004 Oldsmobile ALERO GL   \n4             2107.0   2018-07-17  2004 Oldsmobile ALERO GL   \n\n              Location  Odometer  Price_Sold_or_Highest_Bid  Prim_Damage  \\\n0       MD - BALTIMORE  151441 A                      550.0  normal wear   \n1       TN - NASHVILLE  213655 E                      800.0    front end   \n2         AZ - PHOENIX       0 N                      400.0         burn   \n3  CA - SAN BERNARDINO  241435 A                      200.0    front end   \n4     LA - BATON ROUGE       0 E                      250.0    front end   \n\n   Repair_Cost            Sec_Damage Title_State_Type  ...  \\\n0          NaN  Minor dent/scratches            MD CT  ...   \n1          NaN              Rear end            TN CT  ...   \n2          NaN  Minor dent/scratches            AZ CT  ...   \n3       5712.0                  Side            CA SC  ...   \n4       2107.0                   NaN            LA ST  ...   \n\n   Actual_Cash_Value_adj Price_Sold_or_Highest_Bid_adj Repair_Cost_adj  \\\n0                    NaN                         550.0             NaN   \n1                 1304.0                         800.0             NaN   \n2                 2550.0                         400.0             NaN   \n3                 2325.0                         200.0          5712.0   \n4                 2107.0                         250.0          2107.0   \n\n         make  model  year Original_MSRP_low  Original_MSRP_high  \\\n0  OLDSMOBILE  ALERO  2004           19110.0             23960.0   \n1  OLDSMOBILE  ALERO  2004           19110.0             23960.0   \n2  OLDSMOBILE  ALERO  2004           19110.0             23960.0   \n3  OLDSMOBILE  ALERO  2004           19110.0             23960.0   \n4  OLDSMOBILE  ALERO  2004           19110.0             23960.0   \n\n   Original_MSRP_mean  Original_MSRP_mean_adj  \n0             21535.0                 21535.0  \n1             21535.0                 21535.0  \n2             21535.0                 21535.0  \n3             21535.0                 21535.0  \n4             21535.0                 21535.0  \n\n[5 rows x 31 columns]",
      "text/html": "<div>\n<style scoped>\n    .dataframe tbody tr th:only-of-type {\n        vertical-align: middle;\n    }\n\n    .dataframe tbody tr th {\n        vertical-align: top;\n    }\n\n    .dataframe thead th {\n        text-align: right;\n    }\n</style>\n<table border=\"1\" class=\"dataframe\">\n  <thead>\n    <tr style=\"text-align: right;\">\n      <th></th>\n      <th>Actual_Cash_Value</th>\n      <th>Auction_Date</th>\n      <th>Description</th>\n      <th>Location</th>\n      <th>Odometer</th>\n      <th>Price_Sold_or_Highest_Bid</th>\n      <th>Prim_Damage</th>\n      <th>Repair_Cost</th>\n      <th>Sec_Damage</th>\n      <th>Title_State_Type</th>\n      <th>...</th>\n      <th>Actual_Cash_Value_adj</th>\n      <th>Price_Sold_or_Highest_Bid_adj</th>\n      <th>Repair_Cost_adj</th>\n      <th>make</th>\n      <th>model</th>\n      <th>year</th>\n      <th>Original_MSRP_low</th>\n      <th>Original_MSRP_high</th>\n      <th>Original_MSRP_mean</th>\n      <th>Original_MSRP_mean_adj</th>\n    </tr>\n  </thead>\n  <tbody>\n    <tr>\n      <th>0</th>\n      <td>NaN</td>\n      <td>2019-10-21</td>\n      <td>2004 Oldsmobile ALERO GL</td>\n      <td>MD - BALTIMORE</td>\n      <td>151441 A</td>\n      <td>550.0</td>\n      <td>normal wear</td>\n      <td>NaN</td>\n      <td>Minor dent/scratches</td>\n      <td>MD CT</td>\n      <td>...</td>\n      <td>NaN</td>\n      <td>550.0</td>\n      <td>NaN</td>\n      <td>OLDSMOBILE</td>\n      <td>ALERO</td>\n      <td>2004</td>\n      <td>19110.0</td>\n      <td>23960.0</td>\n      <td>21535.0</td>\n      <td>21535.0</td>\n    </tr>\n    <tr>\n      <th>1</th>\n      <td>1304.0</td>\n      <td>2019-10-14</td>\n      <td>2004 Oldsmobile ALERO GL</td>\n      <td>TN - NASHVILLE</td>\n      <td>213655 E</td>\n      <td>800.0</td>\n      <td>front end</td>\n      <td>NaN</td>\n      <td>Rear end</td>\n      <td>TN CT</td>\n      <td>...</td>\n      <td>1304.0</td>\n      <td>800.0</td>\n      <td>NaN</td>\n      <td>OLDSMOBILE</td>\n      <td>ALERO</td>\n      <td>2004</td>\n      <td>19110.0</td>\n      <td>23960.0</td>\n      <td>21535.0</td>\n      <td>21535.0</td>\n    </tr>\n    <tr>\n      <th>2</th>\n      <td>2550.0</td>\n      <td>2019-09-30</td>\n      <td>2004 Oldsmobile ALERO GL</td>\n      <td>AZ - PHOENIX</td>\n      <td>0 N</td>\n      <td>400.0</td>\n      <td>burn</td>\n      <td>NaN</td>\n      <td>Minor dent/scratches</td>\n      <td>AZ CT</td>\n      <td>...</td>\n      <td>2550.0</td>\n      <td>400.0</td>\n      <td>NaN</td>\n      <td>OLDSMOBILE</td>\n      <td>ALERO</td>\n      <td>2004</td>\n      <td>19110.0</td>\n      <td>23960.0</td>\n      <td>21535.0</td>\n      <td>21535.0</td>\n    </tr>\n    <tr>\n      <th>3</th>\n      <td>2325.0</td>\n      <td>2019-09-19</td>\n      <td>2004 Oldsmobile ALERO GL</td>\n      <td>CA - SAN BERNARDINO</td>\n      <td>241435 A</td>\n      <td>200.0</td>\n      <td>front end</td>\n      <td>5712.0</td>\n      <td>Side</td>\n      <td>CA SC</td>\n      <td>...</td>\n      <td>2325.0</td>\n      <td>200.0</td>\n      <td>5712.0</td>\n      <td>OLDSMOBILE</td>\n      <td>ALERO</td>\n      <td>2004</td>\n      <td>19110.0</td>\n      <td>23960.0</td>\n      <td>21535.0</td>\n      <td>21535.0</td>\n    </tr>\n    <tr>\n      <th>4</th>\n      <td>2107.0</td>\n      <td>2018-07-17</td>\n      <td>2004 Oldsmobile ALERO GL</td>\n      <td>LA - BATON ROUGE</td>\n      <td>0 E</td>\n      <td>250.0</td>\n      <td>front end</td>\n      <td>2107.0</td>\n      <td>NaN</td>\n      <td>LA ST</td>\n      <td>...</td>\n      <td>2107.0</td>\n      <td>250.0</td>\n      <td>2107.0</td>\n      <td>OLDSMOBILE</td>\n      <td>ALERO</td>\n      <td>2004</td>\n      <td>19110.0</td>\n      <td>23960.0</td>\n      <td>21535.0</td>\n      <td>21535.0</td>\n    </tr>\n  </tbody>\n</table>\n<p>5 rows × 31 columns</p>\n</div>"
     },
     "metadata": {},
     "execution_count": 7
    }
   ],
   "source": [
    "# join original and carfex\n",
    "out_df_carfix = pd.merge(out_df, carfax,  how='inner', on ='make_key').drop(columns='make_key')\n",
    "#out_df_carfix['County']\n",
    "\n",
    "out_df_carfix.head()"
   ]
  },
  {
   "cell_type": "code",
   "execution_count": 8,
   "metadata": {},
   "outputs": [
    {
     "output_type": "stream",
     "name": "stdout",
     "text": "(516218, 82)    Actual_Cash_Value Auction_Date  Price_Sold_or_Highest_Bid  Prim_Damage  \\\n0                NaN   2019-10-21                      550.0  normal wear   \n1             1304.0   2019-10-14                      800.0    front end   \n2             2550.0   2019-09-30                      400.0         burn   \n3             2325.0   2019-09-19                      200.0    front end   \n4             2107.0   2018-07-17                      250.0    front end   \n\n   Repair_Cost  Model_Year        Make     Model  Auction_Year Model_short  \\\n0          NaN        2004  OLDSMOBILE  ALERO GL          2019       ALERO   \n1          NaN        2004  OLDSMOBILE  ALERO GL          2019       ALERO   \n2          NaN        2004  OLDSMOBILE  ALERO GL          2019       ALERO   \n3       5712.0        2004  OLDSMOBILE  ALERO GL          2019       ALERO   \n4       2107.0        2004  OLDSMOBILE  ALERO GL          2018       ALERO   \n\n   ...  GRNDTOT_2013  GRNDTOT_2014  GRNDTOT_2016 CPOPARST_2009  CPOPARST_2010  \\\n0  ...           NaN           NaN           NaN           NaN            NaN   \n1  ...       54030.0       50131.0       45438.0      628812.0       621332.0   \n2  ...      168892.0      154617.0      136056.0     4017355.0      3816830.0   \n3  ...           NaN           NaN           NaN           NaN            NaN   \n4  ...           NaN           NaN           NaN           NaN            NaN   \n\n   CPOPARST_2011  CPOPARST_2012  CPOPARST_2013  CPOPARST_2014  CPOPARST_2016  \n0            NaN            NaN            NaN            NaN            NaN  \n1       626937.0       635244.0       649979.0       662275.0       687373.0  \n2      3870864.0      3922299.0      3997329.0      4086811.0      4248828.0  \n3            NaN            NaN            NaN            NaN            NaN  \n4            NaN            NaN            NaN            NaN            NaN  \n\n[5 rows x 82 columns] \n\n Index(['Actual_Cash_Value', 'Auction_Date', 'Price_Sold_or_Highest_Bid',\n       'Prim_Damage', 'Repair_Cost', 'Model_Year', 'Make', 'Model',\n       'Auction_Year', 'Model_short', 'Odometer_Null', 'Odometer_Replace',\n       'Model_Age', 'County', 'Actual_Cash_Value_adj',\n       'Price_Sold_or_Highest_Bid_adj', 'Repair_Cost_adj', 'Original_MSRP_low',\n       'Original_MSRP_high', 'Original_MSRP_mean', 'Original_MSRP_mean_adj',\n       'index', 'Unemp-Pct-2014', 'Unemp-Pct-2015', 'Unemp-Pct-2016',\n       'Unemp-Pct-2017', 'Unemp-Pct-2018', 'Unemp-Pct-2013', 'Unemp-Pct-2012',\n       'Unemp-Pct-2011', 'Unemp-Pct-2010', 'Income_adj-1990',\n       'Income_adj-1991', 'Income_adj-1992', 'Income_adj-1993',\n       'Income_adj-1994', 'Income_adj-1995', 'Income_adj-1996',\n       'Income_adj-1997', 'Income_adj-1998', 'Income_adj-1999',\n       'Income_adj-2000', 'Income_adj-2001', 'Income_adj-2002',\n       'Income_adj-2003', 'Income_adj-2004', 'Income_adj-2005',\n       'Income_adj-2006', 'Income_adj-2007', 'Income_adj-2008',\n       'Income_adj-2009', 'Income_adj-2010', 'Income_adj-2011',\n       'Income_adj-2012', 'Income_adj-2013', 'Income_adj-2014',\n       'Income_adj-2015', 'Income_adj-2016', 'Income_adj-2017', 'CENSUS2010',\n       'CENSUS2011', 'CENSUS2012', 'CENSUS2013', 'CENSUS2014', 'CENSUS2015',\n       'CENSUS2016', 'CENSUS2017', 'CENSUS2018', 'GRNDTOT_2009',\n       'GRNDTOT_2010', 'GRNDTOT_2011', 'GRNDTOT_2012', 'GRNDTOT_2013',\n       'GRNDTOT_2014', 'GRNDTOT_2016', 'CPOPARST_2009', 'CPOPARST_2010',\n       'CPOPARST_2011', 'CPOPARST_2012', 'CPOPARST_2013', 'CPOPARST_2014',\n       'CPOPARST_2016'],\n      dtype='object')\n"
    }
   ],
   "source": [
    "# with open('var/final_columns.json') as f:\n",
    "#     final_columns = json.load(f)['final_columns']\n",
    "\n",
    "car_demo_joined = (pd.merge(out_df_carfix, demog,left_on='County',right_on='index',how='left')\n",
    "                    .drop(columns=['Location','Description','Odometer','Sec_Damage','Title_State_Type','State', 'City','make', 'model','year'])\t\t\t\t\t\n",
    "                    )\n",
    "\t\t\t\t\n",
    "\n",
    "\n",
    "print(car_demo_joined.shape, car_demo_joined.head(),'\\n\\n' ,car_demo_joined.columns)\n",
    "\n",
    "\n",
    ""
   ]
  },
  {
   "cell_type": "code",
   "execution_count": 9,
   "metadata": {},
   "outputs": [
    {
     "output_type": "stream",
     "name": "stdout",
     "text": "working with  ['Unemp-Pct-2014', 'Unemp-Pct-2015', 'Unemp-Pct-2016', 'Unemp-Pct-2017', 'Unemp-Pct-2018', 'Unemp-Pct-2013', 'Unemp-Pct-2012', 'Unemp-Pct-2011', 'Unemp-Pct-2010']\n"
    }
   ],
   "source": [
    "#create master demographic field \n",
    "\n",
    "# 1 Unemp-Pct\n",
    "\n",
    "unemp_columns  = [col for col in car_demo_joined.columns if 'Unemp-Pct' in col]\n",
    "print('working with ' ,unemp_columns)\n",
    "def fetch_unemp_null(x):\n",
    "    ''' Return the actual on the action date unemployment, if none, return None'''\n",
    "    try:\n",
    "        auction_y = str(x['Auction_Year'])\n",
    "        return x[f'Unemp-Pct-{auction_y}']\n",
    "    except:\n",
    "        return\n",
    "\n",
    "car_demo_joined['Unemp_pct_null'] = car_demo_joined.apply(fetch_unemp_null, axis=1)\n",
    "\n",
    "unemp_available = np.array([2014,2015,2016,2017,2018,2013,2012,2011,2010])\n",
    "def fetch_unemp_closest(x):\n",
    "    ''' Return the actual on the action date unemployment, if none, return abs closest'''\n",
    "    try:\n",
    "        auction_y = str(x['Auction_Year'])\n",
    "        return x[f'Unemp-Pct-{auction_y}']\n",
    "    except:\n",
    "        closest_year_ix = np.abs( unemp_available - x['Auction_Year']).argmin()\n",
    "        closest_year = unemp_available[closest_year_ix]\n",
    "        return x[f'Unemp-Pct-{closest_year}']\n",
    "\n",
    "car_demo_joined['Unemp_pct_closest'] = car_demo_joined.apply(fetch_unemp_closest, axis=1)\n",
    ""
   ]
  },
  {
   "cell_type": "code",
   "execution_count": 10,
   "metadata": {},
   "outputs": [
    {
     "output_type": "stream",
     "name": "stdout",
     "text": "working with  ['Income_adj-1990', 'Income_adj-1991', 'Income_adj-1992', 'Income_adj-1993', 'Income_adj-1994', 'Income_adj-1995', 'Income_adj-1996', 'Income_adj-1997', 'Income_adj-1998', 'Income_adj-1999', 'Income_adj-2000', 'Income_adj-2001', 'Income_adj-2002', 'Income_adj-2003', 'Income_adj-2004', 'Income_adj-2005', 'Income_adj-2006', 'Income_adj-2007', 'Income_adj-2008', 'Income_adj-2009', 'Income_adj-2010', 'Income_adj-2011', 'Income_adj-2012', 'Income_adj-2013', 'Income_adj-2014', 'Income_adj-2015', 'Income_adj-2016', 'Income_adj-2017']\n"
    }
   ],
   "source": [
    "# 2 Income_adj\n",
    "inc_columns  = [col for col in car_demo_joined.columns if 'Income_adj' in col]\n",
    "print('working with ' ,inc_columns)\n",
    "\n",
    "def fetch_inc_null(x):\n",
    "    ''' Return the actual on the action date income, if none, return None'''\n",
    "    try:\n",
    "        auction_y = str(x['Auction_Year'])\n",
    "        return x[f'Income_adj-{auction_y}']\n",
    "    except:\n",
    "        return\n",
    "\n",
    "car_demo_joined['Income_adj_null'] = car_demo_joined.apply(fetch_inc_null, axis=1)\n",
    "\n",
    "\n",
    "income_available = np.arange(1990,2018)\n",
    "def fetch_inc_closest(x):\n",
    "    ''' Return the actual on the action date income, if none, return None'''\n",
    "    try:\n",
    "        auction_y = str(x['Auction_Year'])\n",
    "        return x[f'Income_adj-{auction_y}']\n",
    "    except:\n",
    "        closest_year_ix = np.abs( income_available - x['Auction_Year']).argmin()\n",
    "        closest_year = income_available[closest_year_ix]\n",
    "        return x[f'Income_adj-{closest_year}']\n",
    "\n",
    "car_demo_joined['Income_adj_closest'] = car_demo_joined.apply(fetch_inc_closest, axis=1)\n",
    ""
   ]
  },
  {
   "cell_type": "code",
   "execution_count": 11,
   "metadata": {},
   "outputs": [
    {
     "output_type": "stream",
     "name": "stdout",
     "text": "working with  ['CENSUS2010', 'CENSUS2011', 'CENSUS2012', 'CENSUS2013', 'CENSUS2014', 'CENSUS2015', 'CENSUS2016', 'CENSUS2017', 'CENSUS2018']\n"
    }
   ],
   "source": [
    "# 3 CENSUS\n",
    "CENSUS_columns  = [col for col in car_demo_joined.columns if 'CENSUS' in col]\n",
    "print('working with ' ,CENSUS_columns)\n",
    "\n",
    "def CENSUS_null(x):\n",
    "    ''' Return the actual on the action date CENSUS, if none, return None'''\n",
    "    try:\n",
    "        auction_y = str(x['Auction_Year'])\n",
    "        return x[f'CENSUS{auction_y}']\n",
    "    except:\n",
    "        return\n",
    "\n",
    "car_demo_joined['CENSUS_null'] = car_demo_joined.apply(CENSUS_null, axis=1)\n",
    "\n",
    "\n",
    "CENSUS_available = np.arange(2010,2019)\n",
    "def CENSUS_closest(x):\n",
    "    ''' Return the actual on the action date CENSUS, if none, return None'''\n",
    "    try:\n",
    "        auction_y = str(x['Auction_Year'])\n",
    "        return x[f'CENSUS{auction_y}']\n",
    "    except:\n",
    "        closest_year_ix = np.abs( CENSUS_available - x['Auction_Year']).argmin()\n",
    "        closest_year = CENSUS_available[closest_year_ix]\n",
    "        return x[f'CENSUS{closest_year}']\n",
    "\n",
    "car_demo_joined['CENSUS_closest'] = car_demo_joined.apply(CENSUS_closest, axis=1)\n",
    ""
   ]
  },
  {
   "cell_type": "code",
   "execution_count": 12,
   "metadata": {},
   "outputs": [
    {
     "output_type": "stream",
     "name": "stdout",
     "text": "working with  ['GRNDTOT_2009', 'GRNDTOT_2010', 'GRNDTOT_2011', 'GRNDTOT_2012', 'GRNDTOT_2013', 'GRNDTOT_2014', 'GRNDTOT_2016']\n"
    }
   ],
   "source": [
    "# 4 - GRNDTOT\n",
    "GRNDTOT_columns  = [col for col in car_demo_joined.columns if 'GRNDTOT' in col]\n",
    "print('working with ' ,GRNDTOT_columns)\n",
    "\n",
    "def GRNDTOT_null(x):\n",
    "    ''' Return the actual on the action date GRNDTOT, if none, return None'''\n",
    "    try:\n",
    "        auction_y = str(x['Auction_Year'])\n",
    "        return x[f'GRNDTOT_{auction_y}']\n",
    "    except:\n",
    "        return\n",
    "\n",
    "car_demo_joined['GRNDTOT_null'] = car_demo_joined.apply(GRNDTOT_null, axis=1)\n",
    "\n",
    "\n",
    "GRNDTOT_available = np.array([2009,2010,2011,2012,2013,2014,2016])\n",
    "def GRNDTOT_closest(x):\n",
    "    ''' Return the actual on the action date GRNDTOT, if none, return None'''\n",
    "    try:\n",
    "        auction_y = str(x['Auction_Year'])\n",
    "        return x[f'GRNDTOT_{auction_y}']\n",
    "    except:\n",
    "        closest_year_ix = np.abs( GRNDTOT_available - x['Auction_Year']).argmin()\n",
    "        closest_year = GRNDTOT_available[closest_year_ix]\n",
    "        return x[f'GRNDTOT_{closest_year}']\n",
    "\n",
    "car_demo_joined['GRNDTOT_closest'] = car_demo_joined.apply(GRNDTOT_closest, axis=1)\n",
    ""
   ]
  },
  {
   "cell_type": "code",
   "execution_count": 13,
   "metadata": {},
   "outputs": [
    {
     "output_type": "stream",
     "name": "stdout",
     "text": "working with  ['GRNDTOT_2009', 'GRNDTOT_2010', 'GRNDTOT_2011', 'GRNDTOT_2012', 'GRNDTOT_2013', 'GRNDTOT_2014', 'GRNDTOT_2016']\n"
    }
   ],
   "source": [
    "# 5 - CPOPARST\n",
    "CPOPARST_columns  = [col for col in car_demo_joined.columns if 'CPOPARST' in col]\n",
    "print('working with ' ,GRNDTOT_columns)\n",
    "\n",
    "def CPOPARST_null(x):\n",
    "    ''' Return the actual on the action date CPOPARST, if none, return None'''\n",
    "    try:\n",
    "        auction_y = str(x['Auction_Year'])\n",
    "        return x[f'CPOPARST_{auction_y}']\n",
    "    except:\n",
    "        return\n",
    "\n",
    "car_demo_joined['CPOPARST_null'] = car_demo_joined.apply(CPOPARST_null, axis=1)\n",
    "\n",
    "\n",
    "CPOPARST_available = np.array([2009,2010,2011,2012,2013,2014,2016])\n",
    "def CPOPARST_closest(x):\n",
    "    ''' Return the actual on the action date CPOPARST, if none, return None'''\n",
    "    try:\n",
    "        auction_y = str(x['Auction_Year'])\n",
    "        return x[f'CPOPARST_{auction_y}']\n",
    "    except:\n",
    "        closest_year_ix = np.abs( CPOPARST_available - x['Auction_Year']).argmin()\n",
    "        closest_year = CPOPARST_available[closest_year_ix]\n",
    "        return x[f'CPOPARST_{closest_year}']\n",
    "\n",
    "car_demo_joined['CPOPARST_closest'] = car_demo_joined.apply(CPOPARST_closest, axis=1)\n",
    ""
   ]
  },
  {
   "cell_type": "code",
   "execution_count": 15,
   "metadata": {},
   "outputs": [],
   "source": [
    "#remove yearly demographic data \n",
    "col_to_rem = [unemp_columns,inc_columns ,CENSUS_columns,GRNDTOT_columns,CPOPARST_columns]\n",
    "from itertools import chain\n",
    "col_to_rem_fl = list(chain.from_iterable(col_to_rem))\n",
    "#col_to_rem#[np.array(i) for i in col_to_rem]\n",
    "\n",
    "car_demo_joined = car_demo_joined.drop(columns=col_to_rem_fl)"
   ]
  },
  {
   "cell_type": "code",
   "execution_count": 18,
   "metadata": {},
   "outputs": [
    {
     "output_type": "execute_result",
     "data": {
      "text/plain": "{'Actual_Cash_Value': 1304.0,\n 'Auction_Date': Timestamp('2019-10-14 00:00:00'),\n 'Price_Sold_or_Highest_Bid': 800.0,\n 'Prim_Damage': 'front end',\n 'Repair_Cost': nan,\n 'Model_Year': 2004,\n 'Make': 'OLDSMOBILE',\n 'Model': 'ALERO GL',\n 'Auction_Year': 2019,\n 'Model_short': 'ALERO',\n 'Odometer_Null': nan,\n 'Odometer_Replace': 297038.0,\n 'Model_Age': 16,\n 'County': 'Davidson, TN',\n 'Actual_Cash_Value_adj': 1304.0,\n 'Price_Sold_or_Highest_Bid_adj': 800.0,\n 'Repair_Cost_adj': nan,\n 'Original_MSRP_low': 19110.0,\n 'Original_MSRP_high': 23960.0,\n 'Original_MSRP_mean': 21535.0,\n 'Original_MSRP_mean_adj': 21535.0,\n 'index': 'Davidson, TN',\n 'Unemp_pct_null': nan,\n 'Unemp_pct_closest': 2.6,\n 'Income_adj_null': nan,\n 'Income_adj_closest': 56100.136781984336,\n 'CENSUS_null': nan,\n 'CENSUS_closest': 692587.0,\n 'GRNDTOT_null': nan,\n 'GRNDTOT_closest': 45438.0,\n 'CPOPARST_null': nan,\n 'CPOPARST_closest': 687373.0}"
     },
     "metadata": {},
     "execution_count": 18
    }
   ],
   "source": [
    "car_demo_joined.loc[1].to_dict()"
   ]
  },
  {
   "cell_type": "code",
   "execution_count": null,
   "metadata": {},
   "outputs": [],
   "source": [
    "car_demo_joined.to_csv(path_to_temp_csv+'joint_working_df.csv')\n",
    "Temp.save_obj(car_demo_joined,'car_demo_joined')"
   ]
  },
  {
   "cell_type": "code",
   "execution_count": null,
   "metadata": {},
   "outputs": [],
   "source": [
    "'''\n",
    "ANALYSIS\n",
    "'''"
   ]
  },
  {
   "cell_type": "code",
   "execution_count": null,
   "metadata": {},
   "outputs": [],
   "source": [
    "del out_df\n",
    "out_df = Temp.load_obj('out_df_working')\n",
    "# out_df = Temp.load_obj('car_demo_joined')"
   ]
  },
  {
   "cell_type": "code",
   "execution_count": 48,
   "metadata": {},
   "outputs": [],
   "source": []
  },
  {
   "cell_type": "code",
   "execution_count": 110,
   "metadata": {},
   "outputs": [],
   "source": [
    "def geo_plot(make,model,model_year=None,auction_year=None):\n",
    "    try:\n",
    "        filtred = out_df.loc[(out_df['Make'] == make) & (out_df['Model_short'] == model) ]\n",
    "        if model_year:\n",
    "            filtred = filtred.loc[\n",
    "            (out_df['Model_Year'] == model_year)]\n",
    "        else:\n",
    "            model_year = ''\n",
    "        if auction_year:\n",
    "            filtred = filtred.loc[(out_df['Auction_Year'] == auction_year)]\n",
    "        else:\n",
    "            auction_year = ''\n",
    "        #extract state\n",
    "        filtred = (filtred.drop('State',axis=1)\n",
    "                    .join(filtred['County'].str.split(', ',expand=True)[1]\n",
    "                    .rename('State')))\n",
    "        states , mean_price = list(zip(*filtred.groupby('State')['Price_Sold_or_Highest_Bid'].mean().to_dict().items()))\n",
    "\n",
    "        \n",
    "        # type defined is choropleth to \n",
    "        # plot geographical plots \n",
    "        data = dict(type = 'choropleth', \n",
    "        \n",
    "                    # location: Arizoana, California, Newyork \n",
    "                    locations = states, \n",
    "                    \n",
    "                    # States of USA \n",
    "                    locationmode = 'USA-states', \n",
    "                    \n",
    "                    # colorscale can be added as per requirement \n",
    "                    colorscale = 'Portland', \n",
    "                    \n",
    "                    # text can be given anything you like \n",
    "                    # text = ['text 1', 'text 2', 'text 3'], \n",
    "                    z = mean_price, \n",
    "                    colorbar = {'title': f'{auction_year} Auction: {make} {model} {model_year}'}) \n",
    "                    \n",
    "        layout = dict(geo ={'scope': 'usa'}) \n",
    "        \n",
    "        # passing data dictionary as a list  \n",
    "        choromap = go.Figure(data = [data], layout = layout) \n",
    "\n",
    "        choromap.write_image(f\"png/{auction_year}-{make}-{model}-{model_year}.png\")\n",
    "        # plotting graph \n",
    "        iplot(choromap) \n",
    "    except Exception as e:\n",
    "        print('Error:', e)\n",
    "        return filtred"
   ]
  },
  {
   "cell_type": "code",
   "execution_count": 111,
   "metadata": {},
   "outputs": [
    {
     "output_type": "display_data",
     "data": {
      "application/vnd.plotly.v1+json": {
       "config": {
        "linkText": "Export to plot.ly",
        "plotlyServerURL": "https://plot.ly",
        "showLink": false
       },
       "data": [
        {
         "colorbar": {
          "title": {
           "text": " Auction: TOYOTA COROLLA "
          }
         },
         "colorscale": [
          [
           0,
           "rgb(12,51,131)"
          ],
          [
           0.25,
           "rgb(10,136,186)"
          ],
          [
           0.5,
           "rgb(242,211,56)"
          ],
          [
           0.75,
           "rgb(242,143,56)"
          ],
          [
           1,
           "rgb(217,30,30)"
          ]
         ],
         "locationmode": "USA-states",
         "locations": [
          "AK",
          "AL",
          "AR",
          "AZ",
          "CA",
          "CO",
          "CT",
          "DC",
          "DE",
          "FL",
          "GA",
          "HI",
          "IA",
          "ID",
          "IL",
          "IN",
          "KS",
          "KY",
          "LA",
          "MA",
          "MD",
          "ME",
          "MI",
          "MN",
          "MO",
          "MS",
          "MT",
          "NC",
          "NE",
          "NH",
          "NJ",
          "NM",
          "NV",
          "NY",
          "OH",
          "OK",
          "ON",
          "OR",
          "PA",
          "RENTAL VEHICLE SALE",
          "RI",
          "SC",
          "TN",
          "TX",
          "UT",
          "VA",
          "WA",
          "WI",
          "WV",
          "WY"
         ],
         "type": "choropleth",
         "z": [
          2120.4545454545455,
          1563.6690647482014,
          2706.294964028777,
          1821.6565349544073,
          2294.6383647798743,
          2179.327808471455,
          2436.415525114155,
          1534.331797235023,
          1293.3333333333333,
          2987.6390743213174,
          2683.2417582417584,
          1333.235294117647,
          1679.2613636363637,
          1845.909090909091,
          1630.0492610837439,
          2274.0112994350284,
          1977.9040404040404,
          1530.1671732522796,
          2220.224719101124,
          2216.053391053391,
          1610.8072916666667,
          1774.826388888889,
          1421.4015151515152,
          2060.0077881619936,
          2057.4675324675327,
          1349.2424242424242,
          1844.0298507462687,
          1909.1991341991343,
          1965.4545454545455,
          1768.7125748502995,
          1971.849087893864,
          2389.2561983471073,
          2233.4097859327217,
          2075.4258943781942,
          1891.6666666666667,
          2446.394230769231,
          856.25,
          1589.4337016574586,
          1978.0701754385964,
          6371.428571428572,
          2467.9245283018868,
          1632.5559701492537,
          1722.615803814714,
          2794.5374244537425,
          1432.535046728972,
          1318.717277486911,
          1148.36,
          1403.5211267605634,
          2337.5,
          2055
         ]
        }
       ],
       "layout": {
        "geo": {
         "scope": "usa"
        },
        "template": {
         "data": {
          "bar": [
           {
            "error_x": {
             "color": "#2a3f5f"
            },
            "error_y": {
             "color": "#2a3f5f"
            },
            "marker": {
             "line": {
              "color": "#E5ECF6",
              "width": 0.5
             }
            },
            "type": "bar"
           }
          ],
          "barpolar": [
           {
            "marker": {
             "line": {
              "color": "#E5ECF6",
              "width": 0.5
             }
            },
            "type": "barpolar"
           }
          ],
          "carpet": [
           {
            "aaxis": {
             "endlinecolor": "#2a3f5f",
             "gridcolor": "white",
             "linecolor": "white",
             "minorgridcolor": "white",
             "startlinecolor": "#2a3f5f"
            },
            "baxis": {
             "endlinecolor": "#2a3f5f",
             "gridcolor": "white",
             "linecolor": "white",
             "minorgridcolor": "white",
             "startlinecolor": "#2a3f5f"
            },
            "type": "carpet"
           }
          ],
          "choropleth": [
           {
            "colorbar": {
             "outlinewidth": 0,
             "ticks": ""
            },
            "type": "choropleth"
           }
          ],
          "contour": [
           {
            "colorbar": {
             "outlinewidth": 0,
             "ticks": ""
            },
            "colorscale": [
             [
              0,
              "#0d0887"
             ],
             [
              0.1111111111111111,
              "#46039f"
             ],
             [
              0.2222222222222222,
              "#7201a8"
             ],
             [
              0.3333333333333333,
              "#9c179e"
             ],
             [
              0.4444444444444444,
              "#bd3786"
             ],
             [
              0.5555555555555556,
              "#d8576b"
             ],
             [
              0.6666666666666666,
              "#ed7953"
             ],
             [
              0.7777777777777778,
              "#fb9f3a"
             ],
             [
              0.8888888888888888,
              "#fdca26"
             ],
             [
              1,
              "#f0f921"
             ]
            ],
            "type": "contour"
           }
          ],
          "contourcarpet": [
           {
            "colorbar": {
             "outlinewidth": 0,
             "ticks": ""
            },
            "type": "contourcarpet"
           }
          ],
          "heatmap": [
           {
            "colorbar": {
             "outlinewidth": 0,
             "ticks": ""
            },
            "colorscale": [
             [
              0,
              "#0d0887"
             ],
             [
              0.1111111111111111,
              "#46039f"
             ],
             [
              0.2222222222222222,
              "#7201a8"
             ],
             [
              0.3333333333333333,
              "#9c179e"
             ],
             [
              0.4444444444444444,
              "#bd3786"
             ],
             [
              0.5555555555555556,
              "#d8576b"
             ],
             [
              0.6666666666666666,
              "#ed7953"
             ],
             [
              0.7777777777777778,
              "#fb9f3a"
             ],
             [
              0.8888888888888888,
              "#fdca26"
             ],
             [
              1,
              "#f0f921"
             ]
            ],
            "type": "heatmap"
           }
          ],
          "heatmapgl": [
           {
            "colorbar": {
             "outlinewidth": 0,
             "ticks": ""
            },
            "colorscale": [
             [
              0,
              "#0d0887"
             ],
             [
              0.1111111111111111,
              "#46039f"
             ],
             [
              0.2222222222222222,
              "#7201a8"
             ],
             [
              0.3333333333333333,
              "#9c179e"
             ],
             [
              0.4444444444444444,
              "#bd3786"
             ],
             [
              0.5555555555555556,
              "#d8576b"
             ],
             [
              0.6666666666666666,
              "#ed7953"
             ],
             [
              0.7777777777777778,
              "#fb9f3a"
             ],
             [
              0.8888888888888888,
              "#fdca26"
             ],
             [
              1,
              "#f0f921"
             ]
            ],
            "type": "heatmapgl"
           }
          ],
          "histogram": [
           {
            "marker": {
             "colorbar": {
              "outlinewidth": 0,
              "ticks": ""
             }
            },
            "type": "histogram"
           }
          ],
          "histogram2d": [
           {
            "colorbar": {
             "outlinewidth": 0,
             "ticks": ""
            },
            "colorscale": [
             [
              0,
              "#0d0887"
             ],
             [
              0.1111111111111111,
              "#46039f"
             ],
             [
              0.2222222222222222,
              "#7201a8"
             ],
             [
              0.3333333333333333,
              "#9c179e"
             ],
             [
              0.4444444444444444,
              "#bd3786"
             ],
             [
              0.5555555555555556,
              "#d8576b"
             ],
             [
              0.6666666666666666,
              "#ed7953"
             ],
             [
              0.7777777777777778,
              "#fb9f3a"
             ],
             [
              0.8888888888888888,
              "#fdca26"
             ],
             [
              1,
              "#f0f921"
             ]
            ],
            "type": "histogram2d"
           }
          ],
          "histogram2dcontour": [
           {
            "colorbar": {
             "outlinewidth": 0,
             "ticks": ""
            },
            "colorscale": [
             [
              0,
              "#0d0887"
             ],
             [
              0.1111111111111111,
              "#46039f"
             ],
             [
              0.2222222222222222,
              "#7201a8"
             ],
             [
              0.3333333333333333,
              "#9c179e"
             ],
             [
              0.4444444444444444,
              "#bd3786"
             ],
             [
              0.5555555555555556,
              "#d8576b"
             ],
             [
              0.6666666666666666,
              "#ed7953"
             ],
             [
              0.7777777777777778,
              "#fb9f3a"
             ],
             [
              0.8888888888888888,
              "#fdca26"
             ],
             [
              1,
              "#f0f921"
             ]
            ],
            "type": "histogram2dcontour"
           }
          ],
          "mesh3d": [
           {
            "colorbar": {
             "outlinewidth": 0,
             "ticks": ""
            },
            "type": "mesh3d"
           }
          ],
          "parcoords": [
           {
            "line": {
             "colorbar": {
              "outlinewidth": 0,
              "ticks": ""
             }
            },
            "type": "parcoords"
           }
          ],
          "pie": [
           {
            "automargin": true,
            "type": "pie"
           }
          ],
          "scatter": [
           {
            "marker": {
             "colorbar": {
              "outlinewidth": 0,
              "ticks": ""
             }
            },
            "type": "scatter"
           }
          ],
          "scatter3d": [
           {
            "line": {
             "colorbar": {
              "outlinewidth": 0,
              "ticks": ""
             }
            },
            "marker": {
             "colorbar": {
              "outlinewidth": 0,
              "ticks": ""
             }
            },
            "type": "scatter3d"
           }
          ],
          "scattercarpet": [
           {
            "marker": {
             "colorbar": {
              "outlinewidth": 0,
              "ticks": ""
             }
            },
            "type": "scattercarpet"
           }
          ],
          "scattergeo": [
           {
            "marker": {
             "colorbar": {
              "outlinewidth": 0,
              "ticks": ""
             }
            },
            "type": "scattergeo"
           }
          ],
          "scattergl": [
           {
            "marker": {
             "colorbar": {
              "outlinewidth": 0,
              "ticks": ""
             }
            },
            "type": "scattergl"
           }
          ],
          "scattermapbox": [
           {
            "marker": {
             "colorbar": {
              "outlinewidth": 0,
              "ticks": ""
             }
            },
            "type": "scattermapbox"
           }
          ],
          "scatterpolar": [
           {
            "marker": {
             "colorbar": {
              "outlinewidth": 0,
              "ticks": ""
             }
            },
            "type": "scatterpolar"
           }
          ],
          "scatterpolargl": [
           {
            "marker": {
             "colorbar": {
              "outlinewidth": 0,
              "ticks": ""
             }
            },
            "type": "scatterpolargl"
           }
          ],
          "scatterternary": [
           {
            "marker": {
             "colorbar": {
              "outlinewidth": 0,
              "ticks": ""
             }
            },
            "type": "scatterternary"
           }
          ],
          "surface": [
           {
            "colorbar": {
             "outlinewidth": 0,
             "ticks": ""
            },
            "colorscale": [
             [
              0,
              "#0d0887"
             ],
             [
              0.1111111111111111,
              "#46039f"
             ],
             [
              0.2222222222222222,
              "#7201a8"
             ],
             [
              0.3333333333333333,
              "#9c179e"
             ],
             [
              0.4444444444444444,
              "#bd3786"
             ],
             [
              0.5555555555555556,
              "#d8576b"
             ],
             [
              0.6666666666666666,
              "#ed7953"
             ],
             [
              0.7777777777777778,
              "#fb9f3a"
             ],
             [
              0.8888888888888888,
              "#fdca26"
             ],
             [
              1,
              "#f0f921"
             ]
            ],
            "type": "surface"
           }
          ],
          "table": [
           {
            "cells": {
             "fill": {
              "color": "#EBF0F8"
             },
             "line": {
              "color": "white"
             }
            },
            "header": {
             "fill": {
              "color": "#C8D4E3"
             },
             "line": {
              "color": "white"
             }
            },
            "type": "table"
           }
          ]
         },
         "layout": {
          "annotationdefaults": {
           "arrowcolor": "#2a3f5f",
           "arrowhead": 0,
           "arrowwidth": 1
          },
          "coloraxis": {
           "colorbar": {
            "outlinewidth": 0,
            "ticks": ""
           }
          },
          "colorscale": {
           "diverging": [
            [
             0,
             "#8e0152"
            ],
            [
             0.1,
             "#c51b7d"
            ],
            [
             0.2,
             "#de77ae"
            ],
            [
             0.3,
             "#f1b6da"
            ],
            [
             0.4,
             "#fde0ef"
            ],
            [
             0.5,
             "#f7f7f7"
            ],
            [
             0.6,
             "#e6f5d0"
            ],
            [
             0.7,
             "#b8e186"
            ],
            [
             0.8,
             "#7fbc41"
            ],
            [
             0.9,
             "#4d9221"
            ],
            [
             1,
             "#276419"
            ]
           ],
           "sequential": [
            [
             0,
             "#0d0887"
            ],
            [
             0.1111111111111111,
             "#46039f"
            ],
            [
             0.2222222222222222,
             "#7201a8"
            ],
            [
             0.3333333333333333,
             "#9c179e"
            ],
            [
             0.4444444444444444,
             "#bd3786"
            ],
            [
             0.5555555555555556,
             "#d8576b"
            ],
            [
             0.6666666666666666,
             "#ed7953"
            ],
            [
             0.7777777777777778,
             "#fb9f3a"
            ],
            [
             0.8888888888888888,
             "#fdca26"
            ],
            [
             1,
             "#f0f921"
            ]
           ],
           "sequentialminus": [
            [
             0,
             "#0d0887"
            ],
            [
             0.1111111111111111,
             "#46039f"
            ],
            [
             0.2222222222222222,
             "#7201a8"
            ],
            [
             0.3333333333333333,
             "#9c179e"
            ],
            [
             0.4444444444444444,
             "#bd3786"
            ],
            [
             0.5555555555555556,
             "#d8576b"
            ],
            [
             0.6666666666666666,
             "#ed7953"
            ],
            [
             0.7777777777777778,
             "#fb9f3a"
            ],
            [
             0.8888888888888888,
             "#fdca26"
            ],
            [
             1,
             "#f0f921"
            ]
           ]
          },
          "colorway": [
           "#636efa",
           "#EF553B",
           "#00cc96",
           "#ab63fa",
           "#FFA15A",
           "#19d3f3",
           "#FF6692",
           "#B6E880",
           "#FF97FF",
           "#FECB52"
          ],
          "font": {
           "color": "#2a3f5f"
          },
          "geo": {
           "bgcolor": "white",
           "lakecolor": "white",
           "landcolor": "#E5ECF6",
           "showlakes": true,
           "showland": true,
           "subunitcolor": "white"
          },
          "hoverlabel": {
           "align": "left"
          },
          "hovermode": "closest",
          "mapbox": {
           "style": "light"
          },
          "paper_bgcolor": "white",
          "plot_bgcolor": "#E5ECF6",
          "polar": {
           "angularaxis": {
            "gridcolor": "white",
            "linecolor": "white",
            "ticks": ""
           },
           "bgcolor": "#E5ECF6",
           "radialaxis": {
            "gridcolor": "white",
            "linecolor": "white",
            "ticks": ""
           }
          },
          "scene": {
           "xaxis": {
            "backgroundcolor": "#E5ECF6",
            "gridcolor": "white",
            "gridwidth": 2,
            "linecolor": "white",
            "showbackground": true,
            "ticks": "",
            "zerolinecolor": "white"
           },
           "yaxis": {
            "backgroundcolor": "#E5ECF6",
            "gridcolor": "white",
            "gridwidth": 2,
            "linecolor": "white",
            "showbackground": true,
            "ticks": "",
            "zerolinecolor": "white"
           },
           "zaxis": {
            "backgroundcolor": "#E5ECF6",
            "gridcolor": "white",
            "gridwidth": 2,
            "linecolor": "white",
            "showbackground": true,
            "ticks": "",
            "zerolinecolor": "white"
           }
          },
          "shapedefaults": {
           "line": {
            "color": "#2a3f5f"
           }
          },
          "ternary": {
           "aaxis": {
            "gridcolor": "white",
            "linecolor": "white",
            "ticks": ""
           },
           "baxis": {
            "gridcolor": "white",
            "linecolor": "white",
            "ticks": ""
           },
           "bgcolor": "#E5ECF6",
           "caxis": {
            "gridcolor": "white",
            "linecolor": "white",
            "ticks": ""
           }
          },
          "title": {
           "x": 0.05
          },
          "xaxis": {
           "automargin": true,
           "gridcolor": "white",
           "linecolor": "white",
           "ticks": "",
           "title": {
            "standoff": 15
           },
           "zerolinecolor": "white",
           "zerolinewidth": 2
          },
          "yaxis": {
           "automargin": true,
           "gridcolor": "white",
           "linecolor": "white",
           "ticks": "",
           "title": {
            "standoff": 15
           },
           "zerolinecolor": "white",
           "zerolinewidth": 2
          }
         }
        }
       }
      },
      "text/html": "<div>\n        \n        \n            <div id=\"36b138df-3878-472f-8c7d-96cbb7250ada\" class=\"plotly-graph-div\" style=\"height:525px; width:100%;\"></div>\n            <script type=\"text/javascript\">\n                require([\"plotly\"], function(Plotly) {\n                    window.PLOTLYENV=window.PLOTLYENV || {};\n                    \n                if (document.getElementById(\"36b138df-3878-472f-8c7d-96cbb7250ada\")) {\n                    Plotly.newPlot(\n                        '36b138df-3878-472f-8c7d-96cbb7250ada',\n                        [{\"colorbar\": {\"title\": {\"text\": \" Auction: TOYOTA COROLLA \"}}, \"colorscale\": [[0.0, \"rgb(12,51,131)\"], [0.25, \"rgb(10,136,186)\"], [0.5, \"rgb(242,211,56)\"], [0.75, \"rgb(242,143,56)\"], [1.0, \"rgb(217,30,30)\"]], \"locationmode\": \"USA-states\", \"locations\": [\"AK\", \"AL\", \"AR\", \"AZ\", \"CA\", \"CO\", \"CT\", \"DC\", \"DE\", \"FL\", \"GA\", \"HI\", \"IA\", \"ID\", \"IL\", \"IN\", \"KS\", \"KY\", \"LA\", \"MA\", \"MD\", \"ME\", \"MI\", \"MN\", \"MO\", \"MS\", \"MT\", \"NC\", \"NE\", \"NH\", \"NJ\", \"NM\", \"NV\", \"NY\", \"OH\", \"OK\", \"ON\", \"OR\", \"PA\", \"RENTAL VEHICLE SALE\", \"RI\", \"SC\", \"TN\", \"TX\", \"UT\", \"VA\", \"WA\", \"WI\", \"WV\", \"WY\"], \"type\": \"choropleth\", \"z\": [2120.4545454545455, 1563.6690647482014, 2706.294964028777, 1821.6565349544073, 2294.6383647798743, 2179.327808471455, 2436.415525114155, 1534.331797235023, 1293.3333333333333, 2987.6390743213174, 2683.2417582417584, 1333.235294117647, 1679.2613636363637, 1845.909090909091, 1630.0492610837439, 2274.0112994350284, 1977.9040404040404, 1530.1671732522796, 2220.224719101124, 2216.053391053391, 1610.8072916666667, 1774.826388888889, 1421.4015151515152, 2060.0077881619936, 2057.4675324675327, 1349.2424242424242, 1844.0298507462687, 1909.1991341991343, 1965.4545454545455, 1768.7125748502995, 1971.849087893864, 2389.2561983471073, 2233.4097859327217, 2075.4258943781942, 1891.6666666666667, 2446.394230769231, 856.25, 1589.4337016574586, 1978.0701754385964, 6371.428571428572, 2467.9245283018868, 1632.5559701492537, 1722.615803814714, 2794.5374244537425, 1432.535046728972, 1318.717277486911, 1148.36, 1403.5211267605634, 2337.5, 2055.0]}],\n                        {\"geo\": {\"scope\": \"usa\"}, \"template\": {\"data\": {\"bar\": [{\"error_x\": {\"color\": \"#2a3f5f\"}, \"error_y\": {\"color\": \"#2a3f5f\"}, \"marker\": {\"line\": {\"color\": \"#E5ECF6\", \"width\": 0.5}}, \"type\": \"bar\"}], \"barpolar\": [{\"marker\": {\"line\": {\"color\": \"#E5ECF6\", \"width\": 0.5}}, \"type\": \"barpolar\"}], \"carpet\": [{\"aaxis\": {\"endlinecolor\": \"#2a3f5f\", \"gridcolor\": \"white\", \"linecolor\": \"white\", \"minorgridcolor\": \"white\", \"startlinecolor\": \"#2a3f5f\"}, \"baxis\": {\"endlinecolor\": \"#2a3f5f\", \"gridcolor\": \"white\", \"linecolor\": \"white\", \"minorgridcolor\": \"white\", \"startlinecolor\": \"#2a3f5f\"}, \"type\": \"carpet\"}], \"choropleth\": [{\"colorbar\": {\"outlinewidth\": 0, \"ticks\": \"\"}, \"type\": \"choropleth\"}], \"contour\": [{\"colorbar\": {\"outlinewidth\": 0, \"ticks\": \"\"}, \"colorscale\": [[0.0, \"#0d0887\"], [0.1111111111111111, \"#46039f\"], [0.2222222222222222, \"#7201a8\"], [0.3333333333333333, \"#9c179e\"], [0.4444444444444444, \"#bd3786\"], [0.5555555555555556, \"#d8576b\"], [0.6666666666666666, \"#ed7953\"], [0.7777777777777778, \"#fb9f3a\"], [0.8888888888888888, \"#fdca26\"], [1.0, \"#f0f921\"]], \"type\": \"contour\"}], \"contourcarpet\": [{\"colorbar\": {\"outlinewidth\": 0, \"ticks\": \"\"}, \"type\": \"contourcarpet\"}], \"heatmap\": [{\"colorbar\": {\"outlinewidth\": 0, \"ticks\": \"\"}, \"colorscale\": [[0.0, \"#0d0887\"], [0.1111111111111111, \"#46039f\"], [0.2222222222222222, \"#7201a8\"], [0.3333333333333333, \"#9c179e\"], [0.4444444444444444, \"#bd3786\"], [0.5555555555555556, \"#d8576b\"], [0.6666666666666666, \"#ed7953\"], [0.7777777777777778, \"#fb9f3a\"], [0.8888888888888888, \"#fdca26\"], [1.0, \"#f0f921\"]], \"type\": \"heatmap\"}], \"heatmapgl\": [{\"colorbar\": {\"outlinewidth\": 0, \"ticks\": \"\"}, \"colorscale\": [[0.0, \"#0d0887\"], [0.1111111111111111, \"#46039f\"], [0.2222222222222222, \"#7201a8\"], [0.3333333333333333, \"#9c179e\"], [0.4444444444444444, \"#bd3786\"], [0.5555555555555556, \"#d8576b\"], [0.6666666666666666, \"#ed7953\"], [0.7777777777777778, \"#fb9f3a\"], [0.8888888888888888, \"#fdca26\"], [1.0, \"#f0f921\"]], \"type\": \"heatmapgl\"}], \"histogram\": [{\"marker\": {\"colorbar\": {\"outlinewidth\": 0, \"ticks\": \"\"}}, \"type\": \"histogram\"}], \"histogram2d\": [{\"colorbar\": {\"outlinewidth\": 0, \"ticks\": \"\"}, \"colorscale\": [[0.0, \"#0d0887\"], [0.1111111111111111, \"#46039f\"], [0.2222222222222222, \"#7201a8\"], [0.3333333333333333, \"#9c179e\"], [0.4444444444444444, \"#bd3786\"], [0.5555555555555556, \"#d8576b\"], [0.6666666666666666, \"#ed7953\"], [0.7777777777777778, \"#fb9f3a\"], [0.8888888888888888, \"#fdca26\"], [1.0, \"#f0f921\"]], \"type\": \"histogram2d\"}], \"histogram2dcontour\": [{\"colorbar\": {\"outlinewidth\": 0, \"ticks\": \"\"}, \"colorscale\": [[0.0, \"#0d0887\"], [0.1111111111111111, \"#46039f\"], [0.2222222222222222, \"#7201a8\"], [0.3333333333333333, \"#9c179e\"], [0.4444444444444444, \"#bd3786\"], [0.5555555555555556, \"#d8576b\"], [0.6666666666666666, \"#ed7953\"], [0.7777777777777778, \"#fb9f3a\"], [0.8888888888888888, \"#fdca26\"], [1.0, \"#f0f921\"]], \"type\": \"histogram2dcontour\"}], \"mesh3d\": [{\"colorbar\": {\"outlinewidth\": 0, \"ticks\": \"\"}, \"type\": \"mesh3d\"}], \"parcoords\": [{\"line\": {\"colorbar\": {\"outlinewidth\": 0, \"ticks\": \"\"}}, \"type\": \"parcoords\"}], \"pie\": [{\"automargin\": true, \"type\": \"pie\"}], \"scatter\": [{\"marker\": {\"colorbar\": {\"outlinewidth\": 0, \"ticks\": \"\"}}, \"type\": \"scatter\"}], \"scatter3d\": [{\"line\": {\"colorbar\": {\"outlinewidth\": 0, \"ticks\": \"\"}}, \"marker\": {\"colorbar\": {\"outlinewidth\": 0, \"ticks\": \"\"}}, \"type\": \"scatter3d\"}], \"scattercarpet\": [{\"marker\": {\"colorbar\": {\"outlinewidth\": 0, \"ticks\": \"\"}}, \"type\": \"scattercarpet\"}], \"scattergeo\": [{\"marker\": {\"colorbar\": {\"outlinewidth\": 0, \"ticks\": \"\"}}, \"type\": \"scattergeo\"}], \"scattergl\": [{\"marker\": {\"colorbar\": {\"outlinewidth\": 0, \"ticks\": \"\"}}, \"type\": \"scattergl\"}], \"scattermapbox\": [{\"marker\": {\"colorbar\": {\"outlinewidth\": 0, \"ticks\": \"\"}}, \"type\": \"scattermapbox\"}], \"scatterpolar\": [{\"marker\": {\"colorbar\": {\"outlinewidth\": 0, \"ticks\": \"\"}}, \"type\": \"scatterpolar\"}], \"scatterpolargl\": [{\"marker\": {\"colorbar\": {\"outlinewidth\": 0, \"ticks\": \"\"}}, \"type\": \"scatterpolargl\"}], \"scatterternary\": [{\"marker\": {\"colorbar\": {\"outlinewidth\": 0, \"ticks\": \"\"}}, \"type\": \"scatterternary\"}], \"surface\": [{\"colorbar\": {\"outlinewidth\": 0, \"ticks\": \"\"}, \"colorscale\": [[0.0, \"#0d0887\"], [0.1111111111111111, \"#46039f\"], [0.2222222222222222, \"#7201a8\"], [0.3333333333333333, \"#9c179e\"], [0.4444444444444444, \"#bd3786\"], [0.5555555555555556, \"#d8576b\"], [0.6666666666666666, \"#ed7953\"], [0.7777777777777778, \"#fb9f3a\"], [0.8888888888888888, \"#fdca26\"], [1.0, \"#f0f921\"]], \"type\": \"surface\"}], \"table\": [{\"cells\": {\"fill\": {\"color\": \"#EBF0F8\"}, \"line\": {\"color\": \"white\"}}, \"header\": {\"fill\": {\"color\": \"#C8D4E3\"}, \"line\": {\"color\": \"white\"}}, \"type\": \"table\"}]}, \"layout\": {\"annotationdefaults\": {\"arrowcolor\": \"#2a3f5f\", \"arrowhead\": 0, \"arrowwidth\": 1}, \"coloraxis\": {\"colorbar\": {\"outlinewidth\": 0, \"ticks\": \"\"}}, \"colorscale\": {\"diverging\": [[0, \"#8e0152\"], [0.1, \"#c51b7d\"], [0.2, \"#de77ae\"], [0.3, \"#f1b6da\"], [0.4, \"#fde0ef\"], [0.5, \"#f7f7f7\"], [0.6, \"#e6f5d0\"], [0.7, \"#b8e186\"], [0.8, \"#7fbc41\"], [0.9, \"#4d9221\"], [1, \"#276419\"]], \"sequential\": [[0.0, \"#0d0887\"], [0.1111111111111111, \"#46039f\"], [0.2222222222222222, \"#7201a8\"], [0.3333333333333333, \"#9c179e\"], [0.4444444444444444, \"#bd3786\"], [0.5555555555555556, \"#d8576b\"], [0.6666666666666666, \"#ed7953\"], [0.7777777777777778, \"#fb9f3a\"], [0.8888888888888888, \"#fdca26\"], [1.0, \"#f0f921\"]], \"sequentialminus\": [[0.0, \"#0d0887\"], [0.1111111111111111, \"#46039f\"], [0.2222222222222222, \"#7201a8\"], [0.3333333333333333, \"#9c179e\"], [0.4444444444444444, \"#bd3786\"], [0.5555555555555556, \"#d8576b\"], [0.6666666666666666, \"#ed7953\"], [0.7777777777777778, \"#fb9f3a\"], [0.8888888888888888, \"#fdca26\"], [1.0, \"#f0f921\"]]}, \"colorway\": [\"#636efa\", \"#EF553B\", \"#00cc96\", \"#ab63fa\", \"#FFA15A\", \"#19d3f3\", \"#FF6692\", \"#B6E880\", \"#FF97FF\", \"#FECB52\"], \"font\": {\"color\": \"#2a3f5f\"}, \"geo\": {\"bgcolor\": \"white\", \"lakecolor\": \"white\", \"landcolor\": \"#E5ECF6\", \"showlakes\": true, \"showland\": true, \"subunitcolor\": \"white\"}, \"hoverlabel\": {\"align\": \"left\"}, \"hovermode\": \"closest\", \"mapbox\": {\"style\": \"light\"}, \"paper_bgcolor\": \"white\", \"plot_bgcolor\": \"#E5ECF6\", \"polar\": {\"angularaxis\": {\"gridcolor\": \"white\", \"linecolor\": \"white\", \"ticks\": \"\"}, \"bgcolor\": \"#E5ECF6\", \"radialaxis\": {\"gridcolor\": \"white\", \"linecolor\": \"white\", \"ticks\": \"\"}}, \"scene\": {\"xaxis\": {\"backgroundcolor\": \"#E5ECF6\", \"gridcolor\": \"white\", \"gridwidth\": 2, \"linecolor\": \"white\", \"showbackground\": true, \"ticks\": \"\", \"zerolinecolor\": \"white\"}, \"yaxis\": {\"backgroundcolor\": \"#E5ECF6\", \"gridcolor\": \"white\", \"gridwidth\": 2, \"linecolor\": \"white\", \"showbackground\": true, \"ticks\": \"\", \"zerolinecolor\": \"white\"}, \"zaxis\": {\"backgroundcolor\": \"#E5ECF6\", \"gridcolor\": \"white\", \"gridwidth\": 2, \"linecolor\": \"white\", \"showbackground\": true, \"ticks\": \"\", \"zerolinecolor\": \"white\"}}, \"shapedefaults\": {\"line\": {\"color\": \"#2a3f5f\"}}, \"ternary\": {\"aaxis\": {\"gridcolor\": \"white\", \"linecolor\": \"white\", \"ticks\": \"\"}, \"baxis\": {\"gridcolor\": \"white\", \"linecolor\": \"white\", \"ticks\": \"\"}, \"bgcolor\": \"#E5ECF6\", \"caxis\": {\"gridcolor\": \"white\", \"linecolor\": \"white\", \"ticks\": \"\"}}, \"title\": {\"x\": 0.05}, \"xaxis\": {\"automargin\": true, \"gridcolor\": \"white\", \"linecolor\": \"white\", \"ticks\": \"\", \"title\": {\"standoff\": 15}, \"zerolinecolor\": \"white\", \"zerolinewidth\": 2}, \"yaxis\": {\"automargin\": true, \"gridcolor\": \"white\", \"linecolor\": \"white\", \"ticks\": \"\", \"title\": {\"standoff\": 15}, \"zerolinecolor\": \"white\", \"zerolinewidth\": 2}}}},\n                        {\"responsive\": true}\n                    ).then(function(){\n                            \nvar gd = document.getElementById('36b138df-3878-472f-8c7d-96cbb7250ada');\nvar x = new MutationObserver(function (mutations, observer) {{\n        var display = window.getComputedStyle(gd).display;\n        if (!display || display === 'none') {{\n            console.log([gd, 'removed!']);\n            Plotly.purge(gd);\n            observer.disconnect();\n        }}\n}});\n\n// Listen for the removal of the full notebook cells\nvar notebookContainer = gd.closest('#notebook-container');\nif (notebookContainer) {{\n    x.observe(notebookContainer, {childList: true});\n}}\n\n// Listen for the clearing of the current output cell\nvar outputEl = gd.closest('.output');\nif (outputEl) {{\n    x.observe(outputEl, {childList: true});\n}}\n\n                        })\n                };\n                });\n            </script>\n        </div>"
     },
     "metadata": {}
    }
   ],
   "source": [
    "model_year = None\n",
    "auction_year = None\n",
    "make = 'TOYOTA'\n",
    "model = 'COROLLA'\n",
    "filtred = geo_plot(make,model,model_year,auction_year)"
   ]
  },
  {
   "cell_type": "code",
   "execution_count": 108,
   "metadata": {},
   "outputs": [
    {
     "output_type": "execute_result",
     "data": {
      "text/plain": "        Actual_Cash_Value Auction_Date             Description  \\\n155109             8500.0   2019-04-06     1969 Toyota COROLLA   \n155111                NaN   2016-11-15     1969 Toyota COROLLA   \n155906             9800.0   2016-02-12  1981 Toyota COROLLA DE   \n155909                NaN   2013-09-05  1981 Toyota COROLLA DE   \n155913                NaN   2015-11-09  1982 Toyota COROLLA DE   \n...                   ...          ...                     ...   \n301121            11374.0   2019-09-16   2018 Toyota COROLLA L   \n301126            15268.0   2019-09-13   2018 Toyota COROLLA L   \n301130            16825.0   2019-09-12   2018 Toyota COROLLA L   \n301134                NaN   2019-09-10   2018 Toyota COROLLA L   \n301136            15095.0   2019-09-10   2018 Toyota COROLLA L   \n\n                 Location  Odometer  Price_Sold_or_Highest_Bid  \\\n155109       CA - HAYWARD   30076 E                     2500.0   \n155111      CT - HARTFORD   58384 A                    15000.0   \n155906   FL - TAMPA SOUTH   55888 E                     4400.0   \n155909        TX - AUSTIN   33494 E                      800.0   \n155913  MA - SOUTH BOSTON  112252 E                     1300.0   \n...                   ...       ...                        ...   \n301121  GA - ATLANTA EAST   71842 A                     3300.0   \n301126     CA - SAN DIEGO    9150 A                     4800.0   \n301130   NM - ALBUQUERQUE       0 N                     2250.0   \n301134   FL - MIAMI SOUTH   14755 A                     7400.0   \n301136        GA - TIFTON    6734 A                     5900.0   \n\n                 Prim_Damage  Repair_Cost            Sec_Damage  \\\n155109            mechanical          NaN  Minor dent/scratches   \n155111           normal wear          NaN                   NaN   \n155906           normal wear          NaN                   NaN   \n155909            mechanical          NaN                   NaN   \n155913  minor dent/scratches          NaN                   NaN   \n...                      ...          ...                   ...   \n301121              rear end      16870.0                   NaN   \n301126             front end          NaN  Minor dent/scratches   \n301130              all over          NaN    Biohazard/chemical   \n301134              rear end      10464.0             Front end   \n301136             front end          NaN              Rear end   \n\n       Title_State_Type  ...  Model_short Odometer_Null Odometer_Replace  \\\n155109            CA CQ  ...      COROLLA           NaN          58384.0   \n155111            CT BS  ...      COROLLA       58384.0          58384.0   \n155906            FL CT  ...      COROLLA           NaN              NaN   \n155909            TX CT  ...      COROLLA           NaN              NaN   \n155913            CT CT  ...      COROLLA           NaN         155122.0   \n...                 ...  ...          ...           ...              ...   \n301121            GA ST  ...      COROLLA       71842.0          71842.0   \n301126            CA SC  ...      COROLLA        9150.0           9150.0   \n301130            NM ST  ...      COROLLA           NaN          71842.0   \n301134            FL RB  ...      COROLLA       14755.0          14755.0   \n301136            GA ST  ...      COROLLA        6734.0           6734.0   \n\n       Model_Age            County             make_key  \\\n155109        51       Alameda, CA  TOYOTA_COROLLA_1969   \n155111        48      Hartford, CT  TOYOTA_COROLLA_1969   \n155906        36  Hillsborough, FL  TOYOTA_COROLLA_1981   \n155909        33        Travis, TX  TOYOTA_COROLLA_1981   \n155913        34       Suffolk, MA  TOYOTA_COROLLA_1982   \n...          ...               ...                  ...   \n301121         2        Fulton, GA  TOYOTA_COROLLA_2018   \n301126         2     San Diego, CA  TOYOTA_COROLLA_2018   \n301130         2    Bernalillo, NM  TOYOTA_COROLLA_2018   \n301134         2    Miami-Dade, FL  TOYOTA_COROLLA_2018   \n301136         2          Tift, GA  TOYOTA_COROLLA_2018   \n\n        Actual_Cash_Value_adj  Price_Sold_or_Highest_Bid_adj  Repair_Cost_adj  \\\n155109                 8500.0                         2500.0              NaN   \n155111                    NaN                        15000.0              NaN   \n155906                 9800.0                         4400.0              NaN   \n155909                    NaN                          800.0              NaN   \n155913                    NaN                         1300.0              NaN   \n...                       ...                            ...              ...   \n301121                11374.0                         3300.0          16870.0   \n301126                15268.0                         4800.0              NaN   \n301130                16825.0                         2250.0              NaN   \n301134                    NaN                         7400.0          10464.0   \n301136                15095.0                         5900.0              NaN   \n\n       State  \n155109    CA  \n155111    CT  \n155906    FL  \n155909    TX  \n155913    MA  \n...      ...  \n301121    GA  \n301126    CA  \n301130    NM  \n301134    FL  \n301136    GA  \n\n[24807 rows x 25 columns]",
      "text/html": "<div>\n<style scoped>\n    .dataframe tbody tr th:only-of-type {\n        vertical-align: middle;\n    }\n\n    .dataframe tbody tr th {\n        vertical-align: top;\n    }\n\n    .dataframe thead th {\n        text-align: right;\n    }\n</style>\n<table border=\"1\" class=\"dataframe\">\n  <thead>\n    <tr style=\"text-align: right;\">\n      <th></th>\n      <th>Actual_Cash_Value</th>\n      <th>Auction_Date</th>\n      <th>Description</th>\n      <th>Location</th>\n      <th>Odometer</th>\n      <th>Price_Sold_or_Highest_Bid</th>\n      <th>Prim_Damage</th>\n      <th>Repair_Cost</th>\n      <th>Sec_Damage</th>\n      <th>Title_State_Type</th>\n      <th>...</th>\n      <th>Model_short</th>\n      <th>Odometer_Null</th>\n      <th>Odometer_Replace</th>\n      <th>Model_Age</th>\n      <th>County</th>\n      <th>make_key</th>\n      <th>Actual_Cash_Value_adj</th>\n      <th>Price_Sold_or_Highest_Bid_adj</th>\n      <th>Repair_Cost_adj</th>\n      <th>State</th>\n    </tr>\n  </thead>\n  <tbody>\n    <tr>\n      <th>155109</th>\n      <td>8500.0</td>\n      <td>2019-04-06</td>\n      <td>1969 Toyota COROLLA</td>\n      <td>CA - HAYWARD</td>\n      <td>30076 E</td>\n      <td>2500.0</td>\n      <td>mechanical</td>\n      <td>NaN</td>\n      <td>Minor dent/scratches</td>\n      <td>CA CQ</td>\n      <td>...</td>\n      <td>COROLLA</td>\n      <td>NaN</td>\n      <td>58384.0</td>\n      <td>51</td>\n      <td>Alameda, CA</td>\n      <td>TOYOTA_COROLLA_1969</td>\n      <td>8500.0</td>\n      <td>2500.0</td>\n      <td>NaN</td>\n      <td>CA</td>\n    </tr>\n    <tr>\n      <th>155111</th>\n      <td>NaN</td>\n      <td>2016-11-15</td>\n      <td>1969 Toyota COROLLA</td>\n      <td>CT - HARTFORD</td>\n      <td>58384 A</td>\n      <td>15000.0</td>\n      <td>normal wear</td>\n      <td>NaN</td>\n      <td>NaN</td>\n      <td>CT BS</td>\n      <td>...</td>\n      <td>COROLLA</td>\n      <td>58384.0</td>\n      <td>58384.0</td>\n      <td>48</td>\n      <td>Hartford, CT</td>\n      <td>TOYOTA_COROLLA_1969</td>\n      <td>NaN</td>\n      <td>15000.0</td>\n      <td>NaN</td>\n      <td>CT</td>\n    </tr>\n    <tr>\n      <th>155906</th>\n      <td>9800.0</td>\n      <td>2016-02-12</td>\n      <td>1981 Toyota COROLLA DE</td>\n      <td>FL - TAMPA SOUTH</td>\n      <td>55888 E</td>\n      <td>4400.0</td>\n      <td>normal wear</td>\n      <td>NaN</td>\n      <td>NaN</td>\n      <td>FL CT</td>\n      <td>...</td>\n      <td>COROLLA</td>\n      <td>NaN</td>\n      <td>NaN</td>\n      <td>36</td>\n      <td>Hillsborough, FL</td>\n      <td>TOYOTA_COROLLA_1981</td>\n      <td>9800.0</td>\n      <td>4400.0</td>\n      <td>NaN</td>\n      <td>FL</td>\n    </tr>\n    <tr>\n      <th>155909</th>\n      <td>NaN</td>\n      <td>2013-09-05</td>\n      <td>1981 Toyota COROLLA DE</td>\n      <td>TX - AUSTIN</td>\n      <td>33494 E</td>\n      <td>800.0</td>\n      <td>mechanical</td>\n      <td>NaN</td>\n      <td>NaN</td>\n      <td>TX CT</td>\n      <td>...</td>\n      <td>COROLLA</td>\n      <td>NaN</td>\n      <td>NaN</td>\n      <td>33</td>\n      <td>Travis, TX</td>\n      <td>TOYOTA_COROLLA_1981</td>\n      <td>NaN</td>\n      <td>800.0</td>\n      <td>NaN</td>\n      <td>TX</td>\n    </tr>\n    <tr>\n      <th>155913</th>\n      <td>NaN</td>\n      <td>2015-11-09</td>\n      <td>1982 Toyota COROLLA DE</td>\n      <td>MA - SOUTH BOSTON</td>\n      <td>112252 E</td>\n      <td>1300.0</td>\n      <td>minor dent/scratches</td>\n      <td>NaN</td>\n      <td>NaN</td>\n      <td>CT CT</td>\n      <td>...</td>\n      <td>COROLLA</td>\n      <td>NaN</td>\n      <td>155122.0</td>\n      <td>34</td>\n      <td>Suffolk, MA</td>\n      <td>TOYOTA_COROLLA_1982</td>\n      <td>NaN</td>\n      <td>1300.0</td>\n      <td>NaN</td>\n      <td>MA</td>\n    </tr>\n    <tr>\n      <th>...</th>\n      <td>...</td>\n      <td>...</td>\n      <td>...</td>\n      <td>...</td>\n      <td>...</td>\n      <td>...</td>\n      <td>...</td>\n      <td>...</td>\n      <td>...</td>\n      <td>...</td>\n      <td>...</td>\n      <td>...</td>\n      <td>...</td>\n      <td>...</td>\n      <td>...</td>\n      <td>...</td>\n      <td>...</td>\n      <td>...</td>\n      <td>...</td>\n      <td>...</td>\n      <td>...</td>\n    </tr>\n    <tr>\n      <th>301121</th>\n      <td>11374.0</td>\n      <td>2019-09-16</td>\n      <td>2018 Toyota COROLLA L</td>\n      <td>GA - ATLANTA EAST</td>\n      <td>71842 A</td>\n      <td>3300.0</td>\n      <td>rear end</td>\n      <td>16870.0</td>\n      <td>NaN</td>\n      <td>GA ST</td>\n      <td>...</td>\n      <td>COROLLA</td>\n      <td>71842.0</td>\n      <td>71842.0</td>\n      <td>2</td>\n      <td>Fulton, GA</td>\n      <td>TOYOTA_COROLLA_2018</td>\n      <td>11374.0</td>\n      <td>3300.0</td>\n      <td>16870.0</td>\n      <td>GA</td>\n    </tr>\n    <tr>\n      <th>301126</th>\n      <td>15268.0</td>\n      <td>2019-09-13</td>\n      <td>2018 Toyota COROLLA L</td>\n      <td>CA - SAN DIEGO</td>\n      <td>9150 A</td>\n      <td>4800.0</td>\n      <td>front end</td>\n      <td>NaN</td>\n      <td>Minor dent/scratches</td>\n      <td>CA SC</td>\n      <td>...</td>\n      <td>COROLLA</td>\n      <td>9150.0</td>\n      <td>9150.0</td>\n      <td>2</td>\n      <td>San Diego, CA</td>\n      <td>TOYOTA_COROLLA_2018</td>\n      <td>15268.0</td>\n      <td>4800.0</td>\n      <td>NaN</td>\n      <td>CA</td>\n    </tr>\n    <tr>\n      <th>301130</th>\n      <td>16825.0</td>\n      <td>2019-09-12</td>\n      <td>2018 Toyota COROLLA L</td>\n      <td>NM - ALBUQUERQUE</td>\n      <td>0 N</td>\n      <td>2250.0</td>\n      <td>all over</td>\n      <td>NaN</td>\n      <td>Biohazard/chemical</td>\n      <td>NM ST</td>\n      <td>...</td>\n      <td>COROLLA</td>\n      <td>NaN</td>\n      <td>71842.0</td>\n      <td>2</td>\n      <td>Bernalillo, NM</td>\n      <td>TOYOTA_COROLLA_2018</td>\n      <td>16825.0</td>\n      <td>2250.0</td>\n      <td>NaN</td>\n      <td>NM</td>\n    </tr>\n    <tr>\n      <th>301134</th>\n      <td>NaN</td>\n      <td>2019-09-10</td>\n      <td>2018 Toyota COROLLA L</td>\n      <td>FL - MIAMI SOUTH</td>\n      <td>14755 A</td>\n      <td>7400.0</td>\n      <td>rear end</td>\n      <td>10464.0</td>\n      <td>Front end</td>\n      <td>FL RB</td>\n      <td>...</td>\n      <td>COROLLA</td>\n      <td>14755.0</td>\n      <td>14755.0</td>\n      <td>2</td>\n      <td>Miami-Dade, FL</td>\n      <td>TOYOTA_COROLLA_2018</td>\n      <td>NaN</td>\n      <td>7400.0</td>\n      <td>10464.0</td>\n      <td>FL</td>\n    </tr>\n    <tr>\n      <th>301136</th>\n      <td>15095.0</td>\n      <td>2019-09-10</td>\n      <td>2018 Toyota COROLLA L</td>\n      <td>GA - TIFTON</td>\n      <td>6734 A</td>\n      <td>5900.0</td>\n      <td>front end</td>\n      <td>NaN</td>\n      <td>Rear end</td>\n      <td>GA ST</td>\n      <td>...</td>\n      <td>COROLLA</td>\n      <td>6734.0</td>\n      <td>6734.0</td>\n      <td>2</td>\n      <td>Tift, GA</td>\n      <td>TOYOTA_COROLLA_2018</td>\n      <td>15095.0</td>\n      <td>5900.0</td>\n      <td>NaN</td>\n      <td>GA</td>\n    </tr>\n  </tbody>\n</table>\n<p>24807 rows × 25 columns</p>\n</div>"
     },
     "metadata": {},
     "execution_count": 108
    }
   ],
   "source": [
    "(filtred.drop('State',axis=1)\n",
    "                    .join(filtred['County'].str.split(', ',expand=True)[1]\n",
    "                    .rename('State')))"
   ]
  },
  {
   "cell_type": "code",
   "execution_count": null,
   "metadata": {},
   "outputs": [],
   "source": [
    "out_df.groupby('Make')['Model_Year'].count().sort_values(ascending=False)[:60]"
   ]
  },
  {
   "cell_type": "code",
   "execution_count": null,
   "metadata": {},
   "outputs": [],
   "source": []
  },
  {
   "cell_type": "code",
   "execution_count": null,
   "metadata": {},
   "outputs": [],
   "source": [
    "#explore outlyers for \n",
    "var_to_plot ='Model_Age'\n",
    "fig, ax = plt.subplots(1,2,figsize=(7,5))\n",
    "out_df[var_to_plot].plot.box(ax=ax[0])\n",
    "out_df[var_to_plot].plot.box(ax=ax[1],showfliers =False)\n",
    "\n",
    "\n",
    "fig.suptitle(var_to_plot)"
   ]
  },
  {
   "cell_type": "code",
   "execution_count": null,
   "metadata": {},
   "outputs": [],
   "source": [
    "# filterd_acv = out_df[var_to_plot]\n",
    "# filterd_acv_round = filterd_acv\n",
    "\n",
    "\n",
    "# filterd_acv_round_vc = filterd_acv_round.value_counts().to_frame().reset_index().rename({'index':'level' , var_to_plot:'count'}, axis=1)\n",
    "# filterd_acv_round_vc.to_csv('csv/outly.csv', index=False)"
   ]
  },
  {
   "cell_type": "code",
   "execution_count": null,
   "metadata": {},
   "outputs": [],
   "source": [
    "#histogram\n",
    "\n",
    "s = 20\n",
    "e = 80\n",
    "#display modes of the distribution \n",
    "try:\n",
    "    filterd_acv = out_df[var_to_plot].loc[(out_df[var_to_plot] >s )& (out_df[var_to_plot] <e)]\n",
    "\n",
    "    print('Counts:\\n#>100k:'\n",
    "                ,len(out_df[var_to_plot].loc[out_df[var_to_plot]>=1e5]))\n",
    "\n",
    "except:\n",
    "    filterd_acv = out_df[var_to_plot]\n",
    "\n",
    "\n",
    "\n",
    "\n",
    "n = 1\n",
    "filterd_acv_round = (filterd_acv // n ) * n\n",
    "\n",
    "filterd_acv.plot.hist(title= var_to_plot+f' (between {s} and {e})',color='k', alpha=.4)\n",
    "\n",
    "filterd_acv_round_vc = filterd_acv_round.value_counts().to_frame().reset_index().rename({'index':'level' , var_to_plot:'count'}, axis=1)\n",
    "filterd_acv_round_vc.to_csv('csv/outly.csv', index=False)\n",
    "# filterd_acv_round_vc"
   ]
  },
  {
   "cell_type": "code",
   "execution_count": null,
   "metadata": {},
   "outputs": [],
   "source": [
    "\n",
    "\n",
    "#plot a histogram of observed cash_values\n",
    "fig= plt.figure()\n",
    "ax = filterd_acv.plot.hist()\n",
    "ax.set(title = 'Histogram for Actual_Cash_Value < 10k');\n",
    "\n",
    "\n",
    "\n",
    ""
   ]
  },
  {
   "cell_type": "code",
   "execution_count": null,
   "metadata": {},
   "outputs": [],
   "source": [
    "#fit  normat distribution\n",
    "\n",
    "from scipy import stats\n",
    "\n",
    "x = np.linspace(0,filterd_acv.max(),len(filterd_acv))\n",
    "mu , std = stats.norm.fit(filterd_acv.values)\n",
    "\n",
    "ax = filterd_acv.plot.hist(normed=True)\n",
    "plt.plot(x, stats.norm.pdf(x , mu, std))\n",
    "ax.set(title = 'Histogram for Actual_Cash_Value < 10k');\n",
    "print('K-S p-value:', stats.kstest(filterd_acv.values , 'norm')[1])\n",
    "\n",
    ""
   ]
  },
  {
   "cell_type": "code",
   "execution_count": null,
   "metadata": {},
   "outputs": [],
   "source": [
    "\n",
    "out_df['Model_Age'].describe().astype(int)"
   ]
  },
  {
   "cell_type": "code",
   "execution_count": null,
   "metadata": {},
   "outputs": [],
   "source": [
    "#model_age\n",
    "#check model age statsВ\n",
    "\n",
    "out_df.loc[out_df['Model_Age'].loc[out_df['Model_Age']<0].index]"
   ]
  },
  {
   "cell_type": "code",
   "execution_count": null,
   "metadata": {},
   "outputs": [],
   "source": [
    "\n",
    "numerical_fields =  ['Actual_Cash_Value'\n",
    "               ,'Auction_Year'\n",
    "       #'Odometer'\n",
    "       , 'Price_Sold_or_Highest_Bid'\n",
    "       , 'Repair_Cost'\n",
    "        ,'Odometer_Null','Odometer_Replace'\n",
    "        ,'Model_Age'\n",
    "        ]\n",
    "\n",
    "categorical_variables = ['Prim_Damage','Make','Model'\n",
    "]\n",
    ""
   ]
  },
  {
   "cell_type": "code",
   "execution_count": null,
   "metadata": {
    "tags": [
     "outputPrepend"
    ]
   },
   "outputs": [],
   "source": [
    "#categories for all categorical variables \n",
    "\n",
    "# categorial_variables = ['Prim_Damage'\n",
    "#                         ,'Sec_Damage'\n",
    "#                         ,'Make'\n",
    "#                         ,'Model' # - to many categories >2000\n",
    "#\n",
    "                        #  ]  \n",
    "out_df[categorical_variables]  =out_df[categorical_variables].astype('category')\n",
    "\n",
    "print(out_df[categorical_variables].describe().to_string(),'\\n\\n')\n",
    "\n",
    "cat_df = {}\n",
    "for col in categorical_variables:\n",
    "    print(col, ' - ', out_df[col].cat.categories.tolist(),'\\n')\n",
    "    cat_df[col] = out_df[col].cat.categories.tolist()\n",
    ""
   ]
  },
  {
   "cell_type": "code",
   "execution_count": null,
   "metadata": {},
   "outputs": [],
   "source": [
    "model_year_count = out_df['Model_Year'].value_counts()\n",
    "print('total count:',out_df.shape[0],'\\ntotal count (model_year >= 2000):', out_df.loc[out_df.Model_Year >=2000].shape[0])\n",
    "model_year_count.head(20)Z"
   ]
  },
  {
   "cell_type": "code",
   "execution_count": null,
   "metadata": {},
   "outputs": [],
   "source": [
    "out_df.columns"
   ]
  },
  {
   "cell_type": "code",
   "execution_count": null,
   "metadata": {},
   "outputs": [],
   "source": [
    "out_df_describe = out_df[numerical_fields].describe(percentiles =[.01,.25, .5, .75,.99]).T\n",
    "\n",
    "out_df_describe.to_csv('csv/summary_statistics.csv')\n",
    "\n",
    "out_df_describe"
   ]
  },
  {
   "cell_type": "code",
   "execution_count": null,
   "metadata": {},
   "outputs": [],
   "source": [
    "#Correlation Analysis\n",
    "corr_table = out_df[numerical_fields].corr()\n",
    "\n",
    "corr_table.to_csv('csv/correlation.csv')\n",
    "\n",
    "corr_table"
   ]
  },
  {
   "cell_type": "code",
   "execution_count": null,
   "metadata": {},
   "outputs": [],
   "source": [
    "numerical_fields_bins = {'Actual_Cash_Value' : [],\n",
    "'Price_Sold_or_Highest_Bid': [],\n",
    "'Repair_Cost': [],\n",
    "'Odometer_Null': [],\n",
    "'Odometer_Replace': [],\n",
    "'Model_Age': }"
   ]
  },
  {
   "cell_type": "code",
   "execution_count": null,
   "metadata": {},
   "outputs": [],
   "source": [
    "#histomgram for conitnuous variables\n",
    "fig , axs = plt.subplots(len(numerical_fields) ,2, figsize=(12,29),sharex=False)\n",
    "\n",
    "\n",
    "i=0\n",
    "for var in numerical_fields:\n",
    "    # hist_df_lb ,hist_df_hb = out_df[var].loc[lambda x: x <=3e4] , out_df[var].loc[lambda x: x >=1e4]\n",
    "    df_to_print = (out_df[var] // 100).value_counts().to_frame().sort_values(by=var)\n",
    "    df_to_print.to_csv(f'csv/{var}_hist.csv')\n",
    "    print(df_to_print)\n",
    "    # hist_df_lb.plot.hist(bins=10, ax= axs[i][0])\n",
    "    # hist_df_hb.plot.hist(bins=10, ax= axs[i][1])\n",
    "    \n",
    "    # axs[i][0].set(title = var + ' <100k bin')\n",
    "    # axs[i][1].set(title = var + ' >100k bin')\n",
    "    i+=1"
   ]
  },
  {
   "cell_type": "code",
   "execution_count": null,
   "metadata": {},
   "outputs": [],
   "source": [
    "#market size\n",
    "\n",
    "market_size = out_df.groupby(out_df['Auction_Date'].dt.year)['Actual_Cash_Value'].sum()\n",
    "\n",
    "market_size =  market_size / 1000000\n",
    "\n",
    "print(market_size.to_string())\n",
    "plt.figure(figsize=(10,4))\n",
    "ax = market_size.plot.bar()\n",
    "ax.set(title='Market Size', ylabel='$, millions');"
   ]
  },
  {
   "cell_type": "code",
   "execution_count": null,
   "metadata": {},
   "outputs": [],
   "source": [
    "out_df[categorical_variables]\n",
    "\n",
    "from DataProcessing.DataStats import get_df_stats\n",
    "\n",
    "get_df_stats(out_df[categorical_variables])"
   ]
  },
  {
   "cell_type": "code",
   "execution_count": null,
   "metadata": {},
   "outputs": [],
   "source": [
    "out_df.columns"
   ]
  },
  {
   "cell_type": "code",
   "execution_count": null,
   "metadata": {},
   "outputs": [],
   "source": [
    "#value distribution for Description \n",
    "\n",
    "desc_val_dist = out_df['Description'].value_counts()\n",
    "\n",
    "desc_val_dist[:30]"
   ]
  },
  {
   "cell_type": "code",
   "execution_count": null,
   "metadata": {},
   "outputs": [],
   "source": [
    "#value distribution for Prim Damage \n",
    "\n",
    "prim_val_dist = out_df['Prim_Damage'].value_counts()\n",
    "\n",
    "prim_val_dist[:30]"
   ]
  },
  {
   "cell_type": "code",
   "execution_count": null,
   "metadata": {},
   "outputs": [],
   "source": [
    "#summary statistics conditions on Prim_Damage\n",
    "\n",
    "cond_on_primd = out_df.groupby('Prim_Damage').agg(['mean','var']).stack().sort_index(level=1)\n",
    "cond_on_primd.index = ['{} - {}'.format(j, i) for i, j in cond_on_primd.index]\n",
    "cond_on_primd"
   ]
  },
  {
   "cell_type": "code",
   "execution_count": null,
   "metadata": {},
   "outputs": [],
   "source": [
    "#summary statistics conditions on Make\n",
    "\n",
    "cond_on_make = out_df.groupby('Make').agg(['mean','var']).stack().sort_index(level=1)\n",
    "cond_on_make.index = ['{} - {}'.format(j, i) for i, j in cond_on_make.index]\n",
    "cond_on_make.to_csv('csv/temp.csv')"
   ]
  },
  {
   "cell_type": "code",
   "execution_count": null,
   "metadata": {},
   "outputs": [],
   "source": [
    "with pd.option_context('display.max_rows', None, 'display.max_columns', None):  # more options can be specified also\n",
    "    print(cond_on_make)"
   ]
  },
  {
   "cell_type": "code",
   "execution_count": null,
   "metadata": {},
   "outputs": [],
   "source": [
    "by_couny = (car_demo_joined.reset_index()\n",
    "             .groupby('County')['index']\n",
    "             .count().sort_values(ascending=False)\n",
    "           )\n",
    "\n",
    "print(by_couny.to_string())"
   ]
  },
  {
   "cell_type": "code",
   "execution_count": null,
   "metadata": {},
   "outputs": [],
   "source": [
    "plt.figure()\n",
    "ax = by_couny[:20].plot.bar()\n",
    "ax.set(title='Top 20 Counties by # records',ylabel='# observations');"
   ]
  },
  {
   "cell_type": "code",
   "execution_count": null,
   "metadata": {},
   "outputs": [],
   "source": [
    "#categories for all categorical variables \n",
    "# categorial_variables = ['Prim_Damage'\n",
    "#                         ,'Sec_Damage'\n",
    "#                         ,'Make'\n",
    "#                         ,'Model' # - to many categories >2000\n",
    "#\n",
    "                        #  ]  \n",
    "out_df[categorial_variables]  =out_df[categorial_variables].astype('category')\n",
    "\n",
    "print(out_df[categorial_variables].describe().to_string(),'\\n\\n')\n",
    "\n",
    "cat_df = {}\n",
    "for col in categorial_variables:\n",
    "    print(col, ' - ', out_df[col].cat.categories.tolist(),'\\n')\n",
    "    cat_df[col] = out_df[col].cat.categories.tolist()\n"
   ]
  },
  {
   "cell_type": "code",
   "execution_count": null,
   "metadata": {},
   "outputs": [],
   "source": [
    "\n"
   ]
  }
 ],
 "metadata": {
  "kernelspec": {
   "display_name": "Python 3.7.6 64-bit ('sc-research': conda)",
   "language": "python",
   "name": "python37664bitscresearchconda2d2e4dda169440c0a50b32c55aebe5a5"
  },
  "language_info": {
   "codemirror_mode": {
    "name": "ipython",
    "version": 3
   },
   "file_extension": ".py",
   "mimetype": "text/x-python",
   "name": "python",
   "nbconvert_exporter": "python",
   "pygments_lexer": "ipython3",
   "version": "3.7.6-final"
  }
 },
 "nbformat": 4,
 "nbformat_minor": 4
}